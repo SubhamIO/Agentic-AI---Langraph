{
 "cells": [
  {
   "cell_type": "markdown",
   "id": "65633d4d",
   "metadata": {},
   "source": [
    "## Importing Dependencies"
   ]
  },
  {
   "cell_type": "code",
   "execution_count": 93,
   "id": "1023c2b3",
   "metadata": {},
   "outputs": [],
   "source": [
    "\n",
    "from langgraph.graph import StateGraph, START, END\n",
    "from typing import TypedDict, Literal\n",
    "from langchain_core.runnables import Runnable\n",
    "from langchain_openai import ChatOpenAI\n",
    "from langchain_core.messages import AIMessage, HumanMessage\n",
    "import os\n",
    "from dotenv import load_dotenv\n",
    "from langchain_groq import ChatGroq\n",
    "from langchain_huggingface import HuggingFaceEmbeddings\n",
    "from langchain_core.tools import tool\n",
    "from langchain_community.document_loaders import PyPDFLoader\n",
    "from langchain_text_splitters import RecursiveCharacterTextSplitter\n",
    "from langchain_community.vectorstores import Chroma\n",
    "from langchain_community.utilities.tavily_search import TavilySearchAPIWrapper\n"
   ]
  },
  {
   "cell_type": "markdown",
   "id": "37c99d0c",
   "metadata": {},
   "source": [
    "## Import the keys and define the LLM model and Embedding model"
   ]
  },
  {
   "cell_type": "code",
   "execution_count": 94,
   "id": "8f7d7c9e",
   "metadata": {},
   "outputs": [],
   "source": [
    "load_dotenv()\n",
    "groq_api_key = os.getenv(\"GROQ_API_KEY\")\n",
    "\n",
    "TAVILY_API_KEY = os.getenv(\"TAVILY_API_KEY\")\n",
    "os.environ['TAVILY_API_KEY'] = TAVILY_API_KEY\n",
    "\n",
    "os.environ['HF_TOKEN']=os.getenv(\"HF_TOKEN\")\n",
    "\n",
    "llm = ChatGroq(groq_api_key=groq_api_key, model=\"llama-3.1-8b-instant\", temperature=0)\n",
    "embedding_model=HuggingFaceEmbeddings(model_name=\"all-MiniLM-L6-v2\")\n"
   ]
  },
  {
   "cell_type": "markdown",
   "id": "f66cd340",
   "metadata": {},
   "source": [
    "## Define Agent State schema"
   ]
  },
  {
   "cell_type": "code",
   "execution_count": 95,
   "id": "e7790b1d",
   "metadata": {},
   "outputs": [],
   "source": [
    "# State definition\n",
    "class AgentState(TypedDict):\n",
    "    query: str\n",
    "    context: str\n",
    "    route: Literal[\"rag\", \"web_search\", \"llm\"]\n"
   ]
  },
  {
   "cell_type": "markdown",
   "id": "0f393e69",
   "metadata": {},
   "source": [
    "## Define the Web search agent"
   ]
  },
  {
   "cell_type": "code",
   "execution_count": 117,
   "id": "42aa76d6",
   "metadata": {},
   "outputs": [],
   "source": [
    "# Web search setup\n",
    "tavily_search = TavilySearchAPIWrapper()\n",
    "\n",
    "def web_search_agent(state: AgentState) -> AgentState:\n",
    "    try:\n",
    "        results = tavily_search.results(state[\"query\"], max_results=5)\n",
    "        snippets = \"\\n\\n\".join([r[\"content\"] for r in results])\n",
    "        answer = f\"Web search results:\\n{snippets}\"\n",
    "    except Exception as e:\n",
    "        answer = f\"Web search failed: {e}\"\n",
    "    return {\"query\": state[\"query\"], \"route\": \"web_search\", \"context\": answer}\n",
    "\n"
   ]
  },
  {
   "cell_type": "markdown",
   "id": "6bdadd9e",
   "metadata": {},
   "source": [
    "## Define the RAG Agent"
   ]
  },
  {
   "cell_type": "code",
   "execution_count": 118,
   "id": "e55c19af",
   "metadata": {},
   "outputs": [],
   "source": [
    "# PDF loading and vector store\n",
    "pdf_folder_path = \"./pdf_files\"\n",
    "persist_dir = \"./chroma_db\"\n",
    "\n",
    "def load_and_split_documents():\n",
    "    documents = []\n",
    "    for file_name in os.listdir(pdf_folder_path):\n",
    "        if file_name.lower().endswith(\".pdf\"):\n",
    "            loader = PyPDFLoader(os.path.join(pdf_folder_path, file_name))\n",
    "            docs = loader.load()\n",
    "            documents.extend(docs)\n",
    "    splitter = RecursiveCharacterTextSplitter(chunk_size=3000, chunk_overlap=200)\n",
    "    return splitter.split_documents(documents)\n",
    "\n",
    "def setup_chroma_vectorstore():\n",
    "    if not os.path.exists(persist_dir) or not os.listdir(persist_dir):\n",
    "        print(\"🔧 Initializing new Chroma DB...\")\n",
    "        splits = load_and_split_documents()\n",
    "        Chroma.from_documents(\n",
    "            documents=splits,\n",
    "            embedding=embedding_model,\n",
    "            collection_name=\"rag-chroma\",\n",
    "            persist_directory=persist_dir\n",
    "        )\n",
    "    return Chroma(\n",
    "        persist_directory=persist_dir,\n",
    "        embedding_function=embedding_model,\n",
    "        collection_name=\"rag-chroma\"\n",
    "    )\n",
    "\n",
    "vectorstore = setup_chroma_vectorstore()\n",
    "retriever = vectorstore.as_retriever()\n",
    "\n",
    "def rag_agent(state: AgentState) -> AgentState:\n",
    "    docs = retriever.get_relevant_documents(state[\"query\"])\n",
    "    context = \"\\n\\n---\\n\\n\".join(doc.page_content for doc in docs[:5])\n",
    "    return {\"query\": state[\"query\"], \"route\": \"rag\", \"context\": context}"
   ]
  },
  {
   "cell_type": "markdown",
   "id": "93b73c2d",
   "metadata": {},
   "source": [
    "## Define Routing Agent\n",
    "- For example: ‘Latest’, ‘current’ in query leads to websearch \n",
    "otherwise RAG."
   ]
  },
  {
   "cell_type": "code",
   "execution_count": 119,
   "id": "697ad6e9",
   "metadata": {},
   "outputs": [],
   "source": [
    "def route_decision(state: AgentState) -> str:\n",
    "    query = state[\"query\"].lower()\n",
    "    if any(k in query for k in [\"latest\", \"current\", \"today\", \"202\", \"news\"]):\n",
    "        route = \"web_search\"\n",
    "    elif any(k in query for k in [\"transformer\", \"attention\", \"encoder\", \"decoder\"]):\n",
    "        route = \"rag\"\n",
    "    else:\n",
    "        route = \"llm\"\n",
    "    \n",
    "    print(f\"📍 Routing to node: {route.upper()} for query → '{state['query']}'\")\n",
    "    return route\n"
   ]
  },
  {
   "cell_type": "markdown",
   "id": "47857ebe",
   "metadata": {},
   "source": [
    "## Define LLM agent"
   ]
  },
  {
   "cell_type": "code",
   "execution_count": 120,
   "id": "968e408d",
   "metadata": {},
   "outputs": [],
   "source": [
    "def llm_agent(state: AgentState) -> AgentState:\n",
    "    messages = [HumanMessage(content=state[\"query\"])]\n",
    "    response = llm.invoke(messages)\n",
    "    return {\"query\": state[\"query\"], \"route\": \"llm\", \"context\": response.content.strip()}\n"
   ]
  },
  {
   "cell_type": "markdown",
   "id": "2acf2ae2",
   "metadata": {},
   "source": [
    "## Define Summarisation agent"
   ]
  },
  {
   "cell_type": "code",
   "execution_count": 121,
   "id": "052bbcc7",
   "metadata": {},
   "outputs": [],
   "source": [
    "def summarization_agent(state: AgentState) -> AgentState:\n",
    "    prompt = f\"\"\"Query: {state['query']}\n",
    "\n",
    "Context:\n",
    "{state['context']}\n",
    "\n",
    "Summarize the above in a clear, concise, factual response.\"\"\"\n",
    "    messages = [\n",
    "        HumanMessage(content=prompt),\n",
    "    ]\n",
    "    response = llm.invoke(messages)\n",
    "    return {\n",
    "        \"query\": state[\"query\"],\n",
    "        \"route\": state[\"route\"],\n",
    "        \"context\": response.content.strip()\n",
    "    }"
   ]
  },
  {
   "cell_type": "markdown",
   "id": "35feb460",
   "metadata": {},
   "source": [
    "## Build Langgraph pipeline - memory added"
   ]
  },
  {
   "cell_type": "code",
   "execution_count": 130,
   "id": "72961c73",
   "metadata": {},
   "outputs": [
    {
     "data": {
      "text/plain": [
       "<langgraph.graph.state.StateGraph at 0x1457acbd0>"
      ]
     },
     "execution_count": 130,
     "metadata": {},
     "output_type": "execute_result"
    }
   ],
   "source": [
    "# LangGraph pipeline\n",
    "from langgraph.checkpoint.memory import MemorySaver\n",
    "\n",
    "builder = StateGraph(AgentState)\n",
    "\n",
    "builder.add_node(\"router\", lambda x: x) ## pass\n",
    "builder.add_node(\"rag\", rag_agent)\n",
    "builder.add_node(\"web_search\", web_search_agent)\n",
    "builder.add_node(\"llm\", llm_agent)\n",
    "builder.add_node(\"summarize\", summarization_agent)"
   ]
  },
  {
   "cell_type": "code",
   "execution_count": null,
   "id": "c7f92087",
   "metadata": {},
   "outputs": [],
   "source": [
    "builder.set_entry_point(\"router\")\n",
    "\n",
    "builder.add_conditional_edges(\n",
    "    \"router\",\n",
    "    route_decision, # if return string is rag or web_search or llm --> route them to respective nodes\n",
    "    {\n",
    "        \"rag\": \"rag\",\n",
    "        \"web_search\": \"web_search\",\n",
    "        \"llm\": \"llm\"\n",
    "    }\n",
    ")\n",
    "\n",
    "builder.add_edge(\"rag\", \"summarize\")\n",
    "builder.add_edge(\"web_search\", \"summarize\")\n",
    "builder.add_edge(\"llm\", \"summarize\")\n",
    "\n",
    "builder.set_finish_point(\"summarize\")\n",
    "\n",
    "memory = MemorySaver()\n",
    "graph = builder.compile(checkpointer=memory) ## memory checkpointer"
   ]
  },
  {
   "cell_type": "code",
   "execution_count": 132,
   "id": "8a7a7816",
   "metadata": {},
   "outputs": [
    {
     "data": {
      "image/png": "[encoded data removed]",
      "text/plain": [
       "<IPython.core.display.Image object>"
      ]
     },
     "metadata": {},
     "output_type": "display_data"
    }
   ],
   "source": [
    "from IPython.display import Image, display\n",
    "\n",
    "display(Image(graph.get_graph().draw_mermaid_png()))"
   ]
  },
  {
   "cell_type": "markdown",
   "id": "f80e10e8",
   "metadata": {},
   "source": [
    "## Invoke"
   ]
  },
  {
   "cell_type": "code",
   "execution_count": 136,
   "id": "a66b5cf3",
   "metadata": {},
   "outputs": [],
   "source": [
    "def call_support_agent(agent, prompt, user_session_id, verbose=False):\n",
    "    events = agent.stream(\n",
    "        {\"query\": prompt}, # initial state of the agent\n",
    "        {\"configurable\": {\"thread_id\": user_session_id}},\n",
    "        stream_mode=\"values\",\n",
    "    )\n",
    "\n",
    "    print('Running Agent. Please wait...')\n",
    "    for event in events:\n",
    "        if verbose:\n",
    "                print(event)\n",
    "\n",
    "    display(Markdown(event['context']))"
   ]
  },
  {
   "cell_type": "markdown",
   "id": "c73f0d66",
   "metadata": {},
   "source": [
    "## Lets see examples of routing"
   ]
  },
  {
   "cell_type": "markdown",
   "id": "afe180d9",
   "metadata": {},
   "source": [
    "### when it uses RAG"
   ]
  },
  {
   "cell_type": "code",
   "execution_count": 137,
   "id": "61a90f8a",
   "metadata": {},
   "outputs": [
    {
     "name": "stdout",
     "output_type": "stream",
     "text": [
      "Running Agent. Please wait...\n",
      "{'query': 'What are the advantages of multi-head attention in transformers?', 'context': 'The advantages of multi-head attention in transformers include:\\n\\n1. **Joint attention to different representation subspaces**: Multi-head attention allows the model to attend to information from different subspaces at different positions, which is not possible with a single attention head.\\n2. **Reduced dimensionality**: By reducing the dimensionality of each head, the total computational cost is similar to that of single-head attention with full dimensionality.\\n3. **Improved ability to capture long-distance dependencies**: Multi-head attention enables the model to capture long-distance dependencies in the input sequence, as shown in Figure 3.\\n4. **Enhanced ability to resolve anaphora**: Multi-head attention also enables the model to resolve anaphora, as shown in Figure 4.\\n5. **Flexibility in attention mechanisms**: Multi-head attention allows for different attention mechanisms to be used in different layers, such as encoder-decoder attention, self-attention, and masked self-attention.\\n\\nOverall, multi-head attention is a key component of the transformer architecture that enables the model to capture complex relationships between input tokens and generate more accurate and informative outputs.', 'route': 'rag'}\n",
      "📍 Routing to node: RAG for query → 'What are the advantages of multi-head attention in transformers?'\n",
      "{'query': 'What are the advantages of multi-head attention in transformers?', 'context': 'The advantages of multi-head attention in transformers include:\\n\\n1. **Joint attention to different representation subspaces**: Multi-head attention allows the model to attend to information from different subspaces at different positions, which is not possible with a single attention head.\\n2. **Reduced dimensionality**: By reducing the dimensionality of each head, the total computational cost is similar to that of single-head attention with full dimensionality.\\n3. **Improved ability to capture long-distance dependencies**: Multi-head attention enables the model to capture long-distance dependencies in the input sequence, as shown in Figure 3.\\n4. **Enhanced ability to resolve anaphora**: Multi-head attention also enables the model to resolve anaphora, as shown in Figure 4.\\n5. **Flexibility in attention mechanisms**: Multi-head attention allows for different attention mechanisms to be used in different layers, such as encoder-decoder attention, self-attention, and masked self-attention.\\n\\nOverall, multi-head attention is a key component of the transformer architecture that enables the model to capture complex relationships between input tokens and generate more accurate and informative outputs.', 'route': 'rag'}\n",
      "{'query': 'What are the advantages of multi-head attention in transformers?', 'context': 'output values. These are concatenated and once again projected, resulting in the final values, as\\ndepicted in Figure 2.\\nMulti-head attention allows the model to jointly attend to information from different representation\\nsubspaces at different positions. With a single attention head, averaging inhibits this.\\nMultiHead(Q, K, V) = Concat(head1, ...,headh)WO\\nwhere headi = Attention(QWQ\\ni , KWK\\ni , V WV\\ni )\\nWhere the projections are parameter matricesWQ\\ni ∈ Rdmodel×dk , WK\\ni ∈ Rdmodel×dk , WV\\ni ∈ Rdmodel×dv\\nand WO ∈ Rhdv×dmodel .\\nIn this work we employ h = 8 parallel attention layers, or heads. For each of these we use\\ndk = dv = dmodel/h = 64. Due to the reduced dimension of each head, the total computational cost\\nis similar to that of single-head attention with full dimensionality.\\n3.2.3 Applications of Attention in our Model\\nThe Transformer uses multi-head attention in three different ways:\\n• In \"encoder-decoder attention\" layers, the queries come from the previous decoder layer,\\nand the memory keys and values come from the output of the encoder. This allows every\\nposition in the decoder to attend over all positions in the input sequence. This mimics the\\ntypical encoder-decoder attention mechanisms in sequence-to-sequence models such as\\n[38, 2, 9].\\n• The encoder contains self-attention layers. In a self-attention layer all of the keys, values\\nand queries come from the same place, in this case, the output of the previous layer in the\\nencoder. Each position in the encoder can attend to all positions in the previous layer of the\\nencoder.\\n• Similarly, self-attention layers in the decoder allow each position in the decoder to attend to\\nall positions in the decoder up to and including that position. We need to prevent leftward\\ninformation flow in the decoder to preserve the auto-regressive property. We implement this\\ninside of scaled dot-product attention by masking out (setting to −∞) all values in the input\\nof the softmax which correspond to illegal connections. See Figure 2.\\n3.3 Position-wise Feed-Forward Networks\\nIn addition to attention sub-layers, each of the layers in our encoder and decoder contains a fully\\nconnected feed-forward network, which is applied to each position separately and identically. This\\nconsists of two linear transformations with a ReLU activation in between.\\nFFN(x) = max(0, xW1 + b1)W2 + b2 (2)\\nWhile the linear transformations are the same across different positions, they use different parameters\\nfrom layer to layer. Another way of describing this is as two convolutions with kernel size 1.\\nThe dimensionality of input and output is dmodel = 512, and the inner-layer has dimensionality\\ndff = 2048.\\n3.4 Embeddings and Softmax\\nSimilarly to other sequence transduction models, we use learned embeddings to convert the input\\ntokens and output tokens to vectors of dimension dmodel. We also use the usual learned linear transfor-\\nmation and softmax function to convert the decoder output to predicted next-token probabilities. In\\n\\n---\\n\\nFigure 1: The Transformer - model architecture.\\nThe Transformer follows this overall architecture using stacked self-attention and point-wise, fully\\nconnected layers for both the encoder and decoder, shown in the left and right halves of Figure 1,\\nrespectively.\\n3.1 Encoder and Decoder Stacks\\nEncoder: The encoder is composed of a stack of N = 6 identical layers. Each layer has two\\nsub-layers. The first is a multi-head self-attention mechanism, and the second is a simple, position-\\nwise fully connected feed-forward network. We employ a residual connection [11] around each of\\nthe two sub-layers, followed by layer normalization [ 1]. That is, the output of each sub-layer is\\nLayerNorm(x + Sublayer(x)), where Sublayer(x) is the function implemented by the sub-layer\\nitself. To facilitate these residual connections, all sub-layers in the model, as well as the embedding\\nlayers, produce outputs of dimension dmodel = 512.\\nDecoder: The decoder is also composed of a stack of N = 6identical layers. In addition to the two\\nsub-layers in each encoder layer, the decoder inserts a third sub-layer, which performs multi-head\\nattention over the output of the encoder stack. Similar to the encoder, we employ residual connections\\naround each of the sub-layers, followed by layer normalization. We also modify the self-attention\\nsub-layer in the decoder stack to prevent positions from attending to subsequent positions. This\\nmasking, combined with fact that the output embeddings are offset by one position, ensures that the\\npredictions for position i can depend only on the known outputs at positions less than i.\\n3.2 Attention\\nAn attention function can be described as mapping a query and a set of key-value pairs to an output,\\nwhere the query, keys, values, and output are all vectors. The output is computed as a weighted sum\\n3\\n\\n---\\n\\nAttention Visualizations\\nInput-Input Layer5\\nIt\\nis\\nin\\nthis\\nspirit\\nthat\\na\\nmajority\\nof\\nAmerican\\ngovernments\\nhave\\npassed\\nnew\\nlaws\\nsince\\n2009\\nmaking\\nthe\\nregistration\\nor\\nvoting\\nprocess\\nmore\\ndifficult\\n.\\n<EOS>\\n<pad>\\n<pad>\\n<pad>\\n<pad>\\n<pad>\\n<pad>\\nIt\\nis\\nin\\nthis\\nspirit\\nthat\\na\\nmajority\\nof\\nAmerican\\ngovernments\\nhave\\npassed\\nnew\\nlaws\\nsince\\n2009\\nmaking\\nthe\\nregistration\\nor\\nvoting\\nprocess\\nmore\\ndifficult\\n.\\n<EOS>\\n<pad>\\n<pad>\\n<pad>\\n<pad>\\n<pad>\\n<pad>\\nFigure 3: An example of the attention mechanism following long-distance dependencies in the\\nencoder self-attention in layer 5 of 6. Many of the attention heads attend to a distant dependency of\\nthe verb ‘making’, completing the phrase ‘making...more difficult’. Attentions here shown only for\\nthe word ‘making’. Different colors represent different heads. Best viewed in color.\\n13\\n\\n---\\n\\nInput-Input Layer5\\nThe\\nLaw\\nwill\\nnever\\nbe\\nperfect\\n,\\nbut\\nits\\napplication\\nshould\\nbe\\njust\\n-\\nthis\\nis\\nwhat\\nwe\\nare\\nmissing\\n,\\nin\\nmy\\nopinion\\n.\\n<EOS>\\n<pad>\\nThe\\nLaw\\nwill\\nnever\\nbe\\nperfect\\n,\\nbut\\nits\\napplication\\nshould\\nbe\\njust\\n-\\nthis\\nis\\nwhat\\nwe\\nare\\nmissing\\n,\\nin\\nmy\\nopinion\\n.\\n<EOS>\\n<pad>\\nInput-Input Layer5\\nThe\\nLaw\\nwill\\nnever\\nbe\\nperfect\\n,\\nbut\\nits\\napplication\\nshould\\nbe\\njust\\n-\\nthis\\nis\\nwhat\\nwe\\nare\\nmissing\\n,\\nin\\nmy\\nopinion\\n.\\n<EOS>\\n<pad>\\nThe\\nLaw\\nwill\\nnever\\nbe\\nperfect\\n,\\nbut\\nits\\napplication\\nshould\\nbe\\njust\\n-\\nthis\\nis\\nwhat\\nwe\\nare\\nmissing\\n,\\nin\\nmy\\nopinion\\n.\\n<EOS>\\n<pad>\\nFigure 4: Two attention heads, also in layer 5 of 6, apparently involved in anaphora resolution. Top:\\nFull attentions for head 5. Bottom: Isolated attentions from just the word ‘its’ for attention heads 5\\nand 6. Note that the attentions are very sharp for this word.\\n14', 'route': 'rag'}\n",
      "{'query': 'What are the advantages of multi-head attention in transformers?', 'context': 'The advantages of multi-head attention in transformers include:\\n\\n1. **Joint attention to different representation subspaces**: Multi-head attention allows the model to attend to information from different subspaces at different positions, which is not possible with a single attention head.\\n2. **Reduced dimensionality**: By reducing the dimensionality of each head, the total computational cost is similar to that of single-head attention with full dimensionality.\\n3. **Improved ability to capture long-distance dependencies**: Multi-head attention enables the model to capture long-distance dependencies in the input sequence, as shown in Figure 3.\\n4. **Enhanced ability to resolve anaphora**: Multi-head attention also enables the model to resolve anaphora, as shown in Figure 4.\\n5. **Flexibility in attention mechanisms**: Multi-head attention allows for different attention mechanisms to be used in different layers, such as encoder-decoder attention, self-attention, and masked self-attention.\\n\\nOverall, multi-head attention is a key component of the transformer architecture that enables the model to capture complex relationships between input tokens and generate more accurate and informative outputs.', 'route': 'rag'}\n"
     ]
    },
    {
     "data": {
      "text/markdown": [
       "The advantages of multi-head attention in transformers include:\n",
       "\n",
       "1. **Joint attention to different representation subspaces**: Multi-head attention allows the model to attend to information from different subspaces at different positions, which is not possible with a single attention head.\n",
       "2. **Reduced dimensionality**: By reducing the dimensionality of each head, the total computational cost is similar to that of single-head attention with full dimensionality.\n",
       "3. **Improved ability to capture long-distance dependencies**: Multi-head attention enables the model to capture long-distance dependencies in the input sequence, as shown in Figure 3.\n",
       "4. **Enhanced ability to resolve anaphora**: Multi-head attention also enables the model to resolve anaphora, as shown in Figure 4.\n",
       "5. **Flexibility in attention mechanisms**: Multi-head attention allows for different attention mechanisms to be used in different layers, such as encoder-decoder attention, self-attention, and masked self-attention.\n",
       "\n",
       "Overall, multi-head attention is a key component of the transformer architecture that enables the model to capture complex relationships between input tokens and generate more accurate and informative outputs."
      ],
      "text/plain": [
       "<IPython.core.display.Markdown object>"
      ]
     },
     "metadata": {},
     "output_type": "display_data"
    }
   ],
   "source": [
    "uid = 'subham001'\n",
    "query = \"What are the advantages of multi-head attention in transformers?\"\n",
    "call_support_agent(agent=graph,\n",
    "                   prompt=query,\n",
    "                   user_session_id=uid,\n",
    "                   verbose=True)"
   ]
  },
  {
   "cell_type": "markdown",
   "id": "36d83295",
   "metadata": {},
   "source": [
    "### when it uses LLM"
   ]
  },
  {
   "cell_type": "code",
   "execution_count": 138,
   "id": "69c30b18",
   "metadata": {},
   "outputs": [
    {
     "name": "stdout",
     "output_type": "stream",
     "text": [
      "Running Agent. Please wait...\n",
      "{'query': 'Get the stock price details of nvidia.', 'context': 'The advantages of multi-head attention in transformers include:\\n\\n1. **Joint attention to different representation subspaces**: Multi-head attention allows the model to attend to information from different subspaces at different positions, which is not possible with a single attention head.\\n2. **Reduced dimensionality**: By reducing the dimensionality of each head, the total computational cost is similar to that of single-head attention with full dimensionality.\\n3. **Improved ability to capture long-distance dependencies**: Multi-head attention enables the model to capture long-distance dependencies in the input sequence, as shown in Figure 3.\\n4. **Enhanced ability to resolve anaphora**: Multi-head attention also enables the model to resolve anaphora, as shown in Figure 4.\\n5. **Flexibility in attention mechanisms**: Multi-head attention allows for different attention mechanisms to be used in different layers, such as encoder-decoder attention, self-attention, and masked self-attention.\\n\\nOverall, multi-head attention is a key component of the transformer architecture that enables the model to capture complex relationships between input tokens and generate more accurate and informative outputs.', 'route': 'rag'}\n",
      "📍 Routing to node: LLM for query → 'Get the stock price details of nvidia.'\n",
      "{'query': 'Get the stock price details of nvidia.', 'context': 'The advantages of multi-head attention in transformers include:\\n\\n1. **Joint attention to different representation subspaces**: Multi-head attention allows the model to attend to information from different subspaces at different positions, which is not possible with a single attention head.\\n2. **Reduced dimensionality**: By reducing the dimensionality of each head, the total computational cost is similar to that of single-head attention with full dimensionality.\\n3. **Improved ability to capture long-distance dependencies**: Multi-head attention enables the model to capture long-distance dependencies in the input sequence, as shown in Figure 3.\\n4. **Enhanced ability to resolve anaphora**: Multi-head attention also enables the model to resolve anaphora, as shown in Figure 4.\\n5. **Flexibility in attention mechanisms**: Multi-head attention allows for different attention mechanisms to be used in different layers, such as encoder-decoder attention, self-attention, and masked self-attention.\\n\\nOverall, multi-head attention is a key component of the transformer architecture that enables the model to capture complex relationships between input tokens and generate more accurate and informative outputs.', 'route': 'rag'}\n",
      "{'query': 'Get the stock price details of nvidia.', 'context': 'I can provide you with the current stock price details of NVIDIA. However, please note that the stock prices may fluctuate rapidly and may not reflect the current market price.\\n\\nAs of my knowledge cutoff in December 2023, here are the stock price details of NVIDIA:\\n\\n**Company Information:**\\n- Company Name: NVIDIA Corporation\\n- Stock Symbol: NVDA\\n- Industry: Semiconductors\\n- Sector: Technology\\n\\n**Stock Price Details (as of December 2023):**\\n- Current Stock Price: $864.45 USD\\n- 52-Week High: $1,024.51 USD\\n- 52-Week Low: $644.55 USD\\n- Market Capitalization: $1.23 Trillion USD\\n- Dividend Yield: 0.23%\\n- P/E Ratio: 43.45\\n\\n**Historical Stock Price:**\\n- 1-Year Return: 44.45%\\n- 5-Year Return: 1,144.45%\\n- 10-Year Return: 2,444.45%\\n\\nPlease note that these figures are subject to change and may not reflect the current market price. For the most up-to-date information, I recommend checking a reliable financial website or platform, such as Yahoo Finance, Google Finance, or Bloomberg.\\n\\nTo get the current stock price, you can visit the following websites:\\n\\n- Yahoo Finance: [finance.yahoo.com](http://finance.yahoo.com)\\n- Google Finance: [finance.google.com](http://finance.google.com)\\n- Bloomberg: [www.bloomberg.com](http://www.bloomberg.com)\\n\\nPlease keep in mind that the stock market is subject to fluctuations, and the information provided may not reflect the current market conditions.', 'route': 'llm'}\n",
      "{'query': 'Get the stock price details of nvidia.', 'context': 'As of my knowledge cutoff in December 2023, the stock price details of NVIDIA Corporation (NVDA) are as follows:\\n\\n- Company Name: NVIDIA Corporation\\n- Stock Symbol: NVDA\\n- Industry: Semiconductors\\n- Sector: Technology\\n\\n**Stock Price Details:**\\n- Current Stock Price: $864.45 USD\\n- 52-Week High: $1,024.51 USD\\n- 52-Week Low: $644.55 USD\\n- Market Capitalization: $1.23 Trillion USD\\n- Dividend Yield: 0.23%\\n- P/E Ratio: 43.45\\n\\n**Historical Stock Price:**\\n- 1-Year Return: 44.45%\\n- 5-Year Return: 1,144.45%\\n- 10-Year Return: 2,444.45%\\n\\nPlease note that these figures are subject to change and may not reflect the current market price. For the most up-to-date information, I recommend checking a reliable financial website or platform.', 'route': 'llm'}\n"
     ]
    },
    {
     "data": {
      "text/markdown": [
       "As of my knowledge cutoff in December 2023, the stock price details of NVIDIA Corporation (NVDA) are as follows:\n",
       "\n",
       "- Company Name: NVIDIA Corporation\n",
       "- Stock Symbol: NVDA\n",
       "- Industry: Semiconductors\n",
       "- Sector: Technology\n",
       "\n",
       "**Stock Price Details:**\n",
       "- Current Stock Price: $864.45 USD\n",
       "- 52-Week High: $1,024.51 USD\n",
       "- 52-Week Low: $644.55 USD\n",
       "- Market Capitalization: $1.23 Trillion USD\n",
       "- Dividend Yield: 0.23%\n",
       "- P/E Ratio: 43.45\n",
       "\n",
       "**Historical Stock Price:**\n",
       "- 1-Year Return: 44.45%\n",
       "- 5-Year Return: 1,144.45%\n",
       "- 10-Year Return: 2,444.45%\n",
       "\n",
       "Please note that these figures are subject to change and may not reflect the current market price. For the most up-to-date information, I recommend checking a reliable financial website or platform."
      ],
      "text/plain": [
       "<IPython.core.display.Markdown object>"
      ]
     },
     "metadata": {},
     "output_type": "display_data"
    }
   ],
   "source": [
    "uid = 'subham001'\n",
    "query = \"Get the stock price details of nvidia.\"\n",
    "call_support_agent(agent=graph,\n",
    "                   prompt=query,\n",
    "                   user_session_id=uid,\n",
    "                   verbose=True)"
   ]
  },
  {
   "cell_type": "markdown",
   "id": "673575eb",
   "metadata": {},
   "source": [
    "### when it uses Web search"
   ]
  },
  {
   "cell_type": "code",
   "execution_count": 139,
   "id": "200454f0",
   "metadata": {},
   "outputs": [
    {
     "name": "stdout",
     "output_type": "stream",
     "text": [
      "Running Agent. Please wait...\n",
      "{'query': 'Get the stock price details of nvidia in 2025', 'context': 'As of my knowledge cutoff in December 2023, the stock price details of NVIDIA Corporation (NVDA) are as follows:\\n\\n- Company Name: NVIDIA Corporation\\n- Stock Symbol: NVDA\\n- Industry: Semiconductors\\n- Sector: Technology\\n\\n**Stock Price Details:**\\n- Current Stock Price: $864.45 USD\\n- 52-Week High: $1,024.51 USD\\n- 52-Week Low: $644.55 USD\\n- Market Capitalization: $1.23 Trillion USD\\n- Dividend Yield: 0.23%\\n- P/E Ratio: 43.45\\n\\n**Historical Stock Price:**\\n- 1-Year Return: 44.45%\\n- 5-Year Return: 1,144.45%\\n- 10-Year Return: 2,444.45%\\n\\nPlease note that these figures are subject to change and may not reflect the current market price. For the most up-to-date information, I recommend checking a reliable financial website or platform.', 'route': 'llm'}\n",
      "📍 Routing to node: WEB_SEARCH for query → 'Get the stock price details of nvidia in 2025'\n",
      "{'query': 'Get the stock price details of nvidia in 2025', 'context': 'As of my knowledge cutoff in December 2023, the stock price details of NVIDIA Corporation (NVDA) are as follows:\\n\\n- Company Name: NVIDIA Corporation\\n- Stock Symbol: NVDA\\n- Industry: Semiconductors\\n- Sector: Technology\\n\\n**Stock Price Details:**\\n- Current Stock Price: $864.45 USD\\n- 52-Week High: $1,024.51 USD\\n- 52-Week Low: $644.55 USD\\n- Market Capitalization: $1.23 Trillion USD\\n- Dividend Yield: 0.23%\\n- P/E Ratio: 43.45\\n\\n**Historical Stock Price:**\\n- 1-Year Return: 44.45%\\n- 5-Year Return: 1,144.45%\\n- 10-Year Return: 2,444.45%\\n\\nPlease note that these figures are subject to change and may not reflect the current market price. For the most up-to-date information, I recommend checking a reliable financial website or platform.', 'route': 'llm'}\n",
      "{'query': 'Get the stock price details of nvidia in 2025', 'context': 'Web search results:\\nXNAS:NVDA,NASD:NVDA historical stock data| Stock Date | Stock Price |\\n| --- | --- |\\n| July 01, 2025 | $153.3 |\\n| June 30, 2025 | $157.99 |\\n| June 27, 2025 | $157.75 |\\n| June 26, 2025 | $155.02 |\\n| June 25, 2025 | $154.31 |\\n| June 24, 2025 | $147.9 |\\n| June 23, 2025 | $144.17 |\\n| June 20, 2025 | $143.85 |\\n| June 18, 2025 | $145.48 |\\n| June 17, 2025 | $144.12 |\\n| June 16, 2025 | $144.69 |\\n| June 13, 2025 | $141.97 |\\n| June 12, 2025 | $145 |\\n| June 11, 2025 | $142.83 |\\n| June 10, 2025 | $143.96 | [...] | June 09, 2025 | $142.63 |\\n| June 06, 2025 | $141.72 |\\n| June 05, 2025 | $139.99 |\\n| June 04, 2025 | $141.92 |\\n| June 03, 2025 | $141.22 |\\n| June 02, 2025 | $137.38 |\\n| May 30, 2025 | $135.13 |\\n| May 29, 2025 | $139.19 |\\n| May 28, 2025 | $134.81 |\\n| May 27, 2025 | $135.5 |\\n| May 23, 2025 | $131.29 |\\n| May 22, 2025 | $132.83 |\\n| May 21, 2025 | $131.8 |\\n| May 20, 2025 | $134.38 |\\n| May 19, 2025 | $135.57 |\\n| May 16, 2025 | $135.4 |\\n| May 15, 2025 | $134.83 |\\n| May 14, 2025 | $135.34 | [...] | May 13, 2025 | $129.93 |\\n| May 12, 2025 | $123 |\\n| May 09, 2025 | $116.65 |\\n| May 08, 2025 | $117.37 |\\n| May 07, 2025 | $117.06 |\\n| May 06, 2025 | $113.54 |\\n| May 05, 2025 | $113.82 |\\n| May 02, 2025 | $114.5 |\\n| May 01, 2025 | $111.61 |\\n| April 30, 2025 | $108.92 |\\n| April 29, 2025 | $109.02 |\\n| April 28, 2025 | $108.73 |\\n| April 25, 2025 | $111.01 |\\n| April 24, 2025 | $106.43 |\\n| April 23, 2025 | $102.71 |\\n| April 22, 2025 | $98.89 |\\n| April 21, 2025 | $96.91 |\\n| April 17, 2025 | $101.49 |\\n\\n| Apr 2, 2025 | 107.29 | 111.98 | 106.79 | 110.42 | 110.41 | 220,601,200 |\\n| Apr 1, 2025 | 108.52 | 110.20 | 106.47 | 110.15 | 110.14 | 222,614,000 |\\n| Mar 31, 2025 | 105.13 | 110.96 | 103.65 | 108.38 | 108.37 | 299,212,700 |\\n| Mar 28, 2025 | 111.49 | 112.87 | 109.07 | 109.67 | 109.66 | 229,872,500 |\\n| Mar 27, 2025 | 111.35 | 114.45 | 110.66 | 111.43 | 111.42 | 236,902,100 |\\n| Mar 26, 2025 | 118.73 | 118.84 | 112.71 | 113.76 | 113.75 | 293,463,300 | [...] | Mar 17, 2025 | 122.74 | 122.89 | 118.03 | 119.53 | 119.52 | 255,501,500 |\\n| Mar 14, 2025 | 118.61 | 121.88 | 118.15 | 121.67 | 121.66 | 277,593,500 |\\n| Mar 13, 2025 | 117.03 | 117.76 | 113.79 | 115.58 | 115.57 | 299,033,100 |\\n| Mar 12, 2025 | 0.01 Dividend |\\n| Mar 12, 2025 | 114.12 | 116.76 | 112.88 | 115.74 | 115.73 | 323,857,500 |\\n| Mar 11, 2025 | 106.99 | 112.24 | 104.77 | 108.76 | 108.74 | 354,865,700 |\\n| Mar 10, 2025 | 109.90 | 111.85 | 105.46 | 106.98 | 106.96 | 366,487,400 | [...] | Date | Open | High | Low | Close Close price adjusted for splits. | Adj Close Adjusted close price adjusted for splits and dividend and/or capital gain distributions. | Volume |\\n| --- | --- | --- | --- | --- | --- | --- |\\n| Jul 3, 2025 | 158.37 | 160.98 | 157.77 | 159.34 | 159.34 | 143,716,100 |\\n| Jul 2, 2025 | 152.98 | 157.60 | 152.97 | 157.25 | 157.25 | 171,224,100 |\\n| Jul 1, 2025 | 156.29 | 157.20 | 151.49 | 153.30 | 153.30 | 213,143,600 |\\n\\n### How much has Nvidia stock rallied in 2025 so far?\\n\\nNvidia has staged a stunning comeback this year, gaining 39% year-to-date and recapturing its $1.4 trillion market cap milestone. The rally is fueled by:  \\n  \\n\\n Massive demand for AI infrastructure\\n Robust sales of the next-gen Blackwell AI chips\\n Optimism about easing U.S.–China export tensions\\n\\nAs of July 2, 2025, NVDA is trading at $153.30, down slightly by -0.03% intraday, but still hovering near its all-time high.\\n\\nAccording to our NVIDIA stock prediction for 2025, NVDA stock will be priced between $ 127.18 and $ 152.57 in 2025.\\n\\n### What is the NVIDIA stock prediction for 2030?\\n\\nAccording to our NVIDIA stock prediction for 2030, NVDA stock will be priced between $ 262.70 and $ 356.91 in 2030\\n\\n### Will NVIDIA stock reach $500?\\n\\nNVIDIA stock would need to gain 238.07% to reach $500. According to our NVIDIA stock forecast algorithm, NVIDIA stock will hit $500 in May 6, 2032.', 'route': 'web_search'}\n",
      "{'query': 'Get the stock price details of nvidia in 2025', 'context': 'Based on the provided web search results, here are the key points about Nvidia stock in 2025:\\n\\n1. As of July 1, 2025, the stock price of Nvidia (NVDA) is $153.30.\\n2. The stock has rallied 39% year-to-date in 2025.\\n3. The rally is fueled by massive demand for AI infrastructure, robust sales of the next-gen Blackwell AI chips, and optimism about easing U.S.–China export tensions.\\n4. According to the provided stock prediction, the stock price of NVDA is expected to be between $127.18 and $152.57 in 2025.\\n5. The stock price of NVDA is expected to reach $500 in May 6, 2032, according to the provided stock forecast algorithm.\\n\\nNote that the provided stock predictions and forecasts are based on the information available at the time of the search and may not reflect the actual stock performance.', 'route': 'web_search'}\n"
     ]
    },
    {
     "data": {
      "text/markdown": [
       "Based on the provided web search results, here are the key points about Nvidia stock in 2025:\n",
       "\n",
       "1. As of July 1, 2025, the stock price of Nvidia (NVDA) is $153.30.\n",
       "2. The stock has rallied 39% year-to-date in 2025.\n",
       "3. The rally is fueled by massive demand for AI infrastructure, robust sales of the next-gen Blackwell AI chips, and optimism about easing U.S.–China export tensions.\n",
       "4. According to the provided stock prediction, the stock price of NVDA is expected to be between $127.18 and $152.57 in 2025.\n",
       "5. The stock price of NVDA is expected to reach $500 in May 6, 2032, according to the provided stock forecast algorithm.\n",
       "\n",
       "Note that the provided stock predictions and forecasts are based on the information available at the time of the search and may not reflect the actual stock performance."
      ],
      "text/plain": [
       "<IPython.core.display.Markdown object>"
      ]
     },
     "metadata": {},
     "output_type": "display_data"
    }
   ],
   "source": [
    "uid = 'subham001'\n",
    "query = \"Get the stock price details of nvidia in 2025\"\n",
    "call_support_agent(agent=graph,\n",
    "                   prompt=query,\n",
    "                   user_session_id=uid,\n",
    "                   verbose=True)"
   ]
  },
  {
   "cell_type": "code",
   "execution_count": null,
   "id": "e4db070b",
   "metadata": {},
   "outputs": [],
   "source": []
  }
 ],
 "metadata": {
  "kernelspec": {
   "display_name": "Python 3",
   "language": "python",
   "name": "python3"
  },
  "language_info": {
   "codemirror_mode": {
    "name": "ipython",
    "version": 3
   },
   "file_extension": ".py",
   "mimetype": "text/x-python",
   "name": "python",
   "nbconvert_exporter": "python",
   "pygments_lexer": "ipython3",
   "version": "3.11.8"
  }
 },
 "nbformat": 4,
 "nbformat_minor": 5
}
