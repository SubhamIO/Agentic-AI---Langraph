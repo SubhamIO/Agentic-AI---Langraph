{
  "cells": [
    {
      "cell_type": "markdown",
      "id": "50fa7f8a-8764-4bb9-9968-48b681a0e4f1",
      "metadata": {
        "id": "50fa7f8a-8764-4bb9-9968-48b681a0e4f1"
      },
      "source": [
        "# Build an Augmented LLM with Tools in LangGraph\n",
        "\n",
        "We already know Tools help the LLM interact with external sources of information like web search\n",
        "\n",
        "Augmented LLM with Search Tool: Here we will build a simple augmented LLM using the capabilities of Tavily Search as a tool to allow the LLM to fetch relevant information from the web when necessary.\n",
        "\n",
        "![](https://i.imgur.com/5r015dw.png)"
      ]
    },
    {
      "cell_type": "code",
      "execution_count": 1,
      "id": "ff151ef1-fa30-482a-94da-8f49964afbc3",
      "metadata": {
        "id": "ff151ef1-fa30-482a-94da-8f49964afbc3",
        "colab": {
          "base_uri": "https://localhost:8080/"
        },
        "outputId": "52cdc736-fa18-4333-8943-571bb2f47728"
      },
      "outputs": [
        {
          "output_type": "stream",
          "name": "stdout",
          "text": [
            "Collecting langchain==0.3.14\n",
            "  Downloading langchain-0.3.14-py3-none-any.whl.metadata (7.1 kB)\n",
            "Requirement already satisfied: PyYAML>=5.3 in /usr/local/lib/python3.11/dist-packages (from langchain==0.3.14) (6.0.2)\n",
            "Requirement already satisfied: SQLAlchemy<3,>=1.4 in /usr/local/lib/python3.11/dist-packages (from langchain==0.3.14) (2.0.37)\n",
            "Requirement already satisfied: aiohttp<4.0.0,>=3.8.3 in /usr/local/lib/python3.11/dist-packages (from langchain==0.3.14) (3.11.11)\n",
            "Requirement already satisfied: langchain-core<0.4.0,>=0.3.29 in /usr/local/lib/python3.11/dist-packages (from langchain==0.3.14) (0.3.31)\n",
            "Requirement already satisfied: langchain-text-splitters<0.4.0,>=0.3.3 in /usr/local/lib/python3.11/dist-packages (from langchain==0.3.14) (0.3.5)\n",
            "Collecting langsmith<0.3,>=0.1.17 (from langchain==0.3.14)\n",
            "  Downloading langsmith-0.2.11-py3-none-any.whl.metadata (14 kB)\n",
            "Requirement already satisfied: numpy<2,>=1.22.4 in /usr/local/lib/python3.11/dist-packages (from langchain==0.3.14) (1.26.4)\n",
            "Requirement already satisfied: pydantic<3.0.0,>=2.7.4 in /usr/local/lib/python3.11/dist-packages (from langchain==0.3.14) (2.10.5)\n",
            "Requirement already satisfied: requests<3,>=2 in /usr/local/lib/python3.11/dist-packages (from langchain==0.3.14) (2.32.3)\n",
            "Requirement already satisfied: tenacity!=8.4.0,<10,>=8.1.0 in /usr/local/lib/python3.11/dist-packages (from langchain==0.3.14) (9.0.0)\n",
            "Requirement already satisfied: aiohappyeyeballs>=2.3.0 in /usr/local/lib/python3.11/dist-packages (from aiohttp<4.0.0,>=3.8.3->langchain==0.3.14) (2.4.4)\n",
            "Requirement already satisfied: aiosignal>=1.1.2 in /usr/local/lib/python3.11/dist-packages (from aiohttp<4.0.0,>=3.8.3->langchain==0.3.14) (1.3.2)\n",
            "Requirement already satisfied: attrs>=17.3.0 in /usr/local/lib/python3.11/dist-packages (from aiohttp<4.0.0,>=3.8.3->langchain==0.3.14) (24.3.0)\n",
            "Requirement already satisfied: frozenlist>=1.1.1 in /usr/local/lib/python3.11/dist-packages (from aiohttp<4.0.0,>=3.8.3->langchain==0.3.14) (1.5.0)\n",
            "Requirement already satisfied: multidict<7.0,>=4.5 in /usr/local/lib/python3.11/dist-packages (from aiohttp<4.0.0,>=3.8.3->langchain==0.3.14) (6.1.0)\n",
            "Requirement already satisfied: propcache>=0.2.0 in /usr/local/lib/python3.11/dist-packages (from aiohttp<4.0.0,>=3.8.3->langchain==0.3.14) (0.2.1)\n",
            "Requirement already satisfied: yarl<2.0,>=1.17.0 in /usr/local/lib/python3.11/dist-packages (from aiohttp<4.0.0,>=3.8.3->langchain==0.3.14) (1.18.3)\n",
            "Requirement already satisfied: jsonpatch<2.0,>=1.33 in /usr/local/lib/python3.11/dist-packages (from langchain-core<0.4.0,>=0.3.29->langchain==0.3.14) (1.33)\n",
            "Requirement already satisfied: packaging<25,>=23.2 in /usr/local/lib/python3.11/dist-packages (from langchain-core<0.4.0,>=0.3.29->langchain==0.3.14) (24.2)\n",
            "Requirement already satisfied: typing-extensions>=4.7 in /usr/local/lib/python3.11/dist-packages (from langchain-core<0.4.0,>=0.3.29->langchain==0.3.14) (4.12.2)\n",
            "Requirement already satisfied: httpx<1,>=0.23.0 in /usr/local/lib/python3.11/dist-packages (from langsmith<0.3,>=0.1.17->langchain==0.3.14) (0.28.1)\n",
            "Requirement already satisfied: orjson<4.0.0,>=3.9.14 in /usr/local/lib/python3.11/dist-packages (from langsmith<0.3,>=0.1.17->langchain==0.3.14) (3.10.15)\n",
            "Requirement already satisfied: requests-toolbelt<2.0.0,>=1.0.0 in /usr/local/lib/python3.11/dist-packages (from langsmith<0.3,>=0.1.17->langchain==0.3.14) (1.0.0)\n",
            "Requirement already satisfied: annotated-types>=0.6.0 in /usr/local/lib/python3.11/dist-packages (from pydantic<3.0.0,>=2.7.4->langchain==0.3.14) (0.7.0)\n",
            "Requirement already satisfied: pydantic-core==2.27.2 in /usr/local/lib/python3.11/dist-packages (from pydantic<3.0.0,>=2.7.4->langchain==0.3.14) (2.27.2)\n",
            "Requirement already satisfied: charset-normalizer<4,>=2 in /usr/local/lib/python3.11/dist-packages (from requests<3,>=2->langchain==0.3.14) (3.4.1)\n",
            "Requirement already satisfied: idna<4,>=2.5 in /usr/local/lib/python3.11/dist-packages (from requests<3,>=2->langchain==0.3.14) (3.10)\n",
            "Requirement already satisfied: urllib3<3,>=1.21.1 in /usr/local/lib/python3.11/dist-packages (from requests<3,>=2->langchain==0.3.14) (2.3.0)\n",
            "Requirement already satisfied: certifi>=2017.4.17 in /usr/local/lib/python3.11/dist-packages (from requests<3,>=2->langchain==0.3.14) (2024.12.14)\n",
            "Requirement already satisfied: greenlet!=0.4.17 in /usr/local/lib/python3.11/dist-packages (from SQLAlchemy<3,>=1.4->langchain==0.3.14) (3.1.1)\n",
            "Requirement already satisfied: anyio in /usr/local/lib/python3.11/dist-packages (from httpx<1,>=0.23.0->langsmith<0.3,>=0.1.17->langchain==0.3.14) (3.7.1)\n",
            "Requirement already satisfied: httpcore==1.* in /usr/local/lib/python3.11/dist-packages (from httpx<1,>=0.23.0->langsmith<0.3,>=0.1.17->langchain==0.3.14) (1.0.7)\n",
            "Requirement already satisfied: h11<0.15,>=0.13 in /usr/local/lib/python3.11/dist-packages (from httpcore==1.*->httpx<1,>=0.23.0->langsmith<0.3,>=0.1.17->langchain==0.3.14) (0.14.0)\n",
            "Requirement already satisfied: jsonpointer>=1.9 in /usr/local/lib/python3.11/dist-packages (from jsonpatch<2.0,>=1.33->langchain-core<0.4.0,>=0.3.29->langchain==0.3.14) (3.0.0)\n",
            "Requirement already satisfied: sniffio>=1.1 in /usr/local/lib/python3.11/dist-packages (from anyio->httpx<1,>=0.23.0->langsmith<0.3,>=0.1.17->langchain==0.3.14) (1.3.1)\n",
            "Downloading langchain-0.3.14-py3-none-any.whl (1.0 MB)\n",
            "\u001b[2K   \u001b[90m━━━━━━━━━━━━━━━━━━━━━━━━━━━━━━━━━━━━━━━━\u001b[0m \u001b[32m1.0/1.0 MB\u001b[0m \u001b[31m19.3 MB/s\u001b[0m eta \u001b[36m0:00:00\u001b[0m\n",
            "\u001b[?25hDownloading langsmith-0.2.11-py3-none-any.whl (326 kB)\n",
            "\u001b[2K   \u001b[90m━━━━━━━━━━━━━━━━━━━━━━━━━━━━━━━━━━━━━━━━\u001b[0m \u001b[32m326.9/326.9 kB\u001b[0m \u001b[31m16.6 MB/s\u001b[0m eta \u001b[36m0:00:00\u001b[0m\n",
            "\u001b[?25hInstalling collected packages: langsmith, langchain\n",
            "  Attempting uninstall: langsmith\n",
            "    Found existing installation: langsmith 0.3.0\n",
            "    Uninstalling langsmith-0.3.0:\n",
            "      Successfully uninstalled langsmith-0.3.0\n",
            "  Attempting uninstall: langchain\n",
            "    Found existing installation: langchain 0.3.15\n",
            "    Uninstalling langchain-0.3.15:\n",
            "      Successfully uninstalled langchain-0.3.15\n",
            "Successfully installed langchain-0.3.14 langsmith-0.2.11\n",
            "Collecting langchain-openai==0.3.0\n",
            "  Downloading langchain_openai-0.3.0-py3-none-any.whl.metadata (2.7 kB)\n",
            "Requirement already satisfied: langchain-core<0.4.0,>=0.3.29 in /usr/local/lib/python3.11/dist-packages (from langchain-openai==0.3.0) (0.3.31)\n",
            "Requirement already satisfied: openai<2.0.0,>=1.58.1 in /usr/local/lib/python3.11/dist-packages (from langchain-openai==0.3.0) (1.59.9)\n",
            "Collecting tiktoken<1,>=0.7 (from langchain-openai==0.3.0)\n",
            "  Downloading tiktoken-0.8.0-cp311-cp311-manylinux_2_17_x86_64.manylinux2014_x86_64.whl.metadata (6.6 kB)\n",
            "Requirement already satisfied: PyYAML>=5.3 in /usr/local/lib/python3.11/dist-packages (from langchain-core<0.4.0,>=0.3.29->langchain-openai==0.3.0) (6.0.2)\n",
            "Requirement already satisfied: jsonpatch<2.0,>=1.33 in /usr/local/lib/python3.11/dist-packages (from langchain-core<0.4.0,>=0.3.29->langchain-openai==0.3.0) (1.33)\n",
            "Requirement already satisfied: langsmith<0.4,>=0.1.125 in /usr/local/lib/python3.11/dist-packages (from langchain-core<0.4.0,>=0.3.29->langchain-openai==0.3.0) (0.2.11)\n",
            "Requirement already satisfied: packaging<25,>=23.2 in /usr/local/lib/python3.11/dist-packages (from langchain-core<0.4.0,>=0.3.29->langchain-openai==0.3.0) (24.2)\n",
            "Requirement already satisfied: pydantic<3.0.0,>=2.5.2 in /usr/local/lib/python3.11/dist-packages (from langchain-core<0.4.0,>=0.3.29->langchain-openai==0.3.0) (2.10.5)\n",
            "Requirement already satisfied: tenacity!=8.4.0,<10.0.0,>=8.1.0 in /usr/local/lib/python3.11/dist-packages (from langchain-core<0.4.0,>=0.3.29->langchain-openai==0.3.0) (9.0.0)\n",
            "Requirement already satisfied: typing-extensions>=4.7 in /usr/local/lib/python3.11/dist-packages (from langchain-core<0.4.0,>=0.3.29->langchain-openai==0.3.0) (4.12.2)\n",
            "Requirement already satisfied: anyio<5,>=3.5.0 in /usr/local/lib/python3.11/dist-packages (from openai<2.0.0,>=1.58.1->langchain-openai==0.3.0) (3.7.1)\n",
            "Requirement already satisfied: distro<2,>=1.7.0 in /usr/local/lib/python3.11/dist-packages (from openai<2.0.0,>=1.58.1->langchain-openai==0.3.0) (1.9.0)\n",
            "Requirement already satisfied: httpx<1,>=0.23.0 in /usr/local/lib/python3.11/dist-packages (from openai<2.0.0,>=1.58.1->langchain-openai==0.3.0) (0.28.1)\n",
            "Requirement already satisfied: jiter<1,>=0.4.0 in /usr/local/lib/python3.11/dist-packages (from openai<2.0.0,>=1.58.1->langchain-openai==0.3.0) (0.8.2)\n",
            "Requirement already satisfied: sniffio in /usr/local/lib/python3.11/dist-packages (from openai<2.0.0,>=1.58.1->langchain-openai==0.3.0) (1.3.1)\n",
            "Requirement already satisfied: tqdm>4 in /usr/local/lib/python3.11/dist-packages (from openai<2.0.0,>=1.58.1->langchain-openai==0.3.0) (4.67.1)\n",
            "Requirement already satisfied: regex>=2022.1.18 in /usr/local/lib/python3.11/dist-packages (from tiktoken<1,>=0.7->langchain-openai==0.3.0) (2024.11.6)\n",
            "Requirement already satisfied: requests>=2.26.0 in /usr/local/lib/python3.11/dist-packages (from tiktoken<1,>=0.7->langchain-openai==0.3.0) (2.32.3)\n",
            "Requirement already satisfied: idna>=2.8 in /usr/local/lib/python3.11/dist-packages (from anyio<5,>=3.5.0->openai<2.0.0,>=1.58.1->langchain-openai==0.3.0) (3.10)\n",
            "Requirement already satisfied: certifi in /usr/local/lib/python3.11/dist-packages (from httpx<1,>=0.23.0->openai<2.0.0,>=1.58.1->langchain-openai==0.3.0) (2024.12.14)\n",
            "Requirement already satisfied: httpcore==1.* in /usr/local/lib/python3.11/dist-packages (from httpx<1,>=0.23.0->openai<2.0.0,>=1.58.1->langchain-openai==0.3.0) (1.0.7)\n",
            "Requirement already satisfied: h11<0.15,>=0.13 in /usr/local/lib/python3.11/dist-packages (from httpcore==1.*->httpx<1,>=0.23.0->openai<2.0.0,>=1.58.1->langchain-openai==0.3.0) (0.14.0)\n",
            "Requirement already satisfied: jsonpointer>=1.9 in /usr/local/lib/python3.11/dist-packages (from jsonpatch<2.0,>=1.33->langchain-core<0.4.0,>=0.3.29->langchain-openai==0.3.0) (3.0.0)\n",
            "Requirement already satisfied: orjson<4.0.0,>=3.9.14 in /usr/local/lib/python3.11/dist-packages (from langsmith<0.4,>=0.1.125->langchain-core<0.4.0,>=0.3.29->langchain-openai==0.3.0) (3.10.15)\n",
            "Requirement already satisfied: requests-toolbelt<2.0.0,>=1.0.0 in /usr/local/lib/python3.11/dist-packages (from langsmith<0.4,>=0.1.125->langchain-core<0.4.0,>=0.3.29->langchain-openai==0.3.0) (1.0.0)\n",
            "Requirement already satisfied: annotated-types>=0.6.0 in /usr/local/lib/python3.11/dist-packages (from pydantic<3.0.0,>=2.5.2->langchain-core<0.4.0,>=0.3.29->langchain-openai==0.3.0) (0.7.0)\n",
            "Requirement already satisfied: pydantic-core==2.27.2 in /usr/local/lib/python3.11/dist-packages (from pydantic<3.0.0,>=2.5.2->langchain-core<0.4.0,>=0.3.29->langchain-openai==0.3.0) (2.27.2)\n",
            "Requirement already satisfied: charset-normalizer<4,>=2 in /usr/local/lib/python3.11/dist-packages (from requests>=2.26.0->tiktoken<1,>=0.7->langchain-openai==0.3.0) (3.4.1)\n",
            "Requirement already satisfied: urllib3<3,>=1.21.1 in /usr/local/lib/python3.11/dist-packages (from requests>=2.26.0->tiktoken<1,>=0.7->langchain-openai==0.3.0) (2.3.0)\n",
            "Downloading langchain_openai-0.3.0-py3-none-any.whl (54 kB)\n",
            "\u001b[2K   \u001b[90m━━━━━━━━━━━━━━━━━━━━━━━━━━━━━━━━━━━━━━━━\u001b[0m \u001b[32m54.2/54.2 kB\u001b[0m \u001b[31m3.9 MB/s\u001b[0m eta \u001b[36m0:00:00\u001b[0m\n",
            "\u001b[?25hDownloading tiktoken-0.8.0-cp311-cp311-manylinux_2_17_x86_64.manylinux2014_x86_64.whl (1.2 MB)\n",
            "\u001b[2K   \u001b[90m━━━━━━━━━━━━━━━━━━━━━━━━━━━━━━━━━━━━━━━━\u001b[0m \u001b[32m1.2/1.2 MB\u001b[0m \u001b[31m31.7 MB/s\u001b[0m eta \u001b[36m0:00:00\u001b[0m\n",
            "\u001b[?25hInstalling collected packages: tiktoken, langchain-openai\n",
            "Successfully installed langchain-openai-0.3.0 tiktoken-0.8.0\n",
            "Collecting langchain-community==0.3.14\n",
            "  Downloading langchain_community-0.3.14-py3-none-any.whl.metadata (2.9 kB)\n",
            "Requirement already satisfied: PyYAML>=5.3 in /usr/local/lib/python3.11/dist-packages (from langchain-community==0.3.14) (6.0.2)\n",
            "Requirement already satisfied: SQLAlchemy<3,>=1.4 in /usr/local/lib/python3.11/dist-packages (from langchain-community==0.3.14) (2.0.37)\n",
            "Requirement already satisfied: aiohttp<4.0.0,>=3.8.3 in /usr/local/lib/python3.11/dist-packages (from langchain-community==0.3.14) (3.11.11)\n",
            "Collecting dataclasses-json<0.7,>=0.5.7 (from langchain-community==0.3.14)\n",
            "  Downloading dataclasses_json-0.6.7-py3-none-any.whl.metadata (25 kB)\n",
            "Collecting httpx-sse<0.5.0,>=0.4.0 (from langchain-community==0.3.14)\n",
            "  Downloading httpx_sse-0.4.0-py3-none-any.whl.metadata (9.0 kB)\n",
            "Requirement already satisfied: langchain<0.4.0,>=0.3.14 in /usr/local/lib/python3.11/dist-packages (from langchain-community==0.3.14) (0.3.14)\n",
            "Requirement already satisfied: langchain-core<0.4.0,>=0.3.29 in /usr/local/lib/python3.11/dist-packages (from langchain-community==0.3.14) (0.3.31)\n",
            "Requirement already satisfied: langsmith<0.3,>=0.1.125 in /usr/local/lib/python3.11/dist-packages (from langchain-community==0.3.14) (0.2.11)\n",
            "Requirement already satisfied: numpy<2,>=1.22.4 in /usr/local/lib/python3.11/dist-packages (from langchain-community==0.3.14) (1.26.4)\n",
            "Collecting pydantic-settings<3.0.0,>=2.4.0 (from langchain-community==0.3.14)\n",
            "  Downloading pydantic_settings-2.7.1-py3-none-any.whl.metadata (3.5 kB)\n",
            "Requirement already satisfied: requests<3,>=2 in /usr/local/lib/python3.11/dist-packages (from langchain-community==0.3.14) (2.32.3)\n",
            "Requirement already satisfied: tenacity!=8.4.0,<10,>=8.1.0 in /usr/local/lib/python3.11/dist-packages (from langchain-community==0.3.14) (9.0.0)\n",
            "Requirement already satisfied: aiohappyeyeballs>=2.3.0 in /usr/local/lib/python3.11/dist-packages (from aiohttp<4.0.0,>=3.8.3->langchain-community==0.3.14) (2.4.4)\n",
            "Requirement already satisfied: aiosignal>=1.1.2 in /usr/local/lib/python3.11/dist-packages (from aiohttp<4.0.0,>=3.8.3->langchain-community==0.3.14) (1.3.2)\n",
            "Requirement already satisfied: attrs>=17.3.0 in /usr/local/lib/python3.11/dist-packages (from aiohttp<4.0.0,>=3.8.3->langchain-community==0.3.14) (24.3.0)\n",
            "Requirement already satisfied: frozenlist>=1.1.1 in /usr/local/lib/python3.11/dist-packages (from aiohttp<4.0.0,>=3.8.3->langchain-community==0.3.14) (1.5.0)\n",
            "Requirement already satisfied: multidict<7.0,>=4.5 in /usr/local/lib/python3.11/dist-packages (from aiohttp<4.0.0,>=3.8.3->langchain-community==0.3.14) (6.1.0)\n",
            "Requirement already satisfied: propcache>=0.2.0 in /usr/local/lib/python3.11/dist-packages (from aiohttp<4.0.0,>=3.8.3->langchain-community==0.3.14) (0.2.1)\n",
            "Requirement already satisfied: yarl<2.0,>=1.17.0 in /usr/local/lib/python3.11/dist-packages (from aiohttp<4.0.0,>=3.8.3->langchain-community==0.3.14) (1.18.3)\n",
            "Collecting marshmallow<4.0.0,>=3.18.0 (from dataclasses-json<0.7,>=0.5.7->langchain-community==0.3.14)\n",
            "  Downloading marshmallow-3.26.0-py3-none-any.whl.metadata (7.3 kB)\n",
            "Collecting typing-inspect<1,>=0.4.0 (from dataclasses-json<0.7,>=0.5.7->langchain-community==0.3.14)\n",
            "  Downloading typing_inspect-0.9.0-py3-none-any.whl.metadata (1.5 kB)\n",
            "Requirement already satisfied: langchain-text-splitters<0.4.0,>=0.3.3 in /usr/local/lib/python3.11/dist-packages (from langchain<0.4.0,>=0.3.14->langchain-community==0.3.14) (0.3.5)\n",
            "Requirement already satisfied: pydantic<3.0.0,>=2.7.4 in /usr/local/lib/python3.11/dist-packages (from langchain<0.4.0,>=0.3.14->langchain-community==0.3.14) (2.10.5)\n",
            "Requirement already satisfied: jsonpatch<2.0,>=1.33 in /usr/local/lib/python3.11/dist-packages (from langchain-core<0.4.0,>=0.3.29->langchain-community==0.3.14) (1.33)\n",
            "Requirement already satisfied: packaging<25,>=23.2 in /usr/local/lib/python3.11/dist-packages (from langchain-core<0.4.0,>=0.3.29->langchain-community==0.3.14) (24.2)\n",
            "Requirement already satisfied: typing-extensions>=4.7 in /usr/local/lib/python3.11/dist-packages (from langchain-core<0.4.0,>=0.3.29->langchain-community==0.3.14) (4.12.2)\n",
            "Requirement already satisfied: httpx<1,>=0.23.0 in /usr/local/lib/python3.11/dist-packages (from langsmith<0.3,>=0.1.125->langchain-community==0.3.14) (0.28.1)\n",
            "Requirement already satisfied: orjson<4.0.0,>=3.9.14 in /usr/local/lib/python3.11/dist-packages (from langsmith<0.3,>=0.1.125->langchain-community==0.3.14) (3.10.15)\n",
            "Requirement already satisfied: requests-toolbelt<2.0.0,>=1.0.0 in /usr/local/lib/python3.11/dist-packages (from langsmith<0.3,>=0.1.125->langchain-community==0.3.14) (1.0.0)\n",
            "Collecting python-dotenv>=0.21.0 (from pydantic-settings<3.0.0,>=2.4.0->langchain-community==0.3.14)\n",
            "  Downloading python_dotenv-1.0.1-py3-none-any.whl.metadata (23 kB)\n",
            "Requirement already satisfied: charset-normalizer<4,>=2 in /usr/local/lib/python3.11/dist-packages (from requests<3,>=2->langchain-community==0.3.14) (3.4.1)\n",
            "Requirement already satisfied: idna<4,>=2.5 in /usr/local/lib/python3.11/dist-packages (from requests<3,>=2->langchain-community==0.3.14) (3.10)\n",
            "Requirement already satisfied: urllib3<3,>=1.21.1 in /usr/local/lib/python3.11/dist-packages (from requests<3,>=2->langchain-community==0.3.14) (2.3.0)\n",
            "Requirement already satisfied: certifi>=2017.4.17 in /usr/local/lib/python3.11/dist-packages (from requests<3,>=2->langchain-community==0.3.14) (2024.12.14)\n",
            "Requirement already satisfied: greenlet!=0.4.17 in /usr/local/lib/python3.11/dist-packages (from SQLAlchemy<3,>=1.4->langchain-community==0.3.14) (3.1.1)\n",
            "Requirement already satisfied: anyio in /usr/local/lib/python3.11/dist-packages (from httpx<1,>=0.23.0->langsmith<0.3,>=0.1.125->langchain-community==0.3.14) (3.7.1)\n",
            "Requirement already satisfied: httpcore==1.* in /usr/local/lib/python3.11/dist-packages (from httpx<1,>=0.23.0->langsmith<0.3,>=0.1.125->langchain-community==0.3.14) (1.0.7)\n",
            "Requirement already satisfied: h11<0.15,>=0.13 in /usr/local/lib/python3.11/dist-packages (from httpcore==1.*->httpx<1,>=0.23.0->langsmith<0.3,>=0.1.125->langchain-community==0.3.14) (0.14.0)\n",
            "Requirement already satisfied: jsonpointer>=1.9 in /usr/local/lib/python3.11/dist-packages (from jsonpatch<2.0,>=1.33->langchain-core<0.4.0,>=0.3.29->langchain-community==0.3.14) (3.0.0)\n",
            "Requirement already satisfied: annotated-types>=0.6.0 in /usr/local/lib/python3.11/dist-packages (from pydantic<3.0.0,>=2.7.4->langchain<0.4.0,>=0.3.14->langchain-community==0.3.14) (0.7.0)\n",
            "Requirement already satisfied: pydantic-core==2.27.2 in /usr/local/lib/python3.11/dist-packages (from pydantic<3.0.0,>=2.7.4->langchain<0.4.0,>=0.3.14->langchain-community==0.3.14) (2.27.2)\n",
            "Collecting mypy-extensions>=0.3.0 (from typing-inspect<1,>=0.4.0->dataclasses-json<0.7,>=0.5.7->langchain-community==0.3.14)\n",
            "  Downloading mypy_extensions-1.0.0-py3-none-any.whl.metadata (1.1 kB)\n",
            "Requirement already satisfied: sniffio>=1.1 in /usr/local/lib/python3.11/dist-packages (from anyio->httpx<1,>=0.23.0->langsmith<0.3,>=0.1.125->langchain-community==0.3.14) (1.3.1)\n",
            "Downloading langchain_community-0.3.14-py3-none-any.whl (2.5 MB)\n",
            "\u001b[2K   \u001b[90m━━━━━━━━━━━━━━━━━━━━━━━━━━━━━━━━━━━━━━━━\u001b[0m \u001b[32m2.5/2.5 MB\u001b[0m \u001b[31m60.0 MB/s\u001b[0m eta \u001b[36m0:00:00\u001b[0m\n",
            "\u001b[?25hDownloading dataclasses_json-0.6.7-py3-none-any.whl (28 kB)\n",
            "Downloading httpx_sse-0.4.0-py3-none-any.whl (7.8 kB)\n",
            "Downloading pydantic_settings-2.7.1-py3-none-any.whl (29 kB)\n",
            "Downloading marshmallow-3.26.0-py3-none-any.whl (50 kB)\n",
            "\u001b[2K   \u001b[90m━━━━━━━━━━━━━━━━━━━━━━━━━━━━━━━━━━━━━━━━\u001b[0m \u001b[32m50.8/50.8 kB\u001b[0m \u001b[31m3.4 MB/s\u001b[0m eta \u001b[36m0:00:00\u001b[0m\n",
            "\u001b[?25hDownloading python_dotenv-1.0.1-py3-none-any.whl (19 kB)\n",
            "Downloading typing_inspect-0.9.0-py3-none-any.whl (8.8 kB)\n",
            "Downloading mypy_extensions-1.0.0-py3-none-any.whl (4.7 kB)\n",
            "Installing collected packages: python-dotenv, mypy-extensions, marshmallow, httpx-sse, typing-inspect, pydantic-settings, dataclasses-json, langchain-community\n",
            "Successfully installed dataclasses-json-0.6.7 httpx-sse-0.4.0 langchain-community-0.3.14 marshmallow-3.26.0 mypy-extensions-1.0.0 pydantic-settings-2.7.1 python-dotenv-1.0.1 typing-inspect-0.9.0\n",
            "Collecting langgraph==0.2.64\n",
            "  Downloading langgraph-0.2.64-py3-none-any.whl.metadata (16 kB)\n",
            "Requirement already satisfied: langchain-core!=0.3.0,!=0.3.1,!=0.3.10,!=0.3.11,!=0.3.12,!=0.3.13,!=0.3.14,!=0.3.15,!=0.3.16,!=0.3.17,!=0.3.18,!=0.3.19,!=0.3.2,!=0.3.20,!=0.3.21,!=0.3.22,!=0.3.3,!=0.3.4,!=0.3.5,!=0.3.6,!=0.3.7,!=0.3.8,!=0.3.9,<0.4.0,>=0.2.43 in /usr/local/lib/python3.11/dist-packages (from langgraph==0.2.64) (0.3.31)\n",
            "Collecting langgraph-checkpoint<3.0.0,>=2.0.10 (from langgraph==0.2.64)\n",
            "  Downloading langgraph_checkpoint-2.0.10-py3-none-any.whl.metadata (4.6 kB)\n",
            "Collecting langgraph-sdk<0.2.0,>=0.1.42 (from langgraph==0.2.64)\n",
            "  Downloading langgraph_sdk-0.1.51-py3-none-any.whl.metadata (1.8 kB)\n",
            "Requirement already satisfied: PyYAML>=5.3 in /usr/local/lib/python3.11/dist-packages (from langchain-core!=0.3.0,!=0.3.1,!=0.3.10,!=0.3.11,!=0.3.12,!=0.3.13,!=0.3.14,!=0.3.15,!=0.3.16,!=0.3.17,!=0.3.18,!=0.3.19,!=0.3.2,!=0.3.20,!=0.3.21,!=0.3.22,!=0.3.3,!=0.3.4,!=0.3.5,!=0.3.6,!=0.3.7,!=0.3.8,!=0.3.9,<0.4.0,>=0.2.43->langgraph==0.2.64) (6.0.2)\n",
            "Requirement already satisfied: jsonpatch<2.0,>=1.33 in /usr/local/lib/python3.11/dist-packages (from langchain-core!=0.3.0,!=0.3.1,!=0.3.10,!=0.3.11,!=0.3.12,!=0.3.13,!=0.3.14,!=0.3.15,!=0.3.16,!=0.3.17,!=0.3.18,!=0.3.19,!=0.3.2,!=0.3.20,!=0.3.21,!=0.3.22,!=0.3.3,!=0.3.4,!=0.3.5,!=0.3.6,!=0.3.7,!=0.3.8,!=0.3.9,<0.4.0,>=0.2.43->langgraph==0.2.64) (1.33)\n",
            "Requirement already satisfied: langsmith<0.4,>=0.1.125 in /usr/local/lib/python3.11/dist-packages (from langchain-core!=0.3.0,!=0.3.1,!=0.3.10,!=0.3.11,!=0.3.12,!=0.3.13,!=0.3.14,!=0.3.15,!=0.3.16,!=0.3.17,!=0.3.18,!=0.3.19,!=0.3.2,!=0.3.20,!=0.3.21,!=0.3.22,!=0.3.3,!=0.3.4,!=0.3.5,!=0.3.6,!=0.3.7,!=0.3.8,!=0.3.9,<0.4.0,>=0.2.43->langgraph==0.2.64) (0.2.11)\n",
            "Requirement already satisfied: packaging<25,>=23.2 in /usr/local/lib/python3.11/dist-packages (from langchain-core!=0.3.0,!=0.3.1,!=0.3.10,!=0.3.11,!=0.3.12,!=0.3.13,!=0.3.14,!=0.3.15,!=0.3.16,!=0.3.17,!=0.3.18,!=0.3.19,!=0.3.2,!=0.3.20,!=0.3.21,!=0.3.22,!=0.3.3,!=0.3.4,!=0.3.5,!=0.3.6,!=0.3.7,!=0.3.8,!=0.3.9,<0.4.0,>=0.2.43->langgraph==0.2.64) (24.2)\n",
            "Requirement already satisfied: pydantic<3.0.0,>=2.5.2 in /usr/local/lib/python3.11/dist-packages (from langchain-core!=0.3.0,!=0.3.1,!=0.3.10,!=0.3.11,!=0.3.12,!=0.3.13,!=0.3.14,!=0.3.15,!=0.3.16,!=0.3.17,!=0.3.18,!=0.3.19,!=0.3.2,!=0.3.20,!=0.3.21,!=0.3.22,!=0.3.3,!=0.3.4,!=0.3.5,!=0.3.6,!=0.3.7,!=0.3.8,!=0.3.9,<0.4.0,>=0.2.43->langgraph==0.2.64) (2.10.5)\n",
            "Requirement already satisfied: tenacity!=8.4.0,<10.0.0,>=8.1.0 in /usr/local/lib/python3.11/dist-packages (from langchain-core!=0.3.0,!=0.3.1,!=0.3.10,!=0.3.11,!=0.3.12,!=0.3.13,!=0.3.14,!=0.3.15,!=0.3.16,!=0.3.17,!=0.3.18,!=0.3.19,!=0.3.2,!=0.3.20,!=0.3.21,!=0.3.22,!=0.3.3,!=0.3.4,!=0.3.5,!=0.3.6,!=0.3.7,!=0.3.8,!=0.3.9,<0.4.0,>=0.2.43->langgraph==0.2.64) (9.0.0)\n",
            "Requirement already satisfied: typing-extensions>=4.7 in /usr/local/lib/python3.11/dist-packages (from langchain-core!=0.3.0,!=0.3.1,!=0.3.10,!=0.3.11,!=0.3.12,!=0.3.13,!=0.3.14,!=0.3.15,!=0.3.16,!=0.3.17,!=0.3.18,!=0.3.19,!=0.3.2,!=0.3.20,!=0.3.21,!=0.3.22,!=0.3.3,!=0.3.4,!=0.3.5,!=0.3.6,!=0.3.7,!=0.3.8,!=0.3.9,<0.4.0,>=0.2.43->langgraph==0.2.64) (4.12.2)\n",
            "Requirement already satisfied: msgpack<2.0.0,>=1.1.0 in /usr/local/lib/python3.11/dist-packages (from langgraph-checkpoint<3.0.0,>=2.0.10->langgraph==0.2.64) (1.1.0)\n",
            "Requirement already satisfied: httpx>=0.25.2 in /usr/local/lib/python3.11/dist-packages (from langgraph-sdk<0.2.0,>=0.1.42->langgraph==0.2.64) (0.28.1)\n",
            "Requirement already satisfied: orjson>=3.10.1 in /usr/local/lib/python3.11/dist-packages (from langgraph-sdk<0.2.0,>=0.1.42->langgraph==0.2.64) (3.10.15)\n",
            "Requirement already satisfied: anyio in /usr/local/lib/python3.11/dist-packages (from httpx>=0.25.2->langgraph-sdk<0.2.0,>=0.1.42->langgraph==0.2.64) (3.7.1)\n",
            "Requirement already satisfied: certifi in /usr/local/lib/python3.11/dist-packages (from httpx>=0.25.2->langgraph-sdk<0.2.0,>=0.1.42->langgraph==0.2.64) (2024.12.14)\n",
            "Requirement already satisfied: httpcore==1.* in /usr/local/lib/python3.11/dist-packages (from httpx>=0.25.2->langgraph-sdk<0.2.0,>=0.1.42->langgraph==0.2.64) (1.0.7)\n",
            "Requirement already satisfied: idna in /usr/local/lib/python3.11/dist-packages (from httpx>=0.25.2->langgraph-sdk<0.2.0,>=0.1.42->langgraph==0.2.64) (3.10)\n",
            "Requirement already satisfied: h11<0.15,>=0.13 in /usr/local/lib/python3.11/dist-packages (from httpcore==1.*->httpx>=0.25.2->langgraph-sdk<0.2.0,>=0.1.42->langgraph==0.2.64) (0.14.0)\n",
            "Requirement already satisfied: jsonpointer>=1.9 in /usr/local/lib/python3.11/dist-packages (from jsonpatch<2.0,>=1.33->langchain-core!=0.3.0,!=0.3.1,!=0.3.10,!=0.3.11,!=0.3.12,!=0.3.13,!=0.3.14,!=0.3.15,!=0.3.16,!=0.3.17,!=0.3.18,!=0.3.19,!=0.3.2,!=0.3.20,!=0.3.21,!=0.3.22,!=0.3.3,!=0.3.4,!=0.3.5,!=0.3.6,!=0.3.7,!=0.3.8,!=0.3.9,<0.4.0,>=0.2.43->langgraph==0.2.64) (3.0.0)\n",
            "Requirement already satisfied: requests<3,>=2 in /usr/local/lib/python3.11/dist-packages (from langsmith<0.4,>=0.1.125->langchain-core!=0.3.0,!=0.3.1,!=0.3.10,!=0.3.11,!=0.3.12,!=0.3.13,!=0.3.14,!=0.3.15,!=0.3.16,!=0.3.17,!=0.3.18,!=0.3.19,!=0.3.2,!=0.3.20,!=0.3.21,!=0.3.22,!=0.3.3,!=0.3.4,!=0.3.5,!=0.3.6,!=0.3.7,!=0.3.8,!=0.3.9,<0.4.0,>=0.2.43->langgraph==0.2.64) (2.32.3)\n",
            "Requirement already satisfied: requests-toolbelt<2.0.0,>=1.0.0 in /usr/local/lib/python3.11/dist-packages (from langsmith<0.4,>=0.1.125->langchain-core!=0.3.0,!=0.3.1,!=0.3.10,!=0.3.11,!=0.3.12,!=0.3.13,!=0.3.14,!=0.3.15,!=0.3.16,!=0.3.17,!=0.3.18,!=0.3.19,!=0.3.2,!=0.3.20,!=0.3.21,!=0.3.22,!=0.3.3,!=0.3.4,!=0.3.5,!=0.3.6,!=0.3.7,!=0.3.8,!=0.3.9,<0.4.0,>=0.2.43->langgraph==0.2.64) (1.0.0)\n",
            "Requirement already satisfied: annotated-types>=0.6.0 in /usr/local/lib/python3.11/dist-packages (from pydantic<3.0.0,>=2.5.2->langchain-core!=0.3.0,!=0.3.1,!=0.3.10,!=0.3.11,!=0.3.12,!=0.3.13,!=0.3.14,!=0.3.15,!=0.3.16,!=0.3.17,!=0.3.18,!=0.3.19,!=0.3.2,!=0.3.20,!=0.3.21,!=0.3.22,!=0.3.3,!=0.3.4,!=0.3.5,!=0.3.6,!=0.3.7,!=0.3.8,!=0.3.9,<0.4.0,>=0.2.43->langgraph==0.2.64) (0.7.0)\n",
            "Requirement already satisfied: pydantic-core==2.27.2 in /usr/local/lib/python3.11/dist-packages (from pydantic<3.0.0,>=2.5.2->langchain-core!=0.3.0,!=0.3.1,!=0.3.10,!=0.3.11,!=0.3.12,!=0.3.13,!=0.3.14,!=0.3.15,!=0.3.16,!=0.3.17,!=0.3.18,!=0.3.19,!=0.3.2,!=0.3.20,!=0.3.21,!=0.3.22,!=0.3.3,!=0.3.4,!=0.3.5,!=0.3.6,!=0.3.7,!=0.3.8,!=0.3.9,<0.4.0,>=0.2.43->langgraph==0.2.64) (2.27.2)\n",
            "Requirement already satisfied: charset-normalizer<4,>=2 in /usr/local/lib/python3.11/dist-packages (from requests<3,>=2->langsmith<0.4,>=0.1.125->langchain-core!=0.3.0,!=0.3.1,!=0.3.10,!=0.3.11,!=0.3.12,!=0.3.13,!=0.3.14,!=0.3.15,!=0.3.16,!=0.3.17,!=0.3.18,!=0.3.19,!=0.3.2,!=0.3.20,!=0.3.21,!=0.3.22,!=0.3.3,!=0.3.4,!=0.3.5,!=0.3.6,!=0.3.7,!=0.3.8,!=0.3.9,<0.4.0,>=0.2.43->langgraph==0.2.64) (3.4.1)\n",
            "Requirement already satisfied: urllib3<3,>=1.21.1 in /usr/local/lib/python3.11/dist-packages (from requests<3,>=2->langsmith<0.4,>=0.1.125->langchain-core!=0.3.0,!=0.3.1,!=0.3.10,!=0.3.11,!=0.3.12,!=0.3.13,!=0.3.14,!=0.3.15,!=0.3.16,!=0.3.17,!=0.3.18,!=0.3.19,!=0.3.2,!=0.3.20,!=0.3.21,!=0.3.22,!=0.3.3,!=0.3.4,!=0.3.5,!=0.3.6,!=0.3.7,!=0.3.8,!=0.3.9,<0.4.0,>=0.2.43->langgraph==0.2.64) (2.3.0)\n",
            "Requirement already satisfied: sniffio>=1.1 in /usr/local/lib/python3.11/dist-packages (from anyio->httpx>=0.25.2->langgraph-sdk<0.2.0,>=0.1.42->langgraph==0.2.64) (1.3.1)\n",
            "Downloading langgraph-0.2.64-py3-none-any.whl (142 kB)\n",
            "\u001b[2K   \u001b[90m━━━━━━━━━━━━━━━━━━━━━━━━━━━━━━━━━━━━━━━━\u001b[0m \u001b[32m142.6/142.6 kB\u001b[0m \u001b[31m6.2 MB/s\u001b[0m eta \u001b[36m0:00:00\u001b[0m\n",
            "\u001b[?25hDownloading langgraph_checkpoint-2.0.10-py3-none-any.whl (37 kB)\n",
            "Downloading langgraph_sdk-0.1.51-py3-none-any.whl (44 kB)\n",
            "\u001b[2K   \u001b[90m━━━━━━━━━━━━━━━━━━━━━━━━━━━━━━━━━━━━━━━━\u001b[0m \u001b[32m44.7/44.7 kB\u001b[0m \u001b[31m2.6 MB/s\u001b[0m eta \u001b[36m0:00:00\u001b[0m\n",
            "\u001b[?25hInstalling collected packages: langgraph-sdk, langgraph-checkpoint, langgraph\n",
            "Successfully installed langgraph-0.2.64 langgraph-checkpoint-2.0.10 langgraph-sdk-0.1.51\n"
          ]
        }
      ],
      "source": [
        "!pip install langchain==0.3.14\n",
        "!pip install langchain-openai==0.3.0\n",
        "!pip install langchain-community==0.3.14\n",
        "!pip install langgraph==0.2.64"
      ]
    },
    {
      "cell_type": "markdown",
      "source": [
        "## Enter Open AI API Key"
      ],
      "metadata": {
        "id": "H9c37cLnSrbg"
      },
      "id": "H9c37cLnSrbg"
    },
    {
      "cell_type": "code",
      "source": [
        "from getpass import getpass\n",
        "\n",
        "OPENAI_KEY = getpass('Enter Open AI API Key: ')"
      ],
      "metadata": {
        "id": "cv3JzCEx_PAd",
        "colab": {
          "base_uri": "https://localhost:8080/"
        },
        "outputId": "03b64bdf-0417-453e-da30-9040cba4655e"
      },
      "execution_count": 2,
      "outputs": [
        {
          "name": "stdout",
          "output_type": "stream",
          "text": [
            "Enter Open AI API Key: ··········\n"
          ]
        }
      ],
      "id": "cv3JzCEx_PAd"
    },
    {
      "cell_type": "markdown",
      "source": [
        "## Enter Tavily Search API Key\n",
        "\n",
        "Get a free API key from [here](https://tavily.com/#api)"
      ],
      "metadata": {
        "id": "ucWRRI3QztL2"
      },
      "id": "ucWRRI3QztL2"
    },
    {
      "cell_type": "code",
      "source": [
        "TAVILY_API_KEY = getpass('Enter Tavily Search API Key: ')"
      ],
      "metadata": {
        "id": "mK-1WLzOrJdb",
        "colab": {
          "base_uri": "https://localhost:8080/"
        },
        "outputId": "6eba8ef8-3bc5-4762-f47f-e984ea0c496b"
      },
      "execution_count": 3,
      "outputs": [
        {
          "name": "stdout",
          "output_type": "stream",
          "text": [
            "Enter Tavily Search API Key: ··········\n"
          ]
        }
      ],
      "id": "mK-1WLzOrJdb"
    },
    {
      "cell_type": "markdown",
      "source": [
        "## Setup Environment Variables"
      ],
      "metadata": {
        "id": "1T0s0um5Svfa"
      },
      "id": "1T0s0um5Svfa"
    },
    {
      "cell_type": "code",
      "source": [
        "import os\n",
        "\n",
        "os.environ['OPENAI_API_KEY'] = OPENAI_KEY\n",
        "os.environ['TAVILY_API_KEY'] = TAVILY_API_KEY"
      ],
      "metadata": {
        "id": "x1YSuHNF_lbh"
      },
      "execution_count": 4,
      "outputs": [],
      "id": "x1YSuHNF_lbh"
    },
    {
      "cell_type": "markdown",
      "id": "5999f8d0-989f-4638-8ade-5c257cbadfe8",
      "metadata": {
        "id": "5999f8d0-989f-4638-8ade-5c257cbadfe8"
      },
      "source": [
        "## State\n",
        "\n",
        "First, define the [State](https://langchain-ai.github.io/langgraph/concepts/low_level/#state) of the graph.\n",
        "\n",
        "The State schema serves as the input schema for all Nodes and Edges in the graph.\n",
        "\n",
        "Let's use the `TypedDict` class from python's `typing` module as our schema, which provides type hints for the keys."
      ]
    },
    {
      "cell_type": "code",
      "execution_count": 5,
      "id": "6a90709b-ddfa-4671-8acc-c59969a29991",
      "metadata": {
        "id": "6a90709b-ddfa-4671-8acc-c59969a29991"
      },
      "outputs": [],
      "source": [
        "from typing import Annotated\n",
        "from typing_extensions import TypedDict\n",
        "from langgraph.graph.message import add_messages\n",
        "\n",
        "class State(TypedDict):\n",
        "    messages: Annotated[list, add_messages]"
      ]
    },
    {
      "cell_type": "markdown",
      "id": "888509e1-cbde-4c03-99a0-2560dd2e262d",
      "metadata": {
        "id": "888509e1-cbde-4c03-99a0-2560dd2e262d"
      },
      "source": [
        "## Augment the LLM with tools\n",
        "\n",
        "Here we define our custom search tool and then bind it to the LLM to augment the LLM"
      ]
    },
    {
      "cell_type": "code",
      "source": [
        "from langchain_openai import ChatOpenAI\n",
        "from langchain_community.utilities.tavily_search import TavilySearchAPIWrapper\n",
        "from langchain_core.tools import tool\n",
        "\n",
        "llm = ChatOpenAI(model=\"gpt-4o\", temperature=0)\n",
        "\n",
        "tavily_search = TavilySearchAPIWrapper()\n",
        "@tool\n",
        "def search_web(query: str, num_results=5):\n",
        "    \"\"\"Search the web for a query. Userful for general information or general news\"\"\"\n",
        "    results = tavily_search.raw_results(query=query,\n",
        "                                        max_results=num_results,\n",
        "                                        search_depth='advanced',\n",
        "                                        include_raw_content=True)\n",
        "    return results\n",
        "\n",
        "tools = [search_web]\n",
        "llm_with_tools = llm.bind_tools(tools=tools)"
      ],
      "metadata": {
        "id": "2lYXBn1ImzlB"
      },
      "id": "2lYXBn1ImzlB",
      "execution_count": 6,
      "outputs": []
    },
    {
      "cell_type": "code",
      "source": [
        "llm_with_tools.invoke('what is AI in 1 line')"
      ],
      "metadata": {
        "colab": {
          "base_uri": "https://localhost:8080/"
        },
        "id": "52btTC1XjAC3",
        "outputId": "d18871ad-42d0-4508-e194-73d081bddd36"
      },
      "id": "52btTC1XjAC3",
      "execution_count": 7,
      "outputs": [
        {
          "output_type": "execute_result",
          "data": {
            "text/plain": [
              "AIMessage(content='AI, or Artificial Intelligence, is the simulation of human intelligence processes by machines, especially computer systems, to perform tasks such as learning, reasoning, and problem-solving.', additional_kwargs={'refusal': None}, response_metadata={'token_usage': {'completion_tokens': 35, 'prompt_tokens': 72, 'total_tokens': 107, 'completion_tokens_details': {'accepted_prediction_tokens': 0, 'audio_tokens': 0, 'reasoning_tokens': 0, 'rejected_prediction_tokens': 0}, 'prompt_tokens_details': {'audio_tokens': 0, 'cached_tokens': 0}}, 'model_name': 'gpt-4o-2024-08-06', 'system_fingerprint': 'fp_50cad350e4', 'finish_reason': 'stop', 'logprobs': None}, id='run-59f80f35-cd93-4ea2-9c4e-a8e7d1a0e3b5-0', usage_metadata={'input_tokens': 72, 'output_tokens': 35, 'total_tokens': 107, 'input_token_details': {'audio': 0, 'cache_read': 0}, 'output_token_details': {'audio': 0, 'reasoning': 0}})"
            ]
          },
          "metadata": {},
          "execution_count": 7
        }
      ]
    },
    {
      "cell_type": "code",
      "source": [
        "llm_with_tools.invoke('what is the latest news on nvidia')"
      ],
      "metadata": {
        "colab": {
          "base_uri": "https://localhost:8080/"
        },
        "id": "wjOYMS0rn1CF",
        "outputId": "8fe3b02b-148c-4ea7-c83f-eb9a8b8f6229"
      },
      "id": "wjOYMS0rn1CF",
      "execution_count": 8,
      "outputs": [
        {
          "output_type": "execute_result",
          "data": {
            "text/plain": [
              "AIMessage(content='', additional_kwargs={'tool_calls': [{'id': 'call_uk6ZSz8PaeTFpGx4Y0tLpe03', 'function': {'arguments': '{\"query\":\"latest news on Nvidia\",\"num_results\":5}', 'name': 'search_web'}, 'type': 'function'}], 'refusal': None}, response_metadata={'token_usage': {'completion_tokens': 23, 'prompt_tokens': 73, 'total_tokens': 96, 'completion_tokens_details': {'accepted_prediction_tokens': 0, 'audio_tokens': 0, 'reasoning_tokens': 0, 'rejected_prediction_tokens': 0}, 'prompt_tokens_details': {'audio_tokens': 0, 'cached_tokens': 0}}, 'model_name': 'gpt-4o-2024-08-06', 'system_fingerprint': 'fp_4691090a87', 'finish_reason': 'tool_calls', 'logprobs': None}, id='run-7313fb62-7fd3-4117-9936-598cab119493-0', tool_calls=[{'name': 'search_web', 'args': {'query': 'latest news on Nvidia', 'num_results': 5}, 'id': 'call_uk6ZSz8PaeTFpGx4Y0tLpe03', 'type': 'tool_call'}], usage_metadata={'input_tokens': 73, 'output_tokens': 23, 'total_tokens': 96, 'input_token_details': {'audio': 0, 'cache_read': 0}, 'output_token_details': {'audio': 0, 'reasoning': 0}})"
            ]
          },
          "metadata": {},
          "execution_count": 8
        }
      ]
    },
    {
      "cell_type": "markdown",
      "source": [
        "## Create the Graph with the Augmented LLM\n",
        "\n",
        "![](https://i.imgur.com/5r015dw.png)"
      ],
      "metadata": {
        "id": "NPFD28OWjGQM"
      },
      "id": "NPFD28OWjGQM"
    },
    {
      "cell_type": "code",
      "source": [
        "from langgraph.graph import StateGraph, START, END\n",
        "from langgraph.prebuilt import ToolNode, tools_condition\n",
        "\n",
        "# Augmented LLM with Tools Node function\n",
        "def tool_calling_llm(state: State) -> State:\n",
        "    current_state = state[\"messages\"]\n",
        "    return {\"messages\": [llm_with_tools.invoke(current_state)]}\n",
        "\n",
        "# Build the graph\n",
        "builder = StateGraph(State)\n",
        "builder.add_node(\"tool_calling_llm\", tool_calling_llm)\n",
        "builder.add_node(\"tools\", ToolNode(tools=tools))\n",
        "builder.add_edge(START, \"tool_calling_llm\")\n",
        "\n",
        "# Conditional Edge\n",
        "builder.add_conditional_edges(\n",
        "    \"tool_calling_llm\",\n",
        "    # If the latest message (result) from LLM is a tool call -> tools_condition routes to tools\n",
        "    # If the latest message (result) from LLM is a not a tool call -> tools_condition routes to END\n",
        "    tools_condition,\n",
        "    [\"tools\", END]\n",
        ")\n",
        "builder.add_edge(\"tools\", END)\n",
        "graph = builder.compile()"
      ],
      "metadata": {
        "id": "IJvHs_Py3uCV"
      },
      "id": "IJvHs_Py3uCV",
      "execution_count": 9,
      "outputs": []
    },
    {
      "cell_type": "code",
      "source": [
        "graph"
      ],
      "metadata": {
        "colab": {
          "base_uri": "https://localhost:8080/",
          "height": 350
        },
        "id": "JR2L3D5Y3uH9",
        "outputId": "f4b09c6f-e2f8-471f-9b2b-5d1ed8b52500"
      },
      "id": "JR2L3D5Y3uH9",
      "execution_count": 10,
      "outputs": [
        {
          "output_type": "execute_result",
          "data": {
            "text/plain": [
              "<langgraph.graph.state.CompiledStateGraph object at 0x7ba8b2805410>"
            ],
            "image/png": "[encoded data removed]"
          },
          "metadata": {},
          "execution_count": 10
        }
      ]
    },
    {
      "cell_type": "code",
      "execution_count": 11,
      "id": "db16ab8d-b817-4f3a-befc-a02b579c4fca",
      "metadata": {
        "id": "db16ab8d-b817-4f3a-befc-a02b579c4fca",
        "colab": {
          "base_uri": "https://localhost:8080/"
        },
        "outputId": "71b24894-aa5e-492f-c4bf-e007d776ac3d"
      },
      "outputs": [
        {
          "output_type": "stream",
          "name": "stdout",
          "text": [
            "================================\u001b[1m Human Message \u001b[0m=================================\n",
            "\n",
            "Explain AI in 2 bullets\n",
            "==================================\u001b[1m Ai Message \u001b[0m==================================\n",
            "\n",
            "- **Definition and Functionality**: Artificial Intelligence (AI) refers to the simulation of human intelligence processes by machines, especially computer systems. These processes include learning (the acquisition of information and rules for using the information), reasoning (using rules to reach approximate or definite conclusions), and self-correction.\n",
            "\n",
            "- **Applications and Impact**: AI is utilized in various applications such as natural language processing, robotics, and computer vision, significantly impacting industries like healthcare, finance, and transportation by improving efficiency, accuracy, and decision-making capabilities.\n"
          ]
        }
      ],
      "source": [
        "user_input = \"Explain AI in 2 bullets\"\n",
        "for event in graph.stream({\"messages\": user_input},\n",
        "                          stream_mode='values'):\n",
        "    event['messages'][-1].pretty_print()"
      ]
    },
    {
      "cell_type": "code",
      "source": [
        "user_input = \"What is the latest news on OpenAI product releases\"\n",
        "for event in graph.stream({\"messages\": user_input},\n",
        "                          stream_mode='values'):\n",
        "    event['messages'][-1].pretty_print()"
      ],
      "metadata": {
        "colab": {
          "base_uri": "https://localhost:8080/"
        },
        "id": "h-zYQrB6383i",
        "outputId": "5a4d52db-9562-45ce-a68b-cb567a7d85e9"
      },
      "id": "h-zYQrB6383i",
      "execution_count": 12,
      "outputs": [
        {
          "output_type": "stream",
          "name": "stdout",
          "text": [
            "================================\u001b[1m Human Message \u001b[0m=================================\n",
            "\n",
            "What is the latest news on OpenAI product releases\n",
            "==================================\u001b[1m Ai Message \u001b[0m==================================\n",
            "Tool Calls:\n",
            "  search_web (call_XTOjdjVIw3t3hRGVT9e6yZ44)\n",
            " Call ID: call_XTOjdjVIw3t3hRGVT9e6yZ44\n",
            "  Args:\n",
            "    query: OpenAI latest product releases\n",
            "    num_results: 5\n",
            "=================================\u001b[1m Tool Message \u001b[0m=================================\n",
            "Name: search_web\n",
            "\n",
            "{\"query\": \"OpenAI latest product releases\", \"follow_up_questions\": null, \"answer\": null, \"images\": [], \"results\": [{\"title\": \"OpenAI teases 12 days of mystery product launches starting tomorrow\", \"url\": \"https://arstechnica.com/ai/2024/12/openai-teases-12-days-of-mystery-product-launches-starting-tomorrow/\", \"content\": \"OpenAI teases 12 days of mystery product launches starting tomorrow - Ars Technica OpenAI's \\\"12 days of shipmas\\\" will reveal new AI releases and demos for two weeks. On Wednesday, OpenAI CEO Sam Altman announced a \\\"12 days of OpenAI\\\" period starting December 5, which will unveil new AI features and products for 12 consecutive weekdays. Altman did not specify the exact features or products OpenAI plans to unveil, but a report from The Verge about this \\\"12 days of shipmas\\\" event suggests the products may include a public release of the company's text-to-video model Sora and a new \\\"reasoning\\\" AI model similar to o1-preview. Benj Edwards is Ars Technica's Senior AI Reporter and founder of the site's dedicated AI beat in 2022.\", \"score\": 0.80070794, \"raw_content\": \"OpenAI teases 12 days of mystery product launches starting tomorrow - Ars Technica\\nSkip to content\\nArs Technica home\\nSections\\nForum\\nSubscribe\\n\\n\\nAI\\nBiz & IT\\nCars\\nCulture\\nGaming\\nHealth\\nPolicy\\nScience\\nSecurity\\nSpace\\n\\nTech\\n\\n\\nFeature\\n\\nReviews\\n\\nStore\\n\\n\\nAI\\n\\nBiz & IT\\nCars\\nCulture\\nGaming\\nHealth\\nPolicy\\nScience\\nSecurity\\nSpace\\nTech\\n\\nForum\\nSubscribe\\nStory text\\nSize  Width *  Links \\n* Subscribers only\\nLearn more\\nPin to story\\nTheme\\n\\nLight\\nDark\\nSystem\\n\\nSearch dialog...\\nSign In\\nSign in dialog...\\nSign in\\nAnd a partridge in a GPT\\nOpenAI teases 12 days of mystery product launches starting tomorrow\\nOpenAI's \\\"12 days of shipmas\\\" will reveal new AI releases and demos for two weeks.\\nBenj Edwards – Dec 4, 2024 8:15 PM | 38\\n \\nCredit: ThomasVogel via Getty Images\\nCredit: ThomasVogel via Getty Images\\nText settings\\nStory text\\nSize  Width *  Links \\n* Subscribers only\\nLearn more\\nMinimize to nav\\nOn Wednesday, OpenAI CEO Sam Altman announced a \\\"12 days of OpenAI\\\" period starting December 5, which will unveil new AI features and products for 12 consecutive weekdays.\\nAltman did not specify the exact features or products OpenAI plans to unveil, but a report from The Verge about this \\\"12 days of shipmas\\\" event suggests the products may include a public release of the company's text-to-video model Sora and a new \\\"reasoning\\\" AI model similar to o1-preview. Perhaps we may even see DALL-E 4 or a new image generator based on GPT-4o's multimodal capabilities.\\nAltman's full tweet included hints at releases both big and small:\\n\\n🎄🎅starting tomorrow at 10 am pacific, we are doing 12 days of openai.\\neach weekday, we will have a livestream with a launch or demo, some big ones and some stocking stuffers.\\nwe’ve got some great stuff to share, hope you enjoy! merry christmas.\\n\\nIf we're reading the calendar correctly, 12 weekdays means a new announcement every day until December 20.\\nPrior to Altman's tweet, OpenAI employees had earlier dropped hints on X about the upcoming releases. Sora lead Bill Peebles replied to a post from a colleague named \\\"roon\\\" about OpenAI being \\\"unbelievably back\\\" with a one-word confirmation: \\\"Correct.\\\"\\nA full release of the \\\"o1\\\" reasoning model has been highly anticipated among the AI community, and it's seen by many industry pundits as a critical move to potentially place OpenAI ahead of competitors like Google and Anthropic.\\nOn the other hand, the potential upcoming launch of Sora comes with some controversy. Artists who tested the model through an invite-only research preview recently leaked it in protest, claiming OpenAI used them for \\\"unpaid R&D and PR.\\\" Former OpenAI CTO Mira Murati told The Wall Street Journal in March that Sora would become available by the end of 2024.\\nGoogle has positioned itself to compete with Sora by releasing its own video-generation model called Veo in a private preview. The company now offers Veo to businesses through its Vertex AI platform. We first covered Veo in May, three months after OpenAI announced Sora.\\n\\nBenj Edwards Senior AI Reporter\\nBenj Edwards Senior AI Reporter\\nBenj Edwards is Ars Technica's Senior AI Reporter and founder of the site's dedicated AI beat in 2022. He's also a tech historian with almost two decades of experience. In his free time, he writes and records music, collects vintage computers, and enjoys nature. He lives in Raleigh, NC.\\n38 Comments\\nComments\\nForum view\\n Loading comments...\\nPrev story\\nNext story\\nMost Read\\n\\n\\n\\n\\nChina hits US with ban on critical minerals used in tech manufacturing\\n\\n\\n\\n\\nSplash pads really are fountains of fecal material; CDC reports 10K illnesses\\n\\n\\n\\n\\nCertain names make ChatGPT grind to a halt, and we know why\\n\\n\\n\\n\\nCompany claims 1,000 percent price hike drove it from VMware to open source rival\\n\\n\\n\\n\\nHowStuffWorks founder Marshall Brain sent final email before sudden death\\n\\n\\n\\nCustomize\\nArs Technica has been separating the signal from the noise for over 25 years. With our unique combination of technical savvy and wide-ranging interest in the technological arts and sciences, Ars is the trusted source in a sea of information. After all, you don’t need to know everything, only what’s important.\\n\\nMore from Ars\\n\\nAbout Us\\nStaff Directory\\nNewsletters\\nArs Videos\\nGeneral FAQ\\nRSS Feeds\\n\\nContact\\n\\nContact us\\nAdvertise with us\\nReprints\\n\\nDo Not Sell My Personal Information\\n© 2024 Condé Nast. All rights reserved. Use of and/or registration on any portion of this site constitutes acceptance of our User Agreement and Privacy Policy and Cookie Statement and Ars Technica Addendum and Your California Privacy Rights. Ars Technica may earn compensation on sales from links on this site. Read our affiliate link policy. The material on this site may not be reproduced, distributed, transmitted, cached or otherwise used, except with the prior written permission of Condé Nast. Ad Choices\\nSearch dialog...\\nSign in dialog...\\nSign in\"}, {\"title\": \"All of OpenAI's Releases for Its 12 Days of 'Shipmas' - Business Insider\", \"url\": \"https://www.businessinsider.com/everything-openai-released-12-days-of-shipmas-sora-o1-2024-12?op=1\", \"content\": \"Everything OpenAI Has Released so Far for 12 Days of 'Shipmas' Campaign - Business Insider Here are all the things OpenAI has released so far for its 12 days of 'Shipmas' campaign OpenAI CEO Sam Altman and members of his team as they announce new products on the first day of \\\"Shipmas.\\\" Screenshot OpenAI has kicked off a new marketing campaign called \\\"Shipmas.\\\" On the first day, OpenAI released an updated version of o1 and ChatGPT Pro. Fans are hoping the 12-day campaign, which OpenAI is calling \\\"Shipmas,\\\" will include an update of its text-to-video AI tool, Sora, as well as other updates to its ChatGPT and o1 models. Advertising Policies\", \"score\": 0.74363416, \"raw_content\": \"Everything OpenAI Has Released so Far for 12 Days of 'Shipmas' Campaign - Business Insider\\n\\n\\nNewsletters\\nSubscribe\\nLog in\\nSubscribe\\n\\nBusiness\\nStrategy\\nEconomy\\nFinance\\nRetail\\nAdvertising\\nCareers\\nMedia\\nReal Estate\\nSmall Business\\nThe Better Work Project\\n\\n\\nTech\\nScience\\nAI\\nSustainability\\nEnterprise\\nTransportation\\nStartups\\nInnovation\\n\\n\\nMarkets\\nStocks\\nIndices\\nCommodities\\nCrypto\\nCurrencies\\nETFs\\n\\n\\nLifestyle\\nEntertainment\\nCulture\\nTravel\\nFood\\nHealth\\nParenting\\nReviews\\nTech\\nStreaming\\nHome\\nKitchen\\nStyle\\nBeauty\\nPets\\nGifts\\nDeals\\n\\n\\n\\n\\nPolitics\\nMilitary & Defense\\nLaw\\nEducation\\n\\n\\nPersonal Finance\\nBanking\\nCredit Cards\\nInvesting\\nLoans\\nMortgages\\n\\n\\nVideo\\nBig Business\\nFood Wars\\nSo Expensive\\nExplainers\\nStill Standing\\nBoot Camp\\n\\n\\nAll\\nA-Z\\nAdvertising\\nAI\\nBanking\\nBusiness\\nCareers\\nCommodities\\nCredit Cards\\nCrypto\\nCulture\\nCurrencies\\nEconomy\\nEducation\\nEnterprise\\nEntertainment\\nETFs\\nFinance\\nFood\\nHealth\\nIndices\\nInnovation\\nInvesting\\nLaw\\nLifestyle\\nLoans\\nMarkets\\nMedia\\nMilitary & Defense\\nMortgages\\nParenting\\nPersonal Finance\\nPolitics\\nRetail\\nReviews\\nSmall Business\\nScience\\nStartups\\nStocks\\nStrategy\\nSustainability\\nTech\\nTransportation\\nTravel\\nVideo\\nFeatured\\nTalent Insider\\nAbout\\nAbout\\nAdvertise\\nCareers\\nCode of Ethics\\nContact Us\\nCorporate\\nCorrections Policy\\nFollow\\nRSS\\nSitemap\\nFacebook\\nTwitter\\nInstagram\\nYouTube\\nLinkedIn\\nSubscriptions\\nIntelligence\\n\\n\\n\\nHome\\nNewsletters\\nLog in\\nSubscribe\\nAI\\nHere are all the things OpenAI has released so far for its 12 days of 'Shipmas' campaign\\nLakshmi Varanasi\\n2024-12-05T19:31:58Z\\nShare\\nFacebook Email X LinkedIn Copy Link  Impact Link\\nSave\\nRead in app\\n\\nOpenAI CEO Sam Altman and members of his team as they announce new products on the first day of \\\"Shipmas.\\\" Screenshot\\nThis story is available exclusively to Business Insider subscribers. Become an Insider and start reading now. Have an account? Log in.\\nAdvertisement\\n\\nOpenAI has kicked off a new marketing campaign called \\\"Shipmas.\\\"\\nThe campaign will include 12 days of product releases, demos, and new features.\\nOn the first day, OpenAI released an updated version of o1 and ChatGPT Pro.\\n\\nOpenAI is releasing new features and products ahead of the holidays.\\nFans are hoping the 12-day campaign, which OpenAI is calling \\\"Shipmas,\\\" will include an update of its text-to-video AI tool, Sora, as well as other updates to its ChatGPT and o1 models.\\nAdvertisement\\nOpenAI hinted at its plans on Wednesday in a post on X, saying: \\\"12 days. 12 livestreams. A bunch of new things, big and small. 12 Days of OpenAI starts tomorrow.\\\"\\nCEO Sam Altman also alluded to the campaign at The New York Times DealBook Summit on Wednesday. \\\"We have a bunch of new, great stuff. We're doing this kind of fun thing for the holidays. We're doing 12 days of OpenAI,\\\" he said. \\\"We'll either launch something or do a demo everyday for the next 12 week days.\\\"\\nHere's everything OpenAI has released so far for \\\"Shipmas.\\\"\\nAdvertisement\\n\\\"Shipmas\\\" Day 1\\nOpenAI started the promotion with a bang by releasing the full version of its latest reasoning model, o1.  \\nOpenAI previewed o1 in September, describing it as a series of AI models \\\"designed to spend more time thinking before they respond.\\\" Until now, a limited version of these models was only available to ChatGPT Plus and Team users.  \\nNow, these users have access to the full capabilities of o1 models, which Altman said are faster, smarter, and easier to use than the preview. They're also multimodal, which means they can process images and texts jointly.\\nRelated stories\\nMax Schwarzer, a researcher at OpenAI, said the full version of o1 was updated based on user feedback from the preview version and said it's now more intelligent and accurate.\\n\\\"We ran a pretty detailed suite of human evaluations for this model, and what we found was that it made major mistakes about 34% less often than o1 preview while thinking fully about 50% faster,\\\" he said.\\nAdvertisement\\nAlong with o1, OpenAI also unveiled a new tier of ChatGPT called ChatGPT Pro. It's priced at $200 a month and includes unlimited access to the latest version of o1.\\nRead next\\nOpenAI Sam Altman\\nAdvertisement\\nAdvertisement\\nRecommended video\\nAdvertisement\\nThis story is available exclusively to Business Insider subscribers. Become an Insider and start reading now. Have an account? Log in.\\n\\nFollow us on:\\n\\n\\n\\n* Copyright © 2024 Insider Inc. All rights reserved. Registration on or use of this site constitutes acceptance of our Terms of Service and Privacy Policy.\\n\\n\\nContact Us\\n\\nMasthead\\nSitemap\\nDisclaimer\\nAccessibility\\nCommerce Policy\\nAdvertising Policies\\n\\nJobs @ Business Insider\\n\\n\\nStock quotes by finanzen.net\\n\\nReprints & Permissions\\n\\nYour Privacy Choices\\n\\nInternational Editions:\\nUnited States US\\nDeutschland & Österreich AT\\nDeutschland DE\\nEspaña ES\\nJapan JP\\nNetherlands NL\\nPolska PL\\n\\n\\n\\n\\n\\n\\nJump to\\n\\nMain content\\nSearch\\nAccount\\n\"}, {\"title\": \"Here's everything OpenAI announced in the past 12 days\", \"url\": \"https://www.digitaltrends.com/computing/12-days-of-openai-everything-the-company-has-announced/\", \"content\": \"See All Reviews More Reviews OpenAI kicked off its inaugural “12 Days of OpenAI” media blitz on December 5, each day unveiling new features, models, subscription tiers, and capabilities for its growing ChatGPT product ecosystem during a series of live-stream events. On day five, OpenAI announced that it is working with Apple to integrate ChatGPT into Apple Intelligence, specifically Siri, allowing users to invoke the chatbot directly through iOS. OpenAI's \\\"12 Days of OpenAI\\\" continued apace on Wednesday with the development team announcing a new seasonal voice for ChatGPT's Advanced Voice Mode (AVM), as well as new video and screen-sharing capabilities for the conversational AI feature.\", \"score\": 0.7065353, \"raw_content\": \"Here’s everything OpenAI announced in the past 12 days | Digital Trends\\nSkip to main content\\nMenu\\nDigital Trends\\nComputingAIMobileGamingEntertainmentAudio / VideoAutosCES 2025Videos Search \\n\\n\\n\\n[ ] ComputingComputing\\n\\nSee All Computing\\nTrending Topics\\nLaptops\\nSoftware\\nPC Gaming\\nGraphics Cards\\n\\n\\nTrending Guides\\nChatGPT\\nWhat is a Chromebook?\\nHow to Choose a Laptop\\nWindows 11 vs Windows 10\\nDownload YouTube Videos\\n\\n\\n\\n\\nAI\\n[ ] MobileMobile\\nSee All Mobile\\nTrending Topics\\n5G\\nPhone Apps\\niPhone\\nAndroid\\nWearables\\n\\n\\nTrending Guides\\nWhat is 5G?\\nHow to Unlock a Phone\\nHow to Stop Spam Calls\\nBest Stock-Trading Apps\\nHow to Use WhatsApp Web\\n\\n\\n\\n\\n[ ] GamingGaming\\nSee All Gaming\\nTrending Topics\\nXbox\\nPlayStation\\nPC Gaming\\nCloud Gaming\\nNintendo Switch\\n\\n\\nTrending Guides\\nWordle Today\\nXbox Series X vs PS5\\nUpcoming PS5 Games\\nAll Cross-Platform Games\\nUpcoming Switch Games\\n\\n\\n\\n\\n[ ] EntertainmentEntertainment\\nSee All Entertainment\\nTrending Topics\\nSci-Fi\\nAction\\nMarvel\\nFantasy\\nDC Comics\\n\\n\\nTrending Guides\\nBest New Movies\\nBest New Shows\\nBest Shows on Netflix\\nBest Movies on Netflix\\nBest Shows on Disney Plus\\n\\n\\n‎What to Watch\\nBest Movies on Disney Plus\\nBest Shows on Amazon Prime\\nBest Movies on Amazon Prime\\nMost Popular Movies on Netflix\\nSee All Streaming Guides\\n\\n\\n\\n\\n[ ] Audio / VideoAudio / Video\\nSee All Audio / Video\\nTrending Topics\\nTVs\\nSpeakers\\nSoundbars\\nHeadphones\\nStreaming Services\\n\\n\\nTrending Guides\\nFuboTV\\nSling TV\\nYouTube TV\\nQLED vs OLED\\nWhat is Sonos?\\n\\n\\n\\n\\n[ ] Smart HomeSmart Home\\nSee All Smart Home\\nTrending Topics\\nGoogle Nest\\nAmazon Alexa\\nHome Security\\nVideo Doorbell\\nRobot Vacuums\\n\\n\\nBrowse by Type\\nSmart Home News\\nSmart Home Guides\\nSmart Home Features\\nSmart Home Reviews\\nSmart Home Deals\\n\\n\\n\\n\\n[ ] AutosAutos\\nSee All Autos\\nTrending Reviews\\nToyota Prius Prime Review\\nLexus RZ 450e Review\\nMercedes EQE AMG SUV Review\\nBMW XM Review\\nHyundai Ioniq 6 Review\\n\\n\\nTrending Guides\\nNACS charging\\nEV tax credits\\nBest Level 2 EV chargers\\nRivian R2 SUV\\nVolvo EX90 SUV\\n\\n\\nBrowse by Type\\nCar News\\nCar Guides\\nCar Features\\nCar Reviews\\nCar Deals\\n\\n\\n\\n\\n[ ] Best ProductsBest Products\\nSee All Best Products\\nBest Computing Products\\nBest Laptops\\nBest Chromebooks\\nBest Graphics Cards\\nBest Gaming Laptops\\nBest Desktop Computer\\n\\n\\nBest Mobile Products\\nBest Phones\\nBest Tablets\\nBest Smartwatches\\nBest Fitness Trackers\\nBest Smart Notebooks\\n\\n\\nBest Audio / Video Products\\nBest TVs\\nBest Speakers\\nBest Projectors\\nBest Soundbars\\nBest Headphones\\n\\n\\nBest Video Games\\nBest Mac Games\\nBest PS5 Games\\nBest Games on PS Plus\\nBest Xbox Series X Games\\nBest Nintendo Switch Games\\n\\n\\n\\n\\n[ ] DealsDeals\\nSee All Deals\\nComputing\\nBest Laptop Deals\\nBest MacBook Deals\\nBest Gaming PC Deals\\nBest Chromebook Deals\\nBest Gaming Laptop Deals\\n\\n\\nGaming\\nBest PS5 Deals\\nBest Lego Deals\\nBest Xbox Series S Deals\\nBest Xbox Series X Deals\\nBest Nintendo Switch Deals\\n\\n\\nMobile\\nBest iPad Deals\\nBest Tablet Deals\\nBest Google Pixel Deals\\nBest Apple Watch Deals\\n\\n\\nHome Theater\\nBest TV Deals\\nBest Sony TV Deals\\nBest 75-inch TV Deals\\nBest Headphone Deals\\n\\n\\nSmart Home\\nBest Dyson Deals\\nBest Amazon Echo Deals\\nBest Cordless Vacuum Deals\\n\\n\\nRetailers\\nBest Walmart Deals\\nBest Alienware Deals\\n\\n\\nTrending\\nBest Camera Deals\\nBest Prime Day Deals\\n\\n\\n\\n\\n[ ] ReviewsReviews\\nSee All Reviews\\nComputing Reviews\\nMac Reviews\\nPrinter Reviews\\nLaptop Reviews\\nMonitor Reviews\\nDesktop Reviews\\n\\n\\nMobile Reviews\\nPhone Reviews\\nTablet Reviews\\nSmartwatch Reviews\\nFitness Tracker Reviews\\niPhone and iPad Reviews\\n\\n\\nAudio / Video Reviews\\nTV Reviews\\nSpeaker Reviews\\nSoundbar Reviews\\nHeadphones Reviews\\nMedia Streamer Reviews\\n\\n\\nMore Reviews\\nGame Reviews\\nMovie and TV Show Reviews\\nSmart Home Reviews\\nPower Station Reviews\\neBike Reviews\\n\\n\\n\\n\\nCES 2025\\nNews\\nVideos\\nGiveaways\\n\\n[ ] MoreMore\\n\\nBrands\\nDell\\nApple\\nGoogle\\nSamsung\\nMicrosoft\\n\\n\\nBuying Guides\\nBest Kindle\\nBest Bluetooth Trackers\\nBest Portable Power Stations\\nBest Live TV Streaming Services\\n\\n\\nOriginal Series\\nYou Asked\\nReSpec\\nOuttaFocus\\nTech for Change\\nGenius Home\\nSee All Original Series\\n\\n\\nMore Topics\\nSpace\\nOutdoors\\nPortable Power Stations\\nVersus\\nBusiness\\nSee All Topics\\n\\n\\n\\n\\n\\nTrending:\\n\\nWhat is ChatGPT?\\n\\nHow to Use Google Gemini\\n\\n\\nHome \\n\\nComputing\\nFeatures\\n\\nHere’s everything OpenAI announced in the past 12 days\\nBy Andrew Tarantola Published December 20, 2024 3:39 PM\\n\\nRolf van Root / Unsplash\\nTable of Contents\\nOpenAI kicked off its inaugural “12 Days of OpenAI” media blitz on December 5, each day unveiling new features, models, subscription tiers, and capabilities for its growing ChatGPT product ecosystem during a series of live-stream events.\\nHere’s a quick rundown of everything the company announced.\\nDay 1: OpenAI unleashes its o1 reasoning model and introduces ChatGPT Pro\\nOpenAI o1 and o1 pro mode in ChatGPT — 12 Days of OpenAI: Day 1\\nOpenAI kicked off the festivities with a couple major announcements. First, the company revealed the full-function version of its new o1 family of reasoning models and announced that they would be immediately available, albeit in limited amounts, to its $20/month Plus tier subscribers. In order to get full use of the new model (as well as every other model that OpenAI offers, plus unlimited access to Advanced Voice Mode), users will need to spring for OpenAI’s newest, and highest, subscription package: the $200/month Pro tier.\\nDay 2: OpenAI expands its Reinforcement Fine-Tuning Research program\\nOn the event’s second day, the OpenAI development team announced that it is expanding its Reinforcement Fine-Tuning Research program, which allows developers to train the company’s models as subject matter experts that “excel at specific sets of complex, domain-specific tasks,” according to the program’s website. Though it is geared more toward institutes, universities, and enterprises than individual users, the company plans to make the program’s API available to the public early next year.\\nRelated\\n\\nChatGPT just got a bump to its coding powers\\nOpenAI opens up developer access to the full o1 reasoning model\\nYou can now try out ChatGPT Search for free\\n\\nDay 3: OpenAI’s Sora video generator has finally arrived. Huzzah?\\nOn the third day of OpenAI, Sam Altman gave to me: Sora video generation. Yeah, OK, so the cadence for that doesn’t quite work but hey, neither does Sora. OpenAI’s long-awaited and highly touted video generation model, which has been heavily hyped since February, made its official debut on December 9 to middling reviews. Turns out that two years into the AI boom, being the leading company in the space and only rolling out 20-second clips at 1080p doesn’t really move the needle, especially when many of its competitors already offer similar performance without requiring a $20- or $200-per-month subscription.\\nDay 4: OpenAI expands its Canvas\\nOpenAI followed up its Sora revelations with a set of improvements to its recently released Canvas feature, the company’s answer to Anthropic’s Artifacts. During its Day 4 live stream, the OpenAI development team revealed that Canvas will now be integrated directly into the GPT-4o model, making it natively available to users at all price tiers, including free. You can now run Python code directly within the Canvas space, enabling the chatbot to analyze it directly and offer suggestions for improvement, as well as use the feature to construct custom GPTs.\\nDay 5: ChatGPT teams up with Apple Intelligence\\nOn day five, OpenAI announced that it is working with Apple to integrate ChatGPT into Apple Intelligence, specifically Siri, allowing users to invoke the chatbot directly through iOS. Apple had announced that this would be a thing back when it first unveiled Apple Intelligence but, with the release of iOS 18.2, that functionality is now a reality. If only Apple’s users actually wanted to use Apple’s AI.\\nDay 6: Advanced Voice Mode now has the power of sight and can speak Santa\\n2024 was the year that Advanced Voice Mode got its eyes. OpenAI announced on Day 6 of its live-stream event that its conversational chatbot model can now view the world around it through a mobile device’s video camera or via screen sharing. This will enable users to ask the AI questions about their surroundings without having to describe the scene or upload a photo of what they’re looking at. The company also released a seasonal voice for AVM which mimics Jolly Old St. Nick, just in case you don’t have time to drive your kids to the mall and meet the real one in person.\\nDay 7: OpenAI introduces Projects for ChatGPT\\nOpenAI closed out the first week of announcements with one that is sure to bring a smile to the face of every boy and girl: folders! Specifically, the company revealed its new smart folder system, dubbed “Projects,” which allows users to better organize their chat histories and uploaded documents by subject.\\nDay 8: ChatGPT Search is now available to everybody\\nOpenAI’s ChatGPT Search function, which debuted in October, is now available to all logged-in users, regardless of their subscription tier. The feature works by searching the internet for information about the user’s query, scraping the info it finds from relevant websites, and then synthesize that data into a conversational answer. It essentially eliminates the need to click through a search results page and is functionally identical to what Perplexity AI offers, allowing ChatGPT to compete with the increasingly popular app. Be warned, however: a recent study has shown the feature to be “confidently wrong” in many of its answers.\\nDay 9: the full o1 model comes to OpenAI’s API\\nLike being gifted a sweater from not one but two aunts, OpenAI revealed on day nine that it is allowing select developers to access the full version of its o1 reasoning model through the API. The company is also rolling out real-time API updates, a new model customization technique called Preference Fine-Tuning, and new SDKs for Go and Java.\\nDay 10: 1-800-ChatGPT\\nIn an effort to capture that final market segment that it couldn’t already reach — specifically, people without internet access — OpenAI has released the 1-800-ChatGPT (1-800-242-8478) chatline. Dial in from any land or mobile number within the U.S. to speak with the AI’s Advanced Voice Mode for up to 15 minutes for free.\\nDay 11: ChatGPT now works with even more coding apps\\nLast month, OpenAI granted the Mac-based desktop version of ChatGPT the ability to interface directly with a number of popular coding applications, allowing its AI to pull snippets directly from them rather than require users to copy and paste the code into its chatbot’s prompt window. On Thursday, the company announced that it is drastically expanding the number of apps and IDEs that ChatGPT can collaborate with. And it’s not just coding apps; ChatGPT now also works with conventional text programs like Apple Notes, Notion, and Quip. You can even launch Advanced Voice Mode in a separate window as you work, asking questions and getting suggestions from the AI about your current project.\\nDay 12: OpenAI teases its upcoming o3 and o3-mini reasoning models\\nFor the 12th day of OpenAI’s live-stream event, CEO Sam Altman made a final appearance to discuss what the company has in store for the new year — specifically, its next-generation reasoning models, o3 and o3-mini. The naming scheme is a bit odd (and done to avoid copyright issues with U.K. telecom, O2) but the upcoming models reportedly offer superior performance on some of the industry’s most challenging math, science, and coding benchmark tests — even compared to o1, the full version of which was formally released less than a fortnight ago. The company is currently offering o3-mini as a preview to researchers for safety testing and red teaming trials, though there’s no word yet on when everyday users will be able to try the models for themselves.\\nEditors’ Recommendations\\n\\nOpenAI teases its ‘breakthrough’ next-generation o3 reasoning model\\nYes, it’s real: ChatGPT has its own 800 number\\nI tried out Google’s latest AI tool that generates images in a fun, new way\\nGoogle strikes back with an answer to OpenAI’s Sora launch\\n​​OpenAI spills tea on Musk as Meta seeks block on for-profit dreams\\n\\nTopics\\n\\nArtificial Intelligence\\nChatGPT\\nFeatures\\n\\n\\nAndrew Tarantola\\nComputing Writer\\ntwitter Email\\nAndrew Tarantola is a journalist with more than a decade reporting on emerging technologies ranging from robotics and machine…\\n\\nComputing\\n\\nChatGPT has folders now\\n\\nOpenAI is once again re-creating a Claude feature in ChatGPT. The company announced during Friday's \\\"12 Days of OpenAI\\\" event that its chatbot will now offer a folder system called \\\"Projects\\\" to help users organize their chats and data.\\n“This is really just another organizational tool. I think of these as smart folders,” Thomas Dimson, an OpenAI staff member, said during the live stream.\\nRead more\\n\\nComputing\\n\\nOpenAI’s Advanced Voice Mode can now see your screen and analyze videos\\n\\nOpenAI's \\\"12 Days of OpenAI\\\" continued apace on Wednesday with the development team announcing a new seasonal voice for ChatGPT's Advanced Voice Mode (AVM), as well as new video and screen-sharing capabilities for the conversational AI feature.\\nSanta Mode, as OpenAI is calling it, is a seasonal feature for AVM, and offers St. Nick's dulcet tones as a preset voice option. It is being released to Plus and Pro subscribers through the website and mobile and desktop apps starting today and will remain so until early January. To access the limited-time feature, first sign in to your Plus or Pro account, then click on the snowflake icon next to the text prompt window.\\nRead more\\n\\nComputing\\n\\nOpenAI’s Sora doesn’t feel like the game-changer it was supposed to be\\n\\nOpenAI has teased, and repeatedly delayed, the release of Sora for nearly a year. On Tuesday, the company finally unveiled a fully functional version of the new video-generation model destined for public use and, despite the initial buzz, more and more early users of the release don't seem overly impressed. And neither am I.\\nhttps://x.com/OpenAI/status/1758192957386342435\\nRead more\\nUpgrade your lifestyleDigital Trends helps readers keep tabs on the fast-paced world of tech with all the latest news, fun product reviews, insightful editorials, and one-of-a-kind sneak peeks.\\n\\nFacebook\\nInstagram\\nTwitter\\nYouTube\\nPinterest\\nLinkedIn\\nTikTok\\n\\nFlipboard\\n\\n\\nMobile\\n\\nComputing\\nGaming\\nAudio / Video\\nSmart Home\\nEntertainment\\nAutomotive\\nSpace\\nStreaming Guides\\nOriginal Shows\\n\\nHow-To\\n\\n\\nAbout Us\\n\\nContact Us\\nEditorial Guidelines\\n\\nLogo & Accolade Licensing\\n\\n\\nSubscribe to our Newsletter\\n\\nBranded Content\\nDigital Trends Wallpapers\\nDigital Trends in Spanish\\n\\n\\n\\nPortland\\nNew York\\nChicago\\nDetroit\\nLos Angeles\\n\\nToronto\\n\\n\\nCareers\\n\\nAdvertise With Us\\nWork With Us\\nDiversity & Inclusion\\nTerms of Use\\nPrivacy Policy\\nDo Not Sell or Share My Information\\nManage cookie preferences\\nPress Room\\nSitemap\\n\\nDigital Trends Media Group may earn a commission when you buy through links on our sites.\\n©2024 Digital Trends Media Group, a Designtechnica Company. All rights reserved.\\n          ![Image 7](https://ad-delivery.net/px.gif?ch=2)![Image 8](https://ad.doubleclick.net/favicon.ico?ad=300x250&ad_box_=1&adnet=1&showad=1&size=250x250)![Image 9](https://ad-delivery.net/px.gif?ch=1&e=0.5631919019316618)   ![Image 10](https://pixel.wp.com/g.gif?v=ext&blog=35334127&post=3805256&tz=-8&srv=www.digitaltrends.com&hp=vip&j=1%3A14.0&host=www.digitaltrends.com&ref=&fcp=1571&rand=0.5873765215800455)\\n\"}, {\"title\": \"OpenAI's 12 days of 'ship-mas': all the new announcements\", \"url\": \"https://www.theverge.com/24314146/openai-12-days-ship-mas-chatgpt-sora-o1-update\", \"content\": \"OpenAI’s 12 days of “ship-mas” have officially begun, with the company set to reveal some new features, products, and demos during all 12 days starting December 5th, just a few days shy of the second anniversary of ChatGPT’s explosive launch in 2022. The announcements will include OpenAI’s long-awaited text-to-video AI tool Sora and a new reasoning model, sources familiar with OpenAI’s plans tell The Verge. As a valued user, we are providing you the ability to opt-out from the sharing of your personal information to advertisers and social media companies at any time across business platform, services, businesses and devices. These cookies are set by a range of social media services that we have added to the site to enable you to share our content with your friends and networks.\", \"score\": 0.69820654, \"raw_content\": \"OpenAI’s 12 days of ‘ship-mas:’ all the new announcements - The Verge\\nSkip to main content\\nThe Verge homepage\\n\\nThe Verge homepage/\\nTech/\\nReviews/\\nScience/\\nEntertainment/\\nAI/\\nMoreMenu\\n\\n\\nMenu\\nFiled under:\\n\\nOpenAI\\n\\nUpdated Today, Dec 5, 2024, 6:21 PM UTC\\nOpenAI’s 12 days of ‘ship-mas:’ all the new announcements\\nBy Kylie Robison, a senior AI reporter working with The Verge's policy and tech teams. She previously worked at Fortune Magazine and Business Insider.\\nShare this story\\n\\n\\n\\n\\n0 Comments / 0 New\\nOpenAI’s 12 days of “ship-mas” have officially begun, with the company set to reveal some new features, products, and demos during all 12 days starting December 5th, just a few days shy of the second anniversary of ChatGPT’s explosive launch in 2022. According to the company, ChatGPT now has over 300 million weekly users.\\nThe event started with the release of its improved OpenAI o1 reasoning model out of preview, along with a new $200 ChatGPT Pro subscription that offers unlimited access to GPT-4o, Advanced Voice Mode, and an exclusive version of o1 that Sam Altman says “can think even harder for the hardest problems.”\\nSources tell The Verge that OpenAI will also launch Sora, its text-to-video AI generator. There’s likely a lot more to come, and we’re keeping track of all the announcements from OpenAI.\\nYou can follow along below as we continue to report on all the latest updates.\\n\\n\\n\\nTODAY, 6:00 PM UTC\\nKylie Robison\\nOpenAI’s ‘ship-mas’ starts with $200 ChatGPT Pro subscription\\n\\nImage: OpenAI\\nOpenAI is creating a new, more expensive tier for its flagship chatbot ChatGPT, and is bringing its “reasoning” model series out of preview with an update.\\nThe company is releasing the full version of its o1 model (replacing o1-preview), which was initially released as a limited preview in September (code-named ‘Strawberry’). The new model will be available for ChatGPT Plus and Team users today, while Enterprise and Edu users will have access to it starting next week.\\nRead Article >\\n\\n\\n\\nDec 4\\nEmma Roth\\nChatGPT now has over 300 million weekly users\\n\\nImage: The Verge\\nChatGPT now has over 300 million people using the AI chatbot each week. OpenAI CEO Sam Altman revealed the milestone during The New York Times’ DealBook Summit on Wednesday, which comes just months after ChatGPT hit 200 million weekly users in August.\\n“Our product has scaled ... now we have more than 300 million weekly active users,” Altman said. “We have users sending more than 1 billion messages per day to ChatGPT.”\\nRead Article >\\n\\n\\n\\nDec 4\\nTom Warren and Kylie Robison\\nOpenAI’s 12 days of ‘shipmas’ include Sora and new reasoning model\\n\\nImage: Alex Parkin / The Verge\\nHappy holidays from OpenAI. The AI startup plans to kick off a “shipmas” period of new features, products, and demos for 12 days, starting on December 5th. The announcements will include OpenAI’s long-awaited text-to-video AI tool Sora and a new reasoning model, sources familiar with OpenAI’s plans tell The Verge.\\nOpenAI CEO Sam Altman confirmed the 12 days of announcements onstage at The New York Times’ DealBook conference on Wednesday morning, though he didn’t say exactly what was coming. OpenAI plans to launch or demo something every day for 12 days straight.\\nRead Article >\\n\\n\\nVerge Deals\\n/ Sign up for Verge Deals to get deals on products we've tested sent to your inbox weekly.\\nEmail (required)Sign up\\nBy submitting your email, you agree to our Terms and Privacy Notice. This site is protected by reCAPTCHA and the Google Privacy Policy and Terms of Service apply.\\nFrom our sponsor\\n\\nAdvertiser Content From\\n\\nSPONSORED CONTENT\\n\\n Donald Trump and Tulsi Gabbard are coming for the spooks The Economist Learn More  Ad is Hidden Please tell us why you hid this ad? * Inappropriate * Misleading * Misinformation * Repetitive * Irrelevant * Distracting\\n Costco's Clearing Out These Items Next. Stock Up On Deals While Supplies Last. Sponsored links  Ad is Hidden Please tell us why you hid this ad? * Inappropriate * Misleading * Misinformation * Repetitive * Irrelevant * Distracting\\n A New SUV for Seniors in 2024 Is Cheaper Than You Might Imagine PopularSearches | Search Ads Learn More  Ad is Hidden Please tell us why you hid this ad? * Inappropriate * Misleading * Misinformation * Repetitive * Irrelevant * Distracting\\n Empty Alaska Cruise Cabins For Sale Now (See Prices) SearchTopics | Search Ads Learn More  Ad is Hidden Please tell us why you hid this ad? * Inappropriate * Misleading * Misinformation * Repetitive * Irrelevant * Distracting\\n The All New Mind Blowing Toyota RAV4 Hybrid Is Finally Here (Take a Look) FavoriteSearches | Search Ads  Ad is Hidden Please tell us why you hid this ad? * Inappropriate * Misleading * Misinformation * Repetitive * Irrelevant * Distracting\\n [Pics] Couple Splurged $1.7M On This Motorhome, Take A Look Inside! Little Fries  Ad is Hidden Please tell us why you hid this ad? * Inappropriate * Misleading * Misinformation * Repetitive * Irrelevant * Distracting\\n\\n\\nDo Not Sell or Share My Personal Data\\nTerms of Use\\nPrivacy Notice\\nCookie Policy\\nLicensing FAQ\\nAccessibility\\nPlatform Status\\n\\nHow We Rate and Review Products\\n\\n\\nContact\\n\\nTip Us\\nCommunity Guidelines\\nAbout\\nEthics Statement\\n\\nThe Verge is a vox media network\\n\\nAdvertise with us\\nJobs @ Vox Media\\n\\n© 2024 Vox Media, LLC. All Rights Reserved\\n\\nYour Opt Out Preference Signal is Honored\\nPrivacy Center\\nWhen you visit our website, we store cookies on your browser to collect information. The information collected might relate to you, your preferences or your device, and is mostly used to make the site work as you expect it to and to provide a more personalized web experience. However, you can choose not to allow certain types of cookies, which may impact your experience of the site and the services we are able to offer. Click on the different category headings to find out more and change our default settings according to your preference. You cannot opt-out of our First Party Strictly Necessary Cookies as they are deployed in order to ensure the proper functioning of our website (such as prompting the cookie banner and remembering your settings, to log into your account, to redirect you when you log out, etc.). For more information about the First and Third Party Cookies used please follow this link.\\nCookie Policy Vendor List\\nAllow All\\nManage Consent Preferences\\nStrictly Necessary Cookies\\nEssential\\nThese cookies are necessary for the website to function and cannot be switched off in our systems. They are usually only set in response to actions made by you which amount to a request for services, such as setting your privacy preferences, logging in or filling in forms. You can set your browser to block or alert you about these cookies, but some parts of the site will not then work. These cookies do not store any personally identifiable information.\\n\\n\\nFunctional Cookies\\nEssential\\nThese cookies enable the website to provide enhanced functionality and personalisation. They may be set by us or by third party providers whose services we have added to our pages. If you do not allow these cookies then some or all of these services may not function properly.\\n\\n\\nPerformance Cookies\\nEssential\\nThese cookies allow us to count visits and traffic sources so we can measure and improve the performance of our site. They help us to know which pages are the most and least popular and see how visitors move around the site. All information these cookies collect is aggregated and therefore anonymous. If you do not allow these cookies we will not know when you have visited our site, and will not be able to monitor its performance.\\n\\n\\nView Vendor Details‎\\nOpt Out of Sale or Sharing/Targeted Advertising\\nOpt Out of Sale or Sharing/Targeted Advertising\\nAs a valued user, we are providing you the ability to opt-out from the sharing of your personal information to advertisers and social media companies at any time across business platform, services, businesses and devices. You can opt-out of the sharing of your personal information by using this toggle switch. For more information on your rights and options see our privacy notice.\\n\\n\\nSocial Media Cookies\\nSwitch Label\\nThese cookies are set by a range of social media services that we have added to the site to enable you to share our content with your friends and networks. They are capable of tracking your browser across other sites and building up a profile of your interests. This may impact the content and messages you see on other websites you visit. If you do not allow these cookies you may not be able to use or see these sharing tools.\\n\\n\\nTargeting Cookies\\nSwitch Label\\nThese cookies may be set through our site by our advertising partners. They may be used by those companies to build a profile of your interests and show you relevant adverts on other sites. They do not store directly personal information, but are based on uniquely identifying your browser and internet device. If you do not allow these cookies, you will experience less targeted advertising.\\n\\n\\nView Vendor Details‎\\nVendors List\\nClear\\ncheckbox label label\\nApply Cancel\\nConsent Leg.Interest\\ncheckbox label label\\ncheckbox label label\\ncheckbox label label\\nConfirm My Choices\\n\\n\"}, {\"title\": \"Product - OpenAI\", \"url\": \"https://openai.com/news/product/\", \"content\": \"Discover the latest product advancements from OpenAI and the ways they're being used by individuals and businesses.\", \"score\": 0.6682966, \"raw_content\": null}], \"response_time\": 1.83}\n"
          ]
        }
      ]
    }
  ],
  "metadata": {
    "kernelspec": {
      "display_name": "Python 3 (ipykernel)",
      "language": "python",
      "name": "python3"
    },
    "language_info": {
      "codemirror_mode": {
        "name": "ipython",
        "version": 3
      },
      "file_extension": ".py",
      "mimetype": "text/x-python",
      "name": "python",
      "nbconvert_exporter": "python",
      "pygments_lexer": "ipython3",
      "version": "3.12.1"
    },
    "colab": {
      "provenance": []
    }
  },
  "nbformat": 4,
  "nbformat_minor": 5
}