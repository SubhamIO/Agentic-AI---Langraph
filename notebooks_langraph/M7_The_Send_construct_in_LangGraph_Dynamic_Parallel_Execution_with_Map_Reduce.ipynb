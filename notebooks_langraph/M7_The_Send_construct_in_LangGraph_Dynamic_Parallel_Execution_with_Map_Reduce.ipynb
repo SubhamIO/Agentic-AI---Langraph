{
  "cells": [
    {
      "cell_type": "markdown",
      "id": "f4169bfb-769a-4db3-833e-c827f19024b2",
      "metadata": {
        "id": "f4169bfb-769a-4db3-833e-c827f19024b2"
      },
      "source": [
        "# Dynamic Parallel Execution with  Map-Reduce using Send in LangGraph\n",
        "\n",
        "\n",
        "Map-reduce operations are essential for efficient task decomposition and parallel processing.\n",
        "\n",
        "It has two phases:\n",
        "\n",
        "(1) `Map` - Break a task into smaller sub-tasks, processing each sub-task in parallel.\n",
        "\n",
        "(2) `Reduce` - Aggregate the results across all of the completed, parallelized sub-tasks.\n",
        "\n",
        "We will design a system that will do two things:\n",
        "\n",
        "(1) `Map` - Create a set of questions about a topic. Then answer them in parallel (using `Send(...)`)\n",
        "\n",
        "(2) `Reduce` - Compile a comprehensive report based on the QAs on the topic.\n",
        "\n",
        "![](https://i.imgur.com/SN7KifO.png)\n",
        "\n",
        "\n",
        "LangGraph's Map-Reduce pattern enables efficient task decomposition and parallel processing, enhancing performance in complex workflows. The Send function plays a pivotal role in this mechanism.\n",
        "\n",
        "Map-Reduce in LangGraph:\n",
        "- Task Decomposition: Breaks down a large task into smaller, manageable sub-tasks (planning or complex question decomposition)\n",
        "- Parallel Processing: Executes sub-tasks concurrently, significantly reducing overall processing time.\n",
        "- Result Aggregation: Combines outcomes from all sub-tasks to form a comprehensive response.\n",
        "\n",
        "\n",
        "\n"
      ]
    },
    {
      "cell_type": "markdown",
      "source": [
        "## Install OpenAI, LangGraph and LangChain dependencies"
      ],
      "metadata": {
        "id": "9hEI3WL328vZ"
      },
      "id": "9hEI3WL328vZ"
    },
    {
      "cell_type": "code",
      "execution_count": 1,
      "id": "618eab5c-4ef7-4273-8e0b-a9c847897ed7",
      "metadata": {
        "id": "618eab5c-4ef7-4273-8e0b-a9c847897ed7",
        "colab": {
          "base_uri": "https://localhost:8080/"
        },
        "outputId": "bbafb70d-1639-4d23-b7da-0a1798358d6a"
      },
      "outputs": [
        {
          "output_type": "stream",
          "name": "stdout",
          "text": [
            "Collecting langchain==0.3.14\n",
            "  Downloading langchain-0.3.14-py3-none-any.whl.metadata (7.1 kB)\n",
            "Requirement already satisfied: PyYAML>=5.3 in /usr/local/lib/python3.11/dist-packages (from langchain==0.3.14) (6.0.2)\n",
            "Requirement already satisfied: SQLAlchemy<3,>=1.4 in /usr/local/lib/python3.11/dist-packages (from langchain==0.3.14) (2.0.37)\n",
            "Requirement already satisfied: aiohttp<4.0.0,>=3.8.3 in /usr/local/lib/python3.11/dist-packages (from langchain==0.3.14) (3.11.11)\n",
            "Requirement already satisfied: langchain-core<0.4.0,>=0.3.29 in /usr/local/lib/python3.11/dist-packages (from langchain==0.3.14) (0.3.31)\n",
            "Requirement already satisfied: langchain-text-splitters<0.4.0,>=0.3.3 in /usr/local/lib/python3.11/dist-packages (from langchain==0.3.14) (0.3.5)\n",
            "Collecting langsmith<0.3,>=0.1.17 (from langchain==0.3.14)\n",
            "  Downloading langsmith-0.2.11-py3-none-any.whl.metadata (14 kB)\n",
            "Requirement already satisfied: numpy<2,>=1.22.4 in /usr/local/lib/python3.11/dist-packages (from langchain==0.3.14) (1.26.4)\n",
            "Requirement already satisfied: pydantic<3.0.0,>=2.7.4 in /usr/local/lib/python3.11/dist-packages (from langchain==0.3.14) (2.10.6)\n",
            "Requirement already satisfied: requests<3,>=2 in /usr/local/lib/python3.11/dist-packages (from langchain==0.3.14) (2.32.3)\n",
            "Requirement already satisfied: tenacity!=8.4.0,<10,>=8.1.0 in /usr/local/lib/python3.11/dist-packages (from langchain==0.3.14) (9.0.0)\n",
            "Requirement already satisfied: aiohappyeyeballs>=2.3.0 in /usr/local/lib/python3.11/dist-packages (from aiohttp<4.0.0,>=3.8.3->langchain==0.3.14) (2.4.4)\n",
            "Requirement already satisfied: aiosignal>=1.1.2 in /usr/local/lib/python3.11/dist-packages (from aiohttp<4.0.0,>=3.8.3->langchain==0.3.14) (1.3.2)\n",
            "Requirement already satisfied: attrs>=17.3.0 in /usr/local/lib/python3.11/dist-packages (from aiohttp<4.0.0,>=3.8.3->langchain==0.3.14) (25.1.0)\n",
            "Requirement already satisfied: frozenlist>=1.1.1 in /usr/local/lib/python3.11/dist-packages (from aiohttp<4.0.0,>=3.8.3->langchain==0.3.14) (1.5.0)\n",
            "Requirement already satisfied: multidict<7.0,>=4.5 in /usr/local/lib/python3.11/dist-packages (from aiohttp<4.0.0,>=3.8.3->langchain==0.3.14) (6.1.0)\n",
            "Requirement already satisfied: propcache>=0.2.0 in /usr/local/lib/python3.11/dist-packages (from aiohttp<4.0.0,>=3.8.3->langchain==0.3.14) (0.2.1)\n",
            "Requirement already satisfied: yarl<2.0,>=1.17.0 in /usr/local/lib/python3.11/dist-packages (from aiohttp<4.0.0,>=3.8.3->langchain==0.3.14) (1.18.3)\n",
            "Requirement already satisfied: jsonpatch<2.0,>=1.33 in /usr/local/lib/python3.11/dist-packages (from langchain-core<0.4.0,>=0.3.29->langchain==0.3.14) (1.33)\n",
            "Requirement already satisfied: packaging<25,>=23.2 in /usr/local/lib/python3.11/dist-packages (from langchain-core<0.4.0,>=0.3.29->langchain==0.3.14) (24.2)\n",
            "Requirement already satisfied: typing-extensions>=4.7 in /usr/local/lib/python3.11/dist-packages (from langchain-core<0.4.0,>=0.3.29->langchain==0.3.14) (4.12.2)\n",
            "Requirement already satisfied: httpx<1,>=0.23.0 in /usr/local/lib/python3.11/dist-packages (from langsmith<0.3,>=0.1.17->langchain==0.3.14) (0.28.1)\n",
            "Requirement already satisfied: orjson<4.0.0,>=3.9.14 in /usr/local/lib/python3.11/dist-packages (from langsmith<0.3,>=0.1.17->langchain==0.3.14) (3.10.15)\n",
            "Requirement already satisfied: requests-toolbelt<2.0.0,>=1.0.0 in /usr/local/lib/python3.11/dist-packages (from langsmith<0.3,>=0.1.17->langchain==0.3.14) (1.0.0)\n",
            "Requirement already satisfied: annotated-types>=0.6.0 in /usr/local/lib/python3.11/dist-packages (from pydantic<3.0.0,>=2.7.4->langchain==0.3.14) (0.7.0)\n",
            "Requirement already satisfied: pydantic-core==2.27.2 in /usr/local/lib/python3.11/dist-packages (from pydantic<3.0.0,>=2.7.4->langchain==0.3.14) (2.27.2)\n",
            "Requirement already satisfied: charset-normalizer<4,>=2 in /usr/local/lib/python3.11/dist-packages (from requests<3,>=2->langchain==0.3.14) (3.4.1)\n",
            "Requirement already satisfied: idna<4,>=2.5 in /usr/local/lib/python3.11/dist-packages (from requests<3,>=2->langchain==0.3.14) (3.10)\n",
            "Requirement already satisfied: urllib3<3,>=1.21.1 in /usr/local/lib/python3.11/dist-packages (from requests<3,>=2->langchain==0.3.14) (2.3.0)\n",
            "Requirement already satisfied: certifi>=2017.4.17 in /usr/local/lib/python3.11/dist-packages (from requests<3,>=2->langchain==0.3.14) (2024.12.14)\n",
            "Requirement already satisfied: greenlet!=0.4.17 in /usr/local/lib/python3.11/dist-packages (from SQLAlchemy<3,>=1.4->langchain==0.3.14) (3.1.1)\n",
            "Requirement already satisfied: anyio in /usr/local/lib/python3.11/dist-packages (from httpx<1,>=0.23.0->langsmith<0.3,>=0.1.17->langchain==0.3.14) (3.7.1)\n",
            "Requirement already satisfied: httpcore==1.* in /usr/local/lib/python3.11/dist-packages (from httpx<1,>=0.23.0->langsmith<0.3,>=0.1.17->langchain==0.3.14) (1.0.7)\n",
            "Requirement already satisfied: h11<0.15,>=0.13 in /usr/local/lib/python3.11/dist-packages (from httpcore==1.*->httpx<1,>=0.23.0->langsmith<0.3,>=0.1.17->langchain==0.3.14) (0.14.0)\n",
            "Requirement already satisfied: jsonpointer>=1.9 in /usr/local/lib/python3.11/dist-packages (from jsonpatch<2.0,>=1.33->langchain-core<0.4.0,>=0.3.29->langchain==0.3.14) (3.0.0)\n",
            "Requirement already satisfied: sniffio>=1.1 in /usr/local/lib/python3.11/dist-packages (from anyio->httpx<1,>=0.23.0->langsmith<0.3,>=0.1.17->langchain==0.3.14) (1.3.1)\n",
            "Downloading langchain-0.3.14-py3-none-any.whl (1.0 MB)\n",
            "\u001b[2K   \u001b[90m━━━━━━━━━━━━━━━━━━━━━━━━━━━━━━━━━━━━━━━━\u001b[0m \u001b[32m1.0/1.0 MB\u001b[0m \u001b[31m9.1 MB/s\u001b[0m eta \u001b[36m0:00:00\u001b[0m\n",
            "\u001b[?25hDownloading langsmith-0.2.11-py3-none-any.whl (326 kB)\n",
            "\u001b[2K   \u001b[90m━━━━━━━━━━━━━━━━━━━━━━━━━━━━━━━━━━━━━━━━\u001b[0m \u001b[32m326.9/326.9 kB\u001b[0m \u001b[31m4.5 MB/s\u001b[0m eta \u001b[36m0:00:00\u001b[0m\n",
            "\u001b[?25hInstalling collected packages: langsmith, langchain\n",
            "  Attempting uninstall: langsmith\n",
            "    Found existing installation: langsmith 0.3.1\n",
            "    Uninstalling langsmith-0.3.1:\n",
            "      Successfully uninstalled langsmith-0.3.1\n",
            "  Attempting uninstall: langchain\n",
            "    Found existing installation: langchain 0.3.15\n",
            "    Uninstalling langchain-0.3.15:\n",
            "      Successfully uninstalled langchain-0.3.15\n",
            "Successfully installed langchain-0.3.14 langsmith-0.2.11\n",
            "Collecting langchain-openai==0.3.0\n",
            "  Downloading langchain_openai-0.3.0-py3-none-any.whl.metadata (2.7 kB)\n",
            "Requirement already satisfied: langchain-core<0.4.0,>=0.3.29 in /usr/local/lib/python3.11/dist-packages (from langchain-openai==0.3.0) (0.3.31)\n",
            "Requirement already satisfied: openai<2.0.0,>=1.58.1 in /usr/local/lib/python3.11/dist-packages (from langchain-openai==0.3.0) (1.59.9)\n",
            "Collecting tiktoken<1,>=0.7 (from langchain-openai==0.3.0)\n",
            "  Downloading tiktoken-0.8.0-cp311-cp311-manylinux_2_17_x86_64.manylinux2014_x86_64.whl.metadata (6.6 kB)\n",
            "Requirement already satisfied: PyYAML>=5.3 in /usr/local/lib/python3.11/dist-packages (from langchain-core<0.4.0,>=0.3.29->langchain-openai==0.3.0) (6.0.2)\n",
            "Requirement already satisfied: jsonpatch<2.0,>=1.33 in /usr/local/lib/python3.11/dist-packages (from langchain-core<0.4.0,>=0.3.29->langchain-openai==0.3.0) (1.33)\n",
            "Requirement already satisfied: langsmith<0.4,>=0.1.125 in /usr/local/lib/python3.11/dist-packages (from langchain-core<0.4.0,>=0.3.29->langchain-openai==0.3.0) (0.2.11)\n",
            "Requirement already satisfied: packaging<25,>=23.2 in /usr/local/lib/python3.11/dist-packages (from langchain-core<0.4.0,>=0.3.29->langchain-openai==0.3.0) (24.2)\n",
            "Requirement already satisfied: pydantic<3.0.0,>=2.5.2 in /usr/local/lib/python3.11/dist-packages (from langchain-core<0.4.0,>=0.3.29->langchain-openai==0.3.0) (2.10.6)\n",
            "Requirement already satisfied: tenacity!=8.4.0,<10.0.0,>=8.1.0 in /usr/local/lib/python3.11/dist-packages (from langchain-core<0.4.0,>=0.3.29->langchain-openai==0.3.0) (9.0.0)\n",
            "Requirement already satisfied: typing-extensions>=4.7 in /usr/local/lib/python3.11/dist-packages (from langchain-core<0.4.0,>=0.3.29->langchain-openai==0.3.0) (4.12.2)\n",
            "Requirement already satisfied: anyio<5,>=3.5.0 in /usr/local/lib/python3.11/dist-packages (from openai<2.0.0,>=1.58.1->langchain-openai==0.3.0) (3.7.1)\n",
            "Requirement already satisfied: distro<2,>=1.7.0 in /usr/local/lib/python3.11/dist-packages (from openai<2.0.0,>=1.58.1->langchain-openai==0.3.0) (1.9.0)\n",
            "Requirement already satisfied: httpx<1,>=0.23.0 in /usr/local/lib/python3.11/dist-packages (from openai<2.0.0,>=1.58.1->langchain-openai==0.3.0) (0.28.1)\n",
            "Requirement already satisfied: jiter<1,>=0.4.0 in /usr/local/lib/python3.11/dist-packages (from openai<2.0.0,>=1.58.1->langchain-openai==0.3.0) (0.8.2)\n",
            "Requirement already satisfied: sniffio in /usr/local/lib/python3.11/dist-packages (from openai<2.0.0,>=1.58.1->langchain-openai==0.3.0) (1.3.1)\n",
            "Requirement already satisfied: tqdm>4 in /usr/local/lib/python3.11/dist-packages (from openai<2.0.0,>=1.58.1->langchain-openai==0.3.0) (4.67.1)\n",
            "Requirement already satisfied: regex>=2022.1.18 in /usr/local/lib/python3.11/dist-packages (from tiktoken<1,>=0.7->langchain-openai==0.3.0) (2024.11.6)\n",
            "Requirement already satisfied: requests>=2.26.0 in /usr/local/lib/python3.11/dist-packages (from tiktoken<1,>=0.7->langchain-openai==0.3.0) (2.32.3)\n",
            "Requirement already satisfied: idna>=2.8 in /usr/local/lib/python3.11/dist-packages (from anyio<5,>=3.5.0->openai<2.0.0,>=1.58.1->langchain-openai==0.3.0) (3.10)\n",
            "Requirement already satisfied: certifi in /usr/local/lib/python3.11/dist-packages (from httpx<1,>=0.23.0->openai<2.0.0,>=1.58.1->langchain-openai==0.3.0) (2024.12.14)\n",
            "Requirement already satisfied: httpcore==1.* in /usr/local/lib/python3.11/dist-packages (from httpx<1,>=0.23.0->openai<2.0.0,>=1.58.1->langchain-openai==0.3.0) (1.0.7)\n",
            "Requirement already satisfied: h11<0.15,>=0.13 in /usr/local/lib/python3.11/dist-packages (from httpcore==1.*->httpx<1,>=0.23.0->openai<2.0.0,>=1.58.1->langchain-openai==0.3.0) (0.14.0)\n",
            "Requirement already satisfied: jsonpointer>=1.9 in /usr/local/lib/python3.11/dist-packages (from jsonpatch<2.0,>=1.33->langchain-core<0.4.0,>=0.3.29->langchain-openai==0.3.0) (3.0.0)\n",
            "Requirement already satisfied: orjson<4.0.0,>=3.9.14 in /usr/local/lib/python3.11/dist-packages (from langsmith<0.4,>=0.1.125->langchain-core<0.4.0,>=0.3.29->langchain-openai==0.3.0) (3.10.15)\n",
            "Requirement already satisfied: requests-toolbelt<2.0.0,>=1.0.0 in /usr/local/lib/python3.11/dist-packages (from langsmith<0.4,>=0.1.125->langchain-core<0.4.0,>=0.3.29->langchain-openai==0.3.0) (1.0.0)\n",
            "Requirement already satisfied: annotated-types>=0.6.0 in /usr/local/lib/python3.11/dist-packages (from pydantic<3.0.0,>=2.5.2->langchain-core<0.4.0,>=0.3.29->langchain-openai==0.3.0) (0.7.0)\n",
            "Requirement already satisfied: pydantic-core==2.27.2 in /usr/local/lib/python3.11/dist-packages (from pydantic<3.0.0,>=2.5.2->langchain-core<0.4.0,>=0.3.29->langchain-openai==0.3.0) (2.27.2)\n",
            "Requirement already satisfied: charset-normalizer<4,>=2 in /usr/local/lib/python3.11/dist-packages (from requests>=2.26.0->tiktoken<1,>=0.7->langchain-openai==0.3.0) (3.4.1)\n",
            "Requirement already satisfied: urllib3<3,>=1.21.1 in /usr/local/lib/python3.11/dist-packages (from requests>=2.26.0->tiktoken<1,>=0.7->langchain-openai==0.3.0) (2.3.0)\n",
            "Downloading langchain_openai-0.3.0-py3-none-any.whl (54 kB)\n",
            "\u001b[2K   \u001b[90m━━━━━━━━━━━━━━━━━━━━━━━━━━━━━━━━━━━━━━━━\u001b[0m \u001b[32m54.2/54.2 kB\u001b[0m \u001b[31m1.9 MB/s\u001b[0m eta \u001b[36m0:00:00\u001b[0m\n",
            "\u001b[?25hDownloading tiktoken-0.8.0-cp311-cp311-manylinux_2_17_x86_64.manylinux2014_x86_64.whl (1.2 MB)\n",
            "\u001b[2K   \u001b[90m━━━━━━━━━━━━━━━━━━━━━━━━━━━━━━━━━━━━━━━━\u001b[0m \u001b[32m1.2/1.2 MB\u001b[0m \u001b[31m16.3 MB/s\u001b[0m eta \u001b[36m0:00:00\u001b[0m\n",
            "\u001b[?25hInstalling collected packages: tiktoken, langchain-openai\n",
            "Successfully installed langchain-openai-0.3.0 tiktoken-0.8.0\n",
            "Collecting langchain-community==0.3.14\n",
            "  Downloading langchain_community-0.3.14-py3-none-any.whl.metadata (2.9 kB)\n",
            "Requirement already satisfied: PyYAML>=5.3 in /usr/local/lib/python3.11/dist-packages (from langchain-community==0.3.14) (6.0.2)\n",
            "Requirement already satisfied: SQLAlchemy<3,>=1.4 in /usr/local/lib/python3.11/dist-packages (from langchain-community==0.3.14) (2.0.37)\n",
            "Requirement already satisfied: aiohttp<4.0.0,>=3.8.3 in /usr/local/lib/python3.11/dist-packages (from langchain-community==0.3.14) (3.11.11)\n",
            "Collecting dataclasses-json<0.7,>=0.5.7 (from langchain-community==0.3.14)\n",
            "  Downloading dataclasses_json-0.6.7-py3-none-any.whl.metadata (25 kB)\n",
            "Collecting httpx-sse<0.5.0,>=0.4.0 (from langchain-community==0.3.14)\n",
            "  Downloading httpx_sse-0.4.0-py3-none-any.whl.metadata (9.0 kB)\n",
            "Requirement already satisfied: langchain<0.4.0,>=0.3.14 in /usr/local/lib/python3.11/dist-packages (from langchain-community==0.3.14) (0.3.14)\n",
            "Requirement already satisfied: langchain-core<0.4.0,>=0.3.29 in /usr/local/lib/python3.11/dist-packages (from langchain-community==0.3.14) (0.3.31)\n",
            "Requirement already satisfied: langsmith<0.3,>=0.1.125 in /usr/local/lib/python3.11/dist-packages (from langchain-community==0.3.14) (0.2.11)\n",
            "Requirement already satisfied: numpy<2,>=1.22.4 in /usr/local/lib/python3.11/dist-packages (from langchain-community==0.3.14) (1.26.4)\n",
            "Collecting pydantic-settings<3.0.0,>=2.4.0 (from langchain-community==0.3.14)\n",
            "  Downloading pydantic_settings-2.7.1-py3-none-any.whl.metadata (3.5 kB)\n",
            "Requirement already satisfied: requests<3,>=2 in /usr/local/lib/python3.11/dist-packages (from langchain-community==0.3.14) (2.32.3)\n",
            "Requirement already satisfied: tenacity!=8.4.0,<10,>=8.1.0 in /usr/local/lib/python3.11/dist-packages (from langchain-community==0.3.14) (9.0.0)\n",
            "Requirement already satisfied: aiohappyeyeballs>=2.3.0 in /usr/local/lib/python3.11/dist-packages (from aiohttp<4.0.0,>=3.8.3->langchain-community==0.3.14) (2.4.4)\n",
            "Requirement already satisfied: aiosignal>=1.1.2 in /usr/local/lib/python3.11/dist-packages (from aiohttp<4.0.0,>=3.8.3->langchain-community==0.3.14) (1.3.2)\n",
            "Requirement already satisfied: attrs>=17.3.0 in /usr/local/lib/python3.11/dist-packages (from aiohttp<4.0.0,>=3.8.3->langchain-community==0.3.14) (25.1.0)\n",
            "Requirement already satisfied: frozenlist>=1.1.1 in /usr/local/lib/python3.11/dist-packages (from aiohttp<4.0.0,>=3.8.3->langchain-community==0.3.14) (1.5.0)\n",
            "Requirement already satisfied: multidict<7.0,>=4.5 in /usr/local/lib/python3.11/dist-packages (from aiohttp<4.0.0,>=3.8.3->langchain-community==0.3.14) (6.1.0)\n",
            "Requirement already satisfied: propcache>=0.2.0 in /usr/local/lib/python3.11/dist-packages (from aiohttp<4.0.0,>=3.8.3->langchain-community==0.3.14) (0.2.1)\n",
            "Requirement already satisfied: yarl<2.0,>=1.17.0 in /usr/local/lib/python3.11/dist-packages (from aiohttp<4.0.0,>=3.8.3->langchain-community==0.3.14) (1.18.3)\n",
            "Collecting marshmallow<4.0.0,>=3.18.0 (from dataclasses-json<0.7,>=0.5.7->langchain-community==0.3.14)\n",
            "  Downloading marshmallow-3.26.0-py3-none-any.whl.metadata (7.3 kB)\n",
            "Collecting typing-inspect<1,>=0.4.0 (from dataclasses-json<0.7,>=0.5.7->langchain-community==0.3.14)\n",
            "  Downloading typing_inspect-0.9.0-py3-none-any.whl.metadata (1.5 kB)\n",
            "Requirement already satisfied: langchain-text-splitters<0.4.0,>=0.3.3 in /usr/local/lib/python3.11/dist-packages (from langchain<0.4.0,>=0.3.14->langchain-community==0.3.14) (0.3.5)\n",
            "Requirement already satisfied: pydantic<3.0.0,>=2.7.4 in /usr/local/lib/python3.11/dist-packages (from langchain<0.4.0,>=0.3.14->langchain-community==0.3.14) (2.10.6)\n",
            "Requirement already satisfied: jsonpatch<2.0,>=1.33 in /usr/local/lib/python3.11/dist-packages (from langchain-core<0.4.0,>=0.3.29->langchain-community==0.3.14) (1.33)\n",
            "Requirement already satisfied: packaging<25,>=23.2 in /usr/local/lib/python3.11/dist-packages (from langchain-core<0.4.0,>=0.3.29->langchain-community==0.3.14) (24.2)\n",
            "Requirement already satisfied: typing-extensions>=4.7 in /usr/local/lib/python3.11/dist-packages (from langchain-core<0.4.0,>=0.3.29->langchain-community==0.3.14) (4.12.2)\n",
            "Requirement already satisfied: httpx<1,>=0.23.0 in /usr/local/lib/python3.11/dist-packages (from langsmith<0.3,>=0.1.125->langchain-community==0.3.14) (0.28.1)\n",
            "Requirement already satisfied: orjson<4.0.0,>=3.9.14 in /usr/local/lib/python3.11/dist-packages (from langsmith<0.3,>=0.1.125->langchain-community==0.3.14) (3.10.15)\n",
            "Requirement already satisfied: requests-toolbelt<2.0.0,>=1.0.0 in /usr/local/lib/python3.11/dist-packages (from langsmith<0.3,>=0.1.125->langchain-community==0.3.14) (1.0.0)\n",
            "Collecting python-dotenv>=0.21.0 (from pydantic-settings<3.0.0,>=2.4.0->langchain-community==0.3.14)\n",
            "  Downloading python_dotenv-1.0.1-py3-none-any.whl.metadata (23 kB)\n",
            "Requirement already satisfied: charset-normalizer<4,>=2 in /usr/local/lib/python3.11/dist-packages (from requests<3,>=2->langchain-community==0.3.14) (3.4.1)\n",
            "Requirement already satisfied: idna<4,>=2.5 in /usr/local/lib/python3.11/dist-packages (from requests<3,>=2->langchain-community==0.3.14) (3.10)\n",
            "Requirement already satisfied: urllib3<3,>=1.21.1 in /usr/local/lib/python3.11/dist-packages (from requests<3,>=2->langchain-community==0.3.14) (2.3.0)\n",
            "Requirement already satisfied: certifi>=2017.4.17 in /usr/local/lib/python3.11/dist-packages (from requests<3,>=2->langchain-community==0.3.14) (2024.12.14)\n",
            "Requirement already satisfied: greenlet!=0.4.17 in /usr/local/lib/python3.11/dist-packages (from SQLAlchemy<3,>=1.4->langchain-community==0.3.14) (3.1.1)\n",
            "Requirement already satisfied: anyio in /usr/local/lib/python3.11/dist-packages (from httpx<1,>=0.23.0->langsmith<0.3,>=0.1.125->langchain-community==0.3.14) (3.7.1)\n",
            "Requirement already satisfied: httpcore==1.* in /usr/local/lib/python3.11/dist-packages (from httpx<1,>=0.23.0->langsmith<0.3,>=0.1.125->langchain-community==0.3.14) (1.0.7)\n",
            "Requirement already satisfied: h11<0.15,>=0.13 in /usr/local/lib/python3.11/dist-packages (from httpcore==1.*->httpx<1,>=0.23.0->langsmith<0.3,>=0.1.125->langchain-community==0.3.14) (0.14.0)\n",
            "Requirement already satisfied: jsonpointer>=1.9 in /usr/local/lib/python3.11/dist-packages (from jsonpatch<2.0,>=1.33->langchain-core<0.4.0,>=0.3.29->langchain-community==0.3.14) (3.0.0)\n",
            "Requirement already satisfied: annotated-types>=0.6.0 in /usr/local/lib/python3.11/dist-packages (from pydantic<3.0.0,>=2.7.4->langchain<0.4.0,>=0.3.14->langchain-community==0.3.14) (0.7.0)\n",
            "Requirement already satisfied: pydantic-core==2.27.2 in /usr/local/lib/python3.11/dist-packages (from pydantic<3.0.0,>=2.7.4->langchain<0.4.0,>=0.3.14->langchain-community==0.3.14) (2.27.2)\n",
            "Collecting mypy-extensions>=0.3.0 (from typing-inspect<1,>=0.4.0->dataclasses-json<0.7,>=0.5.7->langchain-community==0.3.14)\n",
            "  Downloading mypy_extensions-1.0.0-py3-none-any.whl.metadata (1.1 kB)\n",
            "Requirement already satisfied: sniffio>=1.1 in /usr/local/lib/python3.11/dist-packages (from anyio->httpx<1,>=0.23.0->langsmith<0.3,>=0.1.125->langchain-community==0.3.14) (1.3.1)\n",
            "Downloading langchain_community-0.3.14-py3-none-any.whl (2.5 MB)\n",
            "\u001b[2K   \u001b[90m━━━━━━━━━━━━━━━━━━━━━━━━━━━━━━━━━━━━━━━━\u001b[0m \u001b[32m2.5/2.5 MB\u001b[0m \u001b[31m29.4 MB/s\u001b[0m eta \u001b[36m0:00:00\u001b[0m\n",
            "\u001b[?25hDownloading dataclasses_json-0.6.7-py3-none-any.whl (28 kB)\n",
            "Downloading httpx_sse-0.4.0-py3-none-any.whl (7.8 kB)\n",
            "Downloading pydantic_settings-2.7.1-py3-none-any.whl (29 kB)\n",
            "Downloading marshmallow-3.26.0-py3-none-any.whl (50 kB)\n",
            "\u001b[2K   \u001b[90m━━━━━━━━━━━━━━━━━━━━━━━━━━━━━━━━━━━━━━━━\u001b[0m \u001b[32m50.8/50.8 kB\u001b[0m \u001b[31m3.9 MB/s\u001b[0m eta \u001b[36m0:00:00\u001b[0m\n",
            "\u001b[?25hDownloading python_dotenv-1.0.1-py3-none-any.whl (19 kB)\n",
            "Downloading typing_inspect-0.9.0-py3-none-any.whl (8.8 kB)\n",
            "Downloading mypy_extensions-1.0.0-py3-none-any.whl (4.7 kB)\n",
            "Installing collected packages: python-dotenv, mypy-extensions, marshmallow, httpx-sse, typing-inspect, pydantic-settings, dataclasses-json, langchain-community\n",
            "Successfully installed dataclasses-json-0.6.7 httpx-sse-0.4.0 langchain-community-0.3.14 marshmallow-3.26.0 mypy-extensions-1.0.0 pydantic-settings-2.7.1 python-dotenv-1.0.1 typing-inspect-0.9.0\n",
            "Collecting langgraph==0.2.64\n",
            "  Downloading langgraph-0.2.64-py3-none-any.whl.metadata (16 kB)\n",
            "Requirement already satisfied: langchain-core!=0.3.0,!=0.3.1,!=0.3.10,!=0.3.11,!=0.3.12,!=0.3.13,!=0.3.14,!=0.3.15,!=0.3.16,!=0.3.17,!=0.3.18,!=0.3.19,!=0.3.2,!=0.3.20,!=0.3.21,!=0.3.22,!=0.3.3,!=0.3.4,!=0.3.5,!=0.3.6,!=0.3.7,!=0.3.8,!=0.3.9,<0.4.0,>=0.2.43 in /usr/local/lib/python3.11/dist-packages (from langgraph==0.2.64) (0.3.31)\n",
            "Collecting langgraph-checkpoint<3.0.0,>=2.0.10 (from langgraph==0.2.64)\n",
            "  Downloading langgraph_checkpoint-2.0.10-py3-none-any.whl.metadata (4.6 kB)\n",
            "Collecting langgraph-sdk<0.2.0,>=0.1.42 (from langgraph==0.2.64)\n",
            "  Downloading langgraph_sdk-0.1.51-py3-none-any.whl.metadata (1.8 kB)\n",
            "Requirement already satisfied: PyYAML>=5.3 in /usr/local/lib/python3.11/dist-packages (from langchain-core!=0.3.0,!=0.3.1,!=0.3.10,!=0.3.11,!=0.3.12,!=0.3.13,!=0.3.14,!=0.3.15,!=0.3.16,!=0.3.17,!=0.3.18,!=0.3.19,!=0.3.2,!=0.3.20,!=0.3.21,!=0.3.22,!=0.3.3,!=0.3.4,!=0.3.5,!=0.3.6,!=0.3.7,!=0.3.8,!=0.3.9,<0.4.0,>=0.2.43->langgraph==0.2.64) (6.0.2)\n",
            "Requirement already satisfied: jsonpatch<2.0,>=1.33 in /usr/local/lib/python3.11/dist-packages (from langchain-core!=0.3.0,!=0.3.1,!=0.3.10,!=0.3.11,!=0.3.12,!=0.3.13,!=0.3.14,!=0.3.15,!=0.3.16,!=0.3.17,!=0.3.18,!=0.3.19,!=0.3.2,!=0.3.20,!=0.3.21,!=0.3.22,!=0.3.3,!=0.3.4,!=0.3.5,!=0.3.6,!=0.3.7,!=0.3.8,!=0.3.9,<0.4.0,>=0.2.43->langgraph==0.2.64) (1.33)\n",
            "Requirement already satisfied: langsmith<0.4,>=0.1.125 in /usr/local/lib/python3.11/dist-packages (from langchain-core!=0.3.0,!=0.3.1,!=0.3.10,!=0.3.11,!=0.3.12,!=0.3.13,!=0.3.14,!=0.3.15,!=0.3.16,!=0.3.17,!=0.3.18,!=0.3.19,!=0.3.2,!=0.3.20,!=0.3.21,!=0.3.22,!=0.3.3,!=0.3.4,!=0.3.5,!=0.3.6,!=0.3.7,!=0.3.8,!=0.3.9,<0.4.0,>=0.2.43->langgraph==0.2.64) (0.2.11)\n",
            "Requirement already satisfied: packaging<25,>=23.2 in /usr/local/lib/python3.11/dist-packages (from langchain-core!=0.3.0,!=0.3.1,!=0.3.10,!=0.3.11,!=0.3.12,!=0.3.13,!=0.3.14,!=0.3.15,!=0.3.16,!=0.3.17,!=0.3.18,!=0.3.19,!=0.3.2,!=0.3.20,!=0.3.21,!=0.3.22,!=0.3.3,!=0.3.4,!=0.3.5,!=0.3.6,!=0.3.7,!=0.3.8,!=0.3.9,<0.4.0,>=0.2.43->langgraph==0.2.64) (24.2)\n",
            "Requirement already satisfied: pydantic<3.0.0,>=2.5.2 in /usr/local/lib/python3.11/dist-packages (from langchain-core!=0.3.0,!=0.3.1,!=0.3.10,!=0.3.11,!=0.3.12,!=0.3.13,!=0.3.14,!=0.3.15,!=0.3.16,!=0.3.17,!=0.3.18,!=0.3.19,!=0.3.2,!=0.3.20,!=0.3.21,!=0.3.22,!=0.3.3,!=0.3.4,!=0.3.5,!=0.3.6,!=0.3.7,!=0.3.8,!=0.3.9,<0.4.0,>=0.2.43->langgraph==0.2.64) (2.10.6)\n",
            "Requirement already satisfied: tenacity!=8.4.0,<10.0.0,>=8.1.0 in /usr/local/lib/python3.11/dist-packages (from langchain-core!=0.3.0,!=0.3.1,!=0.3.10,!=0.3.11,!=0.3.12,!=0.3.13,!=0.3.14,!=0.3.15,!=0.3.16,!=0.3.17,!=0.3.18,!=0.3.19,!=0.3.2,!=0.3.20,!=0.3.21,!=0.3.22,!=0.3.3,!=0.3.4,!=0.3.5,!=0.3.6,!=0.3.7,!=0.3.8,!=0.3.9,<0.4.0,>=0.2.43->langgraph==0.2.64) (9.0.0)\n",
            "Requirement already satisfied: typing-extensions>=4.7 in /usr/local/lib/python3.11/dist-packages (from langchain-core!=0.3.0,!=0.3.1,!=0.3.10,!=0.3.11,!=0.3.12,!=0.3.13,!=0.3.14,!=0.3.15,!=0.3.16,!=0.3.17,!=0.3.18,!=0.3.19,!=0.3.2,!=0.3.20,!=0.3.21,!=0.3.22,!=0.3.3,!=0.3.4,!=0.3.5,!=0.3.6,!=0.3.7,!=0.3.8,!=0.3.9,<0.4.0,>=0.2.43->langgraph==0.2.64) (4.12.2)\n",
            "Requirement already satisfied: msgpack<2.0.0,>=1.1.0 in /usr/local/lib/python3.11/dist-packages (from langgraph-checkpoint<3.0.0,>=2.0.10->langgraph==0.2.64) (1.1.0)\n",
            "Requirement already satisfied: httpx>=0.25.2 in /usr/local/lib/python3.11/dist-packages (from langgraph-sdk<0.2.0,>=0.1.42->langgraph==0.2.64) (0.28.1)\n",
            "Requirement already satisfied: orjson>=3.10.1 in /usr/local/lib/python3.11/dist-packages (from langgraph-sdk<0.2.0,>=0.1.42->langgraph==0.2.64) (3.10.15)\n",
            "Requirement already satisfied: anyio in /usr/local/lib/python3.11/dist-packages (from httpx>=0.25.2->langgraph-sdk<0.2.0,>=0.1.42->langgraph==0.2.64) (3.7.1)\n",
            "Requirement already satisfied: certifi in /usr/local/lib/python3.11/dist-packages (from httpx>=0.25.2->langgraph-sdk<0.2.0,>=0.1.42->langgraph==0.2.64) (2024.12.14)\n",
            "Requirement already satisfied: httpcore==1.* in /usr/local/lib/python3.11/dist-packages (from httpx>=0.25.2->langgraph-sdk<0.2.0,>=0.1.42->langgraph==0.2.64) (1.0.7)\n",
            "Requirement already satisfied: idna in /usr/local/lib/python3.11/dist-packages (from httpx>=0.25.2->langgraph-sdk<0.2.0,>=0.1.42->langgraph==0.2.64) (3.10)\n",
            "Requirement already satisfied: h11<0.15,>=0.13 in /usr/local/lib/python3.11/dist-packages (from httpcore==1.*->httpx>=0.25.2->langgraph-sdk<0.2.0,>=0.1.42->langgraph==0.2.64) (0.14.0)\n",
            "Requirement already satisfied: jsonpointer>=1.9 in /usr/local/lib/python3.11/dist-packages (from jsonpatch<2.0,>=1.33->langchain-core!=0.3.0,!=0.3.1,!=0.3.10,!=0.3.11,!=0.3.12,!=0.3.13,!=0.3.14,!=0.3.15,!=0.3.16,!=0.3.17,!=0.3.18,!=0.3.19,!=0.3.2,!=0.3.20,!=0.3.21,!=0.3.22,!=0.3.3,!=0.3.4,!=0.3.5,!=0.3.6,!=0.3.7,!=0.3.8,!=0.3.9,<0.4.0,>=0.2.43->langgraph==0.2.64) (3.0.0)\n",
            "Requirement already satisfied: requests<3,>=2 in /usr/local/lib/python3.11/dist-packages (from langsmith<0.4,>=0.1.125->langchain-core!=0.3.0,!=0.3.1,!=0.3.10,!=0.3.11,!=0.3.12,!=0.3.13,!=0.3.14,!=0.3.15,!=0.3.16,!=0.3.17,!=0.3.18,!=0.3.19,!=0.3.2,!=0.3.20,!=0.3.21,!=0.3.22,!=0.3.3,!=0.3.4,!=0.3.5,!=0.3.6,!=0.3.7,!=0.3.8,!=0.3.9,<0.4.0,>=0.2.43->langgraph==0.2.64) (2.32.3)\n",
            "Requirement already satisfied: requests-toolbelt<2.0.0,>=1.0.0 in /usr/local/lib/python3.11/dist-packages (from langsmith<0.4,>=0.1.125->langchain-core!=0.3.0,!=0.3.1,!=0.3.10,!=0.3.11,!=0.3.12,!=0.3.13,!=0.3.14,!=0.3.15,!=0.3.16,!=0.3.17,!=0.3.18,!=0.3.19,!=0.3.2,!=0.3.20,!=0.3.21,!=0.3.22,!=0.3.3,!=0.3.4,!=0.3.5,!=0.3.6,!=0.3.7,!=0.3.8,!=0.3.9,<0.4.0,>=0.2.43->langgraph==0.2.64) (1.0.0)\n",
            "Requirement already satisfied: annotated-types>=0.6.0 in /usr/local/lib/python3.11/dist-packages (from pydantic<3.0.0,>=2.5.2->langchain-core!=0.3.0,!=0.3.1,!=0.3.10,!=0.3.11,!=0.3.12,!=0.3.13,!=0.3.14,!=0.3.15,!=0.3.16,!=0.3.17,!=0.3.18,!=0.3.19,!=0.3.2,!=0.3.20,!=0.3.21,!=0.3.22,!=0.3.3,!=0.3.4,!=0.3.5,!=0.3.6,!=0.3.7,!=0.3.8,!=0.3.9,<0.4.0,>=0.2.43->langgraph==0.2.64) (0.7.0)\n",
            "Requirement already satisfied: pydantic-core==2.27.2 in /usr/local/lib/python3.11/dist-packages (from pydantic<3.0.0,>=2.5.2->langchain-core!=0.3.0,!=0.3.1,!=0.3.10,!=0.3.11,!=0.3.12,!=0.3.13,!=0.3.14,!=0.3.15,!=0.3.16,!=0.3.17,!=0.3.18,!=0.3.19,!=0.3.2,!=0.3.20,!=0.3.21,!=0.3.22,!=0.3.3,!=0.3.4,!=0.3.5,!=0.3.6,!=0.3.7,!=0.3.8,!=0.3.9,<0.4.0,>=0.2.43->langgraph==0.2.64) (2.27.2)\n",
            "Requirement already satisfied: charset-normalizer<4,>=2 in /usr/local/lib/python3.11/dist-packages (from requests<3,>=2->langsmith<0.4,>=0.1.125->langchain-core!=0.3.0,!=0.3.1,!=0.3.10,!=0.3.11,!=0.3.12,!=0.3.13,!=0.3.14,!=0.3.15,!=0.3.16,!=0.3.17,!=0.3.18,!=0.3.19,!=0.3.2,!=0.3.20,!=0.3.21,!=0.3.22,!=0.3.3,!=0.3.4,!=0.3.5,!=0.3.6,!=0.3.7,!=0.3.8,!=0.3.9,<0.4.0,>=0.2.43->langgraph==0.2.64) (3.4.1)\n",
            "Requirement already satisfied: urllib3<3,>=1.21.1 in /usr/local/lib/python3.11/dist-packages (from requests<3,>=2->langsmith<0.4,>=0.1.125->langchain-core!=0.3.0,!=0.3.1,!=0.3.10,!=0.3.11,!=0.3.12,!=0.3.13,!=0.3.14,!=0.3.15,!=0.3.16,!=0.3.17,!=0.3.18,!=0.3.19,!=0.3.2,!=0.3.20,!=0.3.21,!=0.3.22,!=0.3.3,!=0.3.4,!=0.3.5,!=0.3.6,!=0.3.7,!=0.3.8,!=0.3.9,<0.4.0,>=0.2.43->langgraph==0.2.64) (2.3.0)\n",
            "Requirement already satisfied: sniffio>=1.1 in /usr/local/lib/python3.11/dist-packages (from anyio->httpx>=0.25.2->langgraph-sdk<0.2.0,>=0.1.42->langgraph==0.2.64) (1.3.1)\n",
            "Downloading langgraph-0.2.64-py3-none-any.whl (142 kB)\n",
            "\u001b[2K   \u001b[90m━━━━━━━━━━━━━━━━━━━━━━━━━━━━━━━━━━━━━━━━\u001b[0m \u001b[32m142.6/142.6 kB\u001b[0m \u001b[31m3.6 MB/s\u001b[0m eta \u001b[36m0:00:00\u001b[0m\n",
            "\u001b[?25hDownloading langgraph_checkpoint-2.0.10-py3-none-any.whl (37 kB)\n",
            "Downloading langgraph_sdk-0.1.51-py3-none-any.whl (44 kB)\n",
            "\u001b[2K   \u001b[90m━━━━━━━━━━━━━━━━━━━━━━━━━━━━━━━━━━━━━━━━\u001b[0m \u001b[32m44.7/44.7 kB\u001b[0m \u001b[31m3.3 MB/s\u001b[0m eta \u001b[36m0:00:00\u001b[0m\n",
            "\u001b[?25hInstalling collected packages: langgraph-sdk, langgraph-checkpoint, langgraph\n",
            "Successfully installed langgraph-0.2.64 langgraph-checkpoint-2.0.10 langgraph-sdk-0.1.51\n"
          ]
        }
      ],
      "source": [
        "!pip install langchain==0.3.14\n",
        "!pip install langchain-openai==0.3.0\n",
        "!pip install langchain-community==0.3.14\n",
        "!pip install langgraph==0.2.64"
      ]
    },
    {
      "cell_type": "markdown",
      "source": [
        "## Enter Open AI API Key"
      ],
      "metadata": {
        "id": "H9c37cLnSrbg"
      },
      "id": "H9c37cLnSrbg"
    },
    {
      "cell_type": "code",
      "source": [
        "from getpass import getpass\n",
        "\n",
        "OPENAI_KEY = getpass('Enter Open AI API Key: ')"
      ],
      "metadata": {
        "id": "cv3JzCEx_PAd",
        "colab": {
          "base_uri": "https://localhost:8080/"
        },
        "outputId": "e57fac95-ca07-4f63-8b7a-efe97036e33e"
      },
      "execution_count": 2,
      "outputs": [
        {
          "name": "stdout",
          "output_type": "stream",
          "text": [
            "Enter Open AI API Key: ··········\n"
          ]
        }
      ],
      "id": "cv3JzCEx_PAd"
    },
    {
      "cell_type": "markdown",
      "source": [
        "## Setup Environment Variables"
      ],
      "metadata": {
        "id": "1T0s0um5Svfa"
      },
      "id": "1T0s0um5Svfa"
    },
    {
      "cell_type": "code",
      "source": [
        "import os\n",
        "\n",
        "os.environ['OPENAI_API_KEY'] = OPENAI_KEY"
      ],
      "metadata": {
        "id": "x1YSuHNF_lbh"
      },
      "execution_count": 3,
      "outputs": [],
      "id": "x1YSuHNF_lbh"
    },
    {
      "cell_type": "markdown",
      "source": [
        "## Define Agent State Schema"
      ],
      "metadata": {
        "id": "E1OZCIkyYYzt"
      },
      "id": "E1OZCIkyYYzt"
    },
    {
      "cell_type": "code",
      "source": [
        "from typing_extensions import TypedDict\n",
        "from pydantic import BaseModel\n",
        "import operator\n",
        "from typing import Annotated\n",
        "\n",
        "# Define state\n",
        "class Questions(BaseModel):\n",
        "    questions: list[str]\n",
        "\n",
        "class Answer(BaseModel):\n",
        "    question: str\n",
        "    answer: str\n",
        "\n",
        "class Report(BaseModel):\n",
        "    report: str\n",
        "\n",
        "class OverallState(TypedDict):\n",
        "    topic: str\n",
        "    questions: list\n",
        "    answers: Annotated[list, operator.add]\n",
        "    report: str"
      ],
      "metadata": {
        "id": "o7EnucYkRb6f"
      },
      "id": "o7EnucYkRb6f",
      "execution_count": 4,
      "outputs": []
    },
    {
      "cell_type": "markdown",
      "source": [
        "## Define Agent Node Functions\n",
        "\n",
        "Role of the Send Function:\n",
        "- Dynamic Task Distribution: Utilizes the Send function to dispatch different states to multiple instances of a node, facilitating parallel execution.\n",
        "- Flexible Workflow Management: Very useful when you do not have a fixed number of static edges to parallelize like in router agent. A simple example would be generating a random number of questions or steps to solve a problem and parallelizing the generation process for each of those questions or steps."
      ],
      "metadata": {
        "id": "8UUj4MMIYfuH"
      },
      "id": "8UUj4MMIYfuH"
    },
    {
      "cell_type": "code",
      "source": [
        "from langgraph.constants import Send\n",
        "from langchain_openai import ChatOpenAI\n",
        "\n",
        "llm = ChatOpenAI(model=\"gpt-4o\", temperature=0)\n",
        "\n",
        "# Node to generate questions\n",
        "def generate_questions(state: OverallState):\n",
        "    # sometimes gpt-4o just generates 5 questions always so feel free to play around with the following prompt\n",
        "    # or you can also use gpt-4o-mini or other LLMs or just randomly select a subselt of questions from the response\n",
        "    # just to demonstrate and see how Send works with a variable number of questions\n",
        "    questions_prompt = \"\"\"Generate a list of concise sub-questions related to this overall topic: {topic}\n",
        "                          which would help build a good report.\n",
        "                          Follow these rules for question generation:\n",
        "                            - Do not create very long questions.\n",
        "                            - Number of questions should always be 3 for simple topics (Birds, Animals, AI)\n",
        "                              and 5 for more complex topics (Outlook for ..., Impact of ...)\n",
        "                       \"\"\"\n",
        "    prompt = questions_prompt.format(topic=state[\"topic\"])\n",
        "    response = llm.with_structured_output(Questions).invoke(prompt)\n",
        "    return {\"questions\": response.questions}\n",
        "\n",
        "# Node to generate answer to one question\n",
        "def generate_answer(state: Answer):\n",
        "    answer_prompt = \"\"\"Generate the answer about {question}.\"\"\"\n",
        "    prompt = answer_prompt.format(question=state[\"question\"])\n",
        "    response = llm.with_structured_output(Answer).invoke(prompt)\n",
        "    return {\"answers\": [{\"question\": state[\"question\"], \"answer\": response.answer}]}\n",
        "\n",
        "# Node to continue to answers\n",
        "def continue_to_answers(state: OverallState):\n",
        "    return [Send(\"generate_answer\", {\"question\": q}) for q in state[\"questions\"]] # does the parallel execution\n",
        "\n",
        "# Node to compile the report\n",
        "def compile_report(state: OverallState):\n",
        "    q_and_a = \"\\n\\n\".join(\n",
        "        [f\"Q: {qa['question']}\\nA: {qa['answer']}\" for qa in state[\"answers\"]]\n",
        "    )\n",
        "    report_prompt = \"\"\"Below are a bunch of questions and answers about topic:\n",
        "                       {topic}.\n",
        "                       Generate a detailed report from this about the topic.\n",
        "                       {q_and_a}\"\"\"\n",
        "    prompt = report_prompt.format(topic=state[\"topic\"], q_and_a=q_and_a)\n",
        "    response = llm.with_structured_output(Report).invoke(prompt)\n",
        "    return {\"report\": response.report}"
      ],
      "metadata": {
        "id": "hZ-LxJ5YRb82"
      },
      "id": "hZ-LxJ5YRb82",
      "execution_count": 22,
      "outputs": []
    },
    {
      "cell_type": "markdown",
      "source": [
        "## Create Agent"
      ],
      "metadata": {
        "id": "yuRbxOMMYjMS"
      },
      "id": "yuRbxOMMYjMS"
    },
    {
      "cell_type": "code",
      "source": [
        "from langgraph.graph import StateGraph, START, END\n",
        "\n",
        "# Compile the graph\n",
        "graph = StateGraph(OverallState)\n",
        "graph.add_node(\"generate_questions\", generate_questions)\n",
        "graph.add_node(\"generate_answer\", generate_answer)\n",
        "graph.add_node(\"compile_report\", compile_report)\n",
        "\n",
        "graph.add_edge(START, \"generate_questions\")\n",
        "graph.add_conditional_edges(\"generate_questions\",\n",
        "                            continue_to_answers,\n",
        "                            [\"generate_answer\"])\n",
        "graph.add_edge(\"generate_answer\", \"compile_report\")\n",
        "graph.add_edge(\"compile_report\", END)\n",
        "\n",
        "# Compile the app\n",
        "agent = graph.compile()"
      ],
      "metadata": {
        "id": "1a1p_mpwRb_C"
      },
      "id": "1a1p_mpwRb_C",
      "execution_count": 23,
      "outputs": []
    },
    {
      "cell_type": "code",
      "source": [
        "# Display the graph\n",
        "from IPython.display import display, Image\n",
        "Image(agent.get_graph().draw_mermaid_png())"
      ],
      "metadata": {
        "colab": {
          "base_uri": "https://localhost:8080/",
          "height": 449
        },
        "id": "Te1lHnkqRcBH",
        "outputId": "e563c981-b295-43ec-bc47-1673b57b960b"
      },
      "id": "Te1lHnkqRcBH",
      "execution_count": 24,
      "outputs": [
        {
          "output_type": "execute_result",
          "data": {
            "image/png": "[encoded data removed]",
            "text/plain": [
              "<IPython.core.display.Image object>"
            ]
          },
          "metadata": {},
          "execution_count": 24
        }
      ]
    },
    {
      "cell_type": "markdown",
      "source": [
        "## Run and Test the Agent"
      ],
      "metadata": {
        "id": "sUfJrGBAYv64"
      },
      "id": "sUfJrGBAYv64"
    },
    {
      "cell_type": "code",
      "source": [
        "from IPython.display import display, Markdown\n",
        "\n",
        "for state in agent.stream({\"topic\": \"Artificial Intelligence\"}):\n",
        "    print(state)\n",
        "    if 'compile_report' in state:\n",
        "        display(Markdown(state['compile_report']['report']))"
      ],
      "metadata": {
        "colab": {
          "base_uri": "https://localhost:8080/",
          "height": 1000
        },
        "id": "UYB9crmZRcDD",
        "outputId": "69be16e4-f61d-4aea-b924-e6d9b80267a4"
      },
      "id": "UYB9crmZRcDD",
      "execution_count": 26,
      "outputs": [
        {
          "output_type": "stream",
          "name": "stdout",
          "text": [
            "{'generate_questions': {'questions': ['What are the primary types of artificial intelligence?', 'How does machine learning differ from traditional AI?', 'What are the ethical considerations in AI development?']}}\n",
            "{'generate_answer': {'answers': [{'question': 'What are the ethical considerations in AI development?', 'answer': 'The development and deployment of Artificial Intelligence (AI) technologies bring about numerous ethical considerations that need to be addressed to ensure that these technologies are beneficial, fair, and safe for society. Here are some key ethical considerations in AI development:\\n\\n1. **Bias and Fairness:**\\n   - AI systems can inadvertently perpetuate or even exacerbate existing biases present in the data they are trained on. Ensuring fairness involves actively identifying and mitigating these biases to prevent discrimination against any group based on race, gender, age, or other characteristics.\\n\\n2. **Transparency and Explainability:**\\n   - AI systems, especially those using complex models like deep learning, can be opaque in their decision-making processes. Ensuring transparency and explainability is crucial so that users and stakeholders can understand how decisions are made and trust the system.\\n\\n3. **Privacy and Data Protection:**\\n   - AI systems often require large amounts of data, raising concerns about how this data is collected, stored, and used. Protecting user privacy and ensuring compliance with data protection regulations like GDPR is essential.\\n\\n4. **Accountability and Responsibility:**\\n   - Determining who is accountable for the actions and decisions made by AI systems is a significant ethical challenge. Developers, companies, and users need clear guidelines on responsibility, especially in cases where AI systems cause harm or make errors.\\n\\n5. **Security and Safety:**\\n   - AI systems must be designed to be secure against malicious attacks and robust enough to handle unexpected situations without causing harm. Ensuring the safety of AI systems is critical, especially in high-stakes areas like healthcare and autonomous vehicles.\\n\\n6. **Autonomy and Control:**\\n   - As AI systems become more autonomous, there is a need to balance machine autonomy with human oversight. Ensuring that humans remain in control and can intervene when necessary is vital to prevent unintended consequences.\\n\\n7. **Impact on Employment:**\\n   - AI has the potential to disrupt job markets by automating tasks traditionally performed by humans. Ethical AI development should consider the societal impact on employment and work towards solutions that support workforce transitions.\\n\\n8. **Moral and Ethical Decision-Making:**\\n   - AI systems may be required to make decisions with moral or ethical implications, such as in healthcare or law enforcement. Developing frameworks for ethical decision-making in AI is crucial to ensure these systems align with societal values.\\n\\n9. **Environmental Impact:**\\n   - The development and operation of AI systems can have significant environmental impacts due to energy consumption. Ethical AI development should consider sustainability and work towards minimizing the carbon footprint of AI technologies.\\n\\n10. **Global and Cultural Considerations:**\\n    - AI systems are deployed globally, and ethical considerations must account for diverse cultural norms and values. Ensuring that AI respects and adapts to different cultural contexts is essential for its acceptance and effectiveness worldwide.\\n\\nAddressing these ethical considerations requires a collaborative effort from developers, policymakers, ethicists, and society at large to create AI systems that are not only technologically advanced but also socially responsible and aligned with human values.'}]}}\n",
            "{'generate_answer': {'answers': [{'question': 'What are the primary types of artificial intelligence?', 'answer': 'Artificial Intelligence (AI) is a broad field that encompasses various types of technologies and methodologies aimed at creating machines capable of performing tasks that typically require human intelligence. The primary types of AI can be categorized based on their capabilities and functionalities:\\n\\n### 1. **Reactive Machines**\\n- **Description:** These are the most basic types of AI systems that perceive the world directly and act on what they see. They do not have the ability to form memories or use past experiences to inform current decisions.\\n- **Example:** IBM\\'s Deep Blue, the chess-playing computer that defeated world champion Garry Kasparov in the 1990s.\\n\\n### 2. **Limited Memory**\\n- **Description:** These AI systems can use past experiences to inform future decisions. They have a limited memory that allows them to store previous data and predictions to make better decisions.\\n- **Example:** Self-driving cars that observe other vehicles\\' speed and direction to make decisions.\\n\\n### 3. **Theory of Mind**\\n- **Description:** This type of AI is still theoretical and not yet fully realized. It involves machines that can understand human emotions, beliefs, and thoughts, allowing them to interact more naturally with humans.\\n- **Example:** Advanced AI personal assistants that can understand and respond to human emotions.\\n\\n### 4. **Self-Aware AI**\\n- **Description:** This is the most advanced form of AI, which is also theoretical at this point. Self-aware AI would have its own consciousness, self-awareness, and understanding of its existence.\\n- **Example:** Hypothetical AI systems that can think and feel like humans.\\n\\n### 5. **Artificial Narrow Intelligence (ANI)**\\n- **Description:** Also known as \"Weak AI,\" ANI is designed to perform a narrow task, such as facial recognition or internet searches. It operates under a limited set of constraints and is the most common form of AI today.\\n- **Example:** Virtual assistants like Siri and Alexa.\\n\\n### 6. **Artificial General Intelligence (AGI)**\\n- **Description:** Also known as \"Strong AI,\" AGI refers to a machine with the ability to understand, learn, and apply intelligence to solve any problem, much like a human.\\n- **Example:** A hypothetical AI that can perform any intellectual task that a human can do.\\n\\n### 7. **Artificial Superintelligence (ASI)**\\n- **Description:** This is a level of intelligence that surpasses human intelligence in all aspects, including creativity, problem-solving, and social intelligence.\\n- **Example:** A theoretical AI that could outperform humans in every field.\\n\\n### Conclusion\\nThe development of AI is a rapidly evolving field, with current technologies primarily focused on ANI. The future holds potential for more advanced forms of AI, such as AGI and ASI, which could revolutionize how we interact with machines and the world around us.'}]}}\n",
            "{'generate_answer': {'answers': [{'question': 'How does machine learning differ from traditional AI?', 'answer': \"### Traditional AI vs. Machine Learning\\n\\n**Traditional AI** and **Machine Learning (ML)** are both subfields of artificial intelligence, but they differ significantly in their approaches, methodologies, and applications. Here's a breakdown of their differences:\\n\\n#### 1. **Definition and Approach**\\n- **Traditional AI**:\\n  - **Rule-Based Systems**: Traditional AI relies heavily on predefined rules and logic to mimic human decision-making processes.\\n  - **Symbolic AI**: It often uses symbolic reasoning, where knowledge is represented in symbols and manipulated through logical operations.\\n  - **Expert Systems**: These systems are designed to solve specific problems by emulating the decision-making ability of a human expert.\\n\\n- **Machine Learning**:\\n  - **Data-Driven**: ML focuses on learning patterns from data rather than relying on explicit programming.\\n  - **Statistical Methods**: It uses statistical techniques to enable systems to improve their performance over time.\\n  - **Adaptive**: ML models can adapt to new data and improve their accuracy without human intervention.\\n\\n#### 2. **Development Process**\\n- **Traditional AI**:\\n  - **Manual Programming**: Requires extensive manual coding and rule-setting by human programmers.\\n  - **Knowledge Engineering**: Involves the labor-intensive process of encoding expert knowledge into the system.\\n\\n- **Machine Learning**:\\n  - **Training**: Involves feeding large datasets into algorithms to train models.\\n  - **Feature Extraction**: Automatically identifies relevant features from data to make predictions or decisions.\\n\\n#### 3. **Flexibility and Scalability**\\n- **Traditional AI**:\\n  - **Limited Flexibility**: Changes in the environment or problem domain require manual updates to rules and logic.\\n  - **Scalability Challenges**: As complexity increases, maintaining and updating rule-based systems becomes cumbersome.\\n\\n- **Machine Learning**:\\n  - **Highly Flexible**: Can adapt to new data and environments with minimal human intervention.\\n  - **Scalable**: Easily handles large volumes of data and complex problems.\\n\\n#### 4. **Applications**\\n- **Traditional AI**:\\n  - **Chess Engines**: Programs like Deep Blue that use predefined strategies and rules.\\n  - **Diagnostic Systems**: Early medical diagnostic systems that rely on expert knowledge.\\n\\n- **Machine Learning**:\\n  - **Image and Speech Recognition**: Systems like facial recognition and voice assistants.\\n  - **Recommendation Systems**: Algorithms used by platforms like Netflix and Amazon to suggest content.\\n\\n#### 5. **Outcome and Performance**\\n- **Traditional AI**:\\n  - **Deterministic**: Produces consistent results based on the rules provided.\\n  - **Limited Learning**: Does not improve or learn from new data without manual updates.\\n\\n- **Machine Learning**:\\n  - **Probabilistic**: Provides predictions with a degree of uncertainty, often improving over time.\\n  - **Continuous Learning**: Continuously learns and refines its models as more data becomes available.\\n\\n### Conclusion\\nWhile traditional AI laid the groundwork for intelligent systems, machine learning has revolutionized the field by enabling systems to learn from data and adapt to new challenges autonomously. This shift from rule-based to data-driven approaches has expanded the capabilities and applications of AI across various industries.\"}]}}\n",
            "{'compile_report': {'report': \"## Artificial Intelligence: A Comprehensive Overview\\n\\nArtificial Intelligence (AI) is a transformative technology that has the potential to revolutionize various aspects of human life. This report delves into the primary types of AI, the differences between traditional AI and machine learning, and the ethical considerations surrounding AI development.\\n\\n### Types of Artificial Intelligence\\n\\nAI can be categorized into several types based on their capabilities and functionalities:\\n\\n1. **Reactive Machines**\\n   - **Characteristics:** Basic AI systems that respond to immediate inputs without memory or learning capabilities.\\n   - **Example:** IBM's Deep Blue, a chess-playing computer.\\n\\n2. **Limited Memory**\\n   - **Characteristics:** AI systems that use past experiences to inform future decisions.\\n   - **Example:** Self-driving cars that analyze traffic patterns.\\n\\n3. **Theory of Mind**\\n   - **Characteristics:** Theoretical AI that understands human emotions and thoughts.\\n   - **Example:** Advanced AI personal assistants.\\n\\n4. **Self-Aware AI**\\n   - **Characteristics:** Hypothetical AI with consciousness and self-awareness.\\n   - **Example:** AI systems with human-like cognition.\\n\\n5. **Artificial Narrow Intelligence (ANI)**\\n   - **Characteristics:** AI designed for specific tasks, prevalent today.\\n   - **Example:** Virtual assistants like Siri and Alexa.\\n\\n6. **Artificial General Intelligence (AGI)**\\n   - **Characteristics:** AI with human-like problem-solving abilities.\\n   - **Example:** Hypothetical AI capable of any intellectual task.\\n\\n7. **Artificial Superintelligence (ASI)**\\n   - **Characteristics:** AI surpassing human intelligence in all domains.\\n   - **Example:** Theoretical AI with superior cognitive abilities.\\n\\n### Traditional AI vs. Machine Learning\\n\\n**Traditional AI** and **Machine Learning (ML)** are distinct in their approaches:\\n\\n- **Traditional AI** relies on rule-based systems and symbolic reasoning, requiring manual programming and knowledge engineering. It is deterministic and limited in learning capabilities.\\n\\n- **Machine Learning** is data-driven, using statistical methods to learn from data and adapt over time. It is flexible, scalable, and capable of continuous learning.\\n\\n**Applications:**\\n- Traditional AI: Chess engines, diagnostic systems.\\n- Machine Learning: Image recognition, recommendation systems.\\n\\n### Ethical Considerations in AI Development\\n\\nThe ethical implications of AI are vast and multifaceted:\\n\\n1. **Bias and Fairness:** Ensuring AI systems do not perpetuate discrimination.\\n2. **Transparency and Explainability:** Making AI decision-making processes understandable.\\n3. **Privacy and Data Protection:** Safeguarding user data and complying with regulations.\\n4. **Accountability and Responsibility:** Clarifying who is responsible for AI actions.\\n5. **Security and Safety:** Protecting AI systems from malicious attacks.\\n6. **Autonomy and Control:** Balancing machine autonomy with human oversight.\\n7. **Impact on Employment:** Addressing job displacement due to automation.\\n8. **Moral and Ethical Decision-Making:** Aligning AI decisions with societal values.\\n9. **Environmental Impact:** Minimizing the carbon footprint of AI technologies.\\n10. **Global and Cultural Considerations:** Respecting diverse cultural norms in AI deployment.\\n\\n### Conclusion\\n\\nAI is a rapidly evolving field with significant potential to impact society positively. However, it is crucial to address the ethical challenges it presents to ensure that AI technologies are developed responsibly and align with human values. Collaborative efforts from various stakeholders are essential to harness AI's benefits while mitigating its risks.\"}}\n"
          ]
        },
        {
          "output_type": "display_data",
          "data": {
            "text/plain": [
              "<IPython.core.display.Markdown object>"
            ],
            "text/markdown": "## Artificial Intelligence: A Comprehensive Overview\n\nArtificial Intelligence (AI) is a transformative technology that has the potential to revolutionize various aspects of human life. This report delves into the primary types of AI, the differences between traditional AI and machine learning, and the ethical considerations surrounding AI development.\n\n### Types of Artificial Intelligence\n\nAI can be categorized into several types based on their capabilities and functionalities:\n\n1. **Reactive Machines**\n   - **Characteristics:** Basic AI systems that respond to immediate inputs without memory or learning capabilities.\n   - **Example:** IBM's Deep Blue, a chess-playing computer.\n\n2. **Limited Memory**\n   - **Characteristics:** AI systems that use past experiences to inform future decisions.\n   - **Example:** Self-driving cars that analyze traffic patterns.\n\n3. **Theory of Mind**\n   - **Characteristics:** Theoretical AI that understands human emotions and thoughts.\n   - **Example:** Advanced AI personal assistants.\n\n4. **Self-Aware AI**\n   - **Characteristics:** Hypothetical AI with consciousness and self-awareness.\n   - **Example:** AI systems with human-like cognition.\n\n5. **Artificial Narrow Intelligence (ANI)**\n   - **Characteristics:** AI designed for specific tasks, prevalent today.\n   - **Example:** Virtual assistants like Siri and Alexa.\n\n6. **Artificial General Intelligence (AGI)**\n   - **Characteristics:** AI with human-like problem-solving abilities.\n   - **Example:** Hypothetical AI capable of any intellectual task.\n\n7. **Artificial Superintelligence (ASI)**\n   - **Characteristics:** AI surpassing human intelligence in all domains.\n   - **Example:** Theoretical AI with superior cognitive abilities.\n\n### Traditional AI vs. Machine Learning\n\n**Traditional AI** and **Machine Learning (ML)** are distinct in their approaches:\n\n- **Traditional AI** relies on rule-based systems and symbolic reasoning, requiring manual programming and knowledge engineering. It is deterministic and limited in learning capabilities.\n\n- **Machine Learning** is data-driven, using statistical methods to learn from data and adapt over time. It is flexible, scalable, and capable of continuous learning.\n\n**Applications:**\n- Traditional AI: Chess engines, diagnostic systems.\n- Machine Learning: Image recognition, recommendation systems.\n\n### Ethical Considerations in AI Development\n\nThe ethical implications of AI are vast and multifaceted:\n\n1. **Bias and Fairness:** Ensuring AI systems do not perpetuate discrimination.\n2. **Transparency and Explainability:** Making AI decision-making processes understandable.\n3. **Privacy and Data Protection:** Safeguarding user data and complying with regulations.\n4. **Accountability and Responsibility:** Clarifying who is responsible for AI actions.\n5. **Security and Safety:** Protecting AI systems from malicious attacks.\n6. **Autonomy and Control:** Balancing machine autonomy with human oversight.\n7. **Impact on Employment:** Addressing job displacement due to automation.\n8. **Moral and Ethical Decision-Making:** Aligning AI decisions with societal values.\n9. **Environmental Impact:** Minimizing the carbon footprint of AI technologies.\n10. **Global and Cultural Considerations:** Respecting diverse cultural norms in AI deployment.\n\n### Conclusion\n\nAI is a rapidly evolving field with significant potential to impact society positively. However, it is crucial to address the ethical challenges it presents to ensure that AI technologies are developed responsibly and align with human values. Collaborative efforts from various stakeholders are essential to harness AI's benefits while mitigating its risks."
          },
          "metadata": {}
        }
      ]
    },
    {
      "cell_type": "code",
      "source": [
        "for state in agent.stream({\"topic\": \"Animals\"}):\n",
        "    print(state)\n",
        "    if 'compile_report' in state:\n",
        "        display(Markdown(state['compile_report']['report']))"
      ],
      "metadata": {
        "colab": {
          "base_uri": "https://localhost:8080/",
          "height": 1000
        },
        "id": "kkGDMBRTRcFx",
        "outputId": "8ed5f2c1-ab44-41c5-ecde-6ae0091d0cf8"
      },
      "id": "kkGDMBRTRcFx",
      "execution_count": 27,
      "outputs": [
        {
          "output_type": "stream",
          "name": "stdout",
          "text": [
            "{'generate_questions': {'questions': ['What are the different classifications of animals?', 'How do animals adapt to their environments?', 'What are the primary threats to animal populations?', 'How do animals communicate with each other?', 'What roles do animals play in ecosystems?']}}\n",
            "{'generate_answer': {'answers': [{'question': 'What roles do animals play in ecosystems?', 'answer': 'Animals play a multitude of critical roles in ecosystems, contributing to the balance, health, and functionality of their environments. Here are some of the key roles they fulfill:\\n\\n1. **Pollinators:**\\n   - Many animals, such as bees, butterflies, birds, and bats, are essential for pollinating plants. This process is crucial for the reproduction of flowering plants and the production of fruits and seeds.\\n\\n2. **Seed Dispersers:**\\n   - Animals like birds, mammals, and insects help in dispersing seeds by carrying them to new locations, either through ingestion and excretion or by transporting them on their bodies. This aids in plant diversity and forest regeneration.\\n\\n3. **Predators:**\\n   - Predatory animals help control the population of other species, maintaining a balance within the ecosystem. They prevent any one species from becoming too dominant, which can lead to overconsumption of resources.\\n\\n4. **Prey:**\\n   - As prey, animals provide essential nutrients and energy to their predators, forming a critical link in the food chain.\\n\\n5. **Decomposers and Scavengers:**\\n   - Animals like vultures, insects, and some mammals break down dead organic matter, returning nutrients to the soil and aiding in decomposition. This process is vital for nutrient cycling and soil fertility.\\n\\n6. **Ecosystem Engineers:**\\n   - Some animals, such as beavers, elephants, and earthworms, modify their environment in ways that create new habitats for other species. For example, beavers build dams that create wetlands, supporting diverse plant and animal life.\\n\\n7. **Herbivores:**\\n   - Herbivorous animals help control plant populations and influence the structure of vegetation. Their grazing patterns can shape the landscape and affect the availability of resources for other species.\\n\\n8. **Nutrient Cyclers:**\\n   - Through their waste products, animals contribute to nutrient cycling, enriching the soil and promoting plant growth.\\n\\n9. **Indicators of Ecosystem Health:**\\n   - The presence, absence, or abundance of certain animal species can indicate the health of an ecosystem. Changes in animal populations can signal shifts in environmental conditions or the impact of human activities.\\n\\n10. **Cultural and Economic Roles:**\\n    - Animals also play roles in human culture and economies, providing food, clothing, and other resources, as well as being integral to cultural traditions and ecotourism.\\n\\nIn summary, animals are indispensable to ecosystems, performing functions that sustain biodiversity, promote ecological balance, and support the life cycles of countless organisms. Their interactions with plants, other animals, and the environment are complex and vital for the resilience and sustainability of ecosystems.'}]}}\n",
            "{'generate_answer': {'answers': [{'question': 'How do animals communicate with each other?', 'answer': 'Animals communicate with each other through a variety of methods, each adapted to their environment, social structure, and survival needs. Here are some of the primary ways animals convey information:\\n\\n### 1. **Vocalizations**\\n- **Birds:** Use songs and calls to attract mates, defend territory, and warn of predators.\\n- **Mammals:** Wolves howl to coordinate pack activities, while dolphins use clicks and whistles for social interaction and navigation.\\n- **Insects:** Crickets chirp to attract mates, and bees use buzzing sounds to communicate within the hive.\\n\\n### 2. **Body Language**\\n- **Dogs:** Use tail wagging, ear positioning, and body posture to express emotions and intentions.\\n- **Primates:** Use facial expressions, gestures, and body postures to convey social status and emotions.\\n- **Fish:** Use fin displays and body movements to establish dominance or attract mates.\\n\\n### 3. **Chemical Signals (Pheromones)**\\n- **Insects:** Ants leave pheromone trails to guide others to food sources.\\n- **Mammals:** Many use scent marking to establish territory or signal reproductive status.\\n- **Marine Animals:** Some release chemicals into the water to communicate reproductive readiness.\\n\\n### 4. **Visual Signals**\\n- **Birds:** Use colorful plumage and elaborate dances during courtship displays.\\n- **Cephalopods (e.g., octopuses):** Change skin color and texture to communicate mood or camouflage.\\n- **Fireflies:** Use bioluminescent flashes to attract mates.\\n\\n### 5. **Tactile Communication**\\n- **Primates:** Groom each other to strengthen social bonds and communicate trust.\\n- **Elephants:** Use trunk touches and nudges to comfort or guide each other.\\n- **Insects:** Antennae tapping in ants helps convey information about food sources.\\n\\n### 6. **Electrical Signals**\\n- **Electric Fish:** Use electric fields to navigate, find prey, and communicate with other fish.\\n\\n### 7. **Vibrations**\\n- **Spiders:** Use web vibrations to detect prey and communicate with potential mates.\\n- **Elephants:** Use low-frequency rumbles that can be felt as ground vibrations over long distances.\\n\\n### Conclusion\\nAnimal communication is a complex and fascinating field, showcasing the diversity of life and the myriad ways species have adapted to their environments. Each method of communication serves a specific purpose, whether it be for mating, establishing territory, warning of danger, or maintaining social bonds. Understanding these methods provides insight into the intricate social structures and survival strategies of the animal kingdom.'}]}}\n",
            "{'generate_answer': {'answers': [{'question': 'How do animals adapt to their environments?', 'answer': \"Animals have developed a wide range of adaptations to survive and thrive in their specific environments. These adaptations can be structural, behavioral, or physiological, and they help animals meet their basic needs such as finding food, avoiding predators, and reproducing. Here are some key ways animals adapt to their environments:\\n\\n### 1. **Structural Adaptations**\\n- **Camouflage:** Many animals have evolved colors and patterns that help them blend into their surroundings, making it harder for predators to spot them. For example, the chameleon can change its skin color to match its environment.\\n- **Body Shape and Size:** Animals may develop specific body shapes that help them move efficiently in their environment. For instance, fish have streamlined bodies to swim easily through water.\\n- **Specialized Appendages:** Animals like polar bears have large paws to walk on snow, while birds have different types of beaks suited to their feeding habits.\\n\\n### 2. **Behavioral Adaptations**\\n- **Migration:** Some animals, like birds and whales, migrate to different areas to find food or breed in more favorable conditions.\\n- **Hibernation:** Animals such as bears and bats enter a state of dormancy during cold months to conserve energy when food is scarce.\\n- **Nocturnal Activity:** Some animals, like owls and bats, are active at night to avoid daytime predators and heat.\\n\\n### 3. **Physiological Adaptations**\\n- **Temperature Regulation:** Animals like camels have adaptations to survive extreme temperatures, such as the ability to withstand dehydration and store fat in their humps.\\n- **Metabolic Adjustments:** Some animals can slow down their metabolism to survive periods of food scarcity.\\n- **Venom and Toxins:** Certain animals, like snakes and jellyfish, produce venom or toxins to capture prey or defend against predators.\\n\\n### 4. **Reproductive Adaptations**\\n- **Parental Care:** Some species, like penguins, have developed complex behaviors to care for their young, increasing their offspring's chances of survival.\\n- **Reproductive Timing:** Animals may time their breeding seasons to coincide with periods of abundant resources.\\n\\n### 5. **Social Adaptations**\\n- **Pack Behavior:** Animals like wolves and lions hunt in packs, which increases their efficiency in capturing prey.\\n- **Communication:** Many animals have developed sophisticated ways to communicate, such as the complex songs of birds or the dances of bees.\\n\\n### Conclusion\\nAdaptations are crucial for the survival of species in diverse environments. These changes occur over many generations through the process of natural selection, where advantageous traits become more common in a population. Understanding these adaptations provides insight into the resilience and diversity of life on Earth.\"}]}}\n",
            "{'generate_answer': {'answers': [{'question': 'What are the primary threats to animal populations?', 'answer': 'Animal populations around the world face numerous threats that can lead to declines in their numbers and even extinction. Here are some of the primary threats:\\n\\n1. **Habitat Loss and Fragmentation:**\\n   - **Deforestation:** Clearing forests for agriculture, urban development, and logging reduces the natural habitats available for wildlife.\\n   - **Urbanization:** Expansion of cities and infrastructure encroaches on natural habitats.\\n   - **Agricultural Expansion:** Conversion of wild lands into agricultural fields diminishes available habitats.\\n   - **Fragmentation:** Roads, fences, and other barriers divide habitats, isolating animal populations and reducing genetic diversity.\\n\\n2. **Climate Change:**\\n   - **Temperature Changes:** Altered climates can affect breeding patterns, migration routes, and food availability.\\n   - **Sea Level Rise:** Coastal habitats are threatened by rising sea levels, affecting species that rely on these areas.\\n   - **Extreme Weather Events:** Increased frequency and intensity of storms, droughts, and floods can devastate animal populations.\\n\\n3. **Pollution:**\\n   - **Chemical Pollution:** Pesticides, heavy metals, and other pollutants can poison wildlife and disrupt ecosystems.\\n   - **Plastic Pollution:** Ingestion and entanglement in plastic waste can be fatal to marine and terrestrial animals.\\n   - **Air and Water Pollution:** Contaminants can degrade habitats and harm animal health.\\n\\n4. **Overexploitation:**\\n   - **Hunting and Poaching:** Illegal hunting for meat, trophies, or traditional medicine can severely reduce animal numbers.\\n   - **Overfishing:** Unsustainable fishing practices deplete fish stocks and disrupt marine ecosystems.\\n   - **Pet Trade:** Capture and trade of wild animals for pets can threaten species with extinction.\\n\\n5. **Invasive Species:**\\n   - **Competition:** Non-native species can outcompete native species for resources.\\n   - **Predation:** Introduced predators can decimate native animal populations.\\n   - **Disease:** Invasive species can introduce new diseases to which native species have no immunity.\\n\\n6. **Disease:**\\n   - **Epidemics:** Diseases can spread rapidly through animal populations, especially those already stressed by other factors.\\n   - **Zoonotic Diseases:** Diseases that jump from animals to humans can also impact animal populations.\\n\\n7. **Human-Wildlife Conflict:**\\n   - **Encroachment:** As human populations grow, conflicts over land and resources increase.\\n   - **Retaliation:** Animals perceived as threats to livestock or crops may be killed in retaliation.\\n\\nAddressing these threats requires coordinated global efforts, including conservation initiatives, sustainable development practices, and policies that protect natural habitats and biodiversity.'}]}}\n",
            "{'generate_answer': {'answers': [{'question': 'What are the different classifications of animals?', 'answer': 'Animals are classified into various groups based on shared characteristics and evolutionary history. The primary classification system used is the Linnaean system, which organizes animals into hierarchical categories. Here are the main classifications of animals:\\n\\n### 1. **Kingdom**\\n- **Animalia**: This is the broadest category that includes all animals.\\n\\n### 2. **Phylum**\\n- **Chordata**: Animals with a notochord, such as mammals, birds, reptiles, amphibians, and fish.\\n- **Arthropoda**: Invertebrates with exoskeletons, segmented bodies, and jointed appendages, including insects, arachnids, and crustaceans.\\n- **Mollusca**: Soft-bodied animals, often with shells, such as snails, clams, and octopuses.\\n- **Annelida**: Segmented worms like earthworms and leeches.\\n- **Cnidaria**: Aquatic animals with stinging cells, such as jellyfish and corals.\\n- **Echinodermata**: Marine animals with radial symmetry, like starfish and sea urchins.\\n\\n### 3. **Class**\\n- **Mammalia**: Warm-blooded animals with hair or fur and mammary glands.\\n- **Aves**: Birds, characterized by feathers, beaks, and laying hard-shelled eggs.\\n- **Reptilia**: Cold-blooded, scaly animals, including snakes, lizards, and turtles.\\n- **Amphibia**: Animals that live both in water and on land, such as frogs and salamanders.\\n- **Pisces**: Fish, which are aquatic, gill-bearing animals.\\n- **Insecta**: The largest class of arthropods, including beetles, butterflies, and ants.\\n\\n### 4. **Order**\\n- **Carnivora**: Meat-eating mammals like lions and bears.\\n- **Primates**: Includes humans, apes, and monkeys.\\n- **Lepidoptera**: Insects with scaled wings, such as butterflies and moths.\\n\\n### 5. **Family**\\n- **Felidae**: The cat family, including lions, tigers, and domestic cats.\\n- **Canidae**: The dog family, including wolves, foxes, and domestic dogs.\\n\\n### 6. **Genus**\\n- **Panthera**: Includes big cats like lions and tigers.\\n- **Homo**: The genus that includes humans.\\n\\n### 7. **Species**\\n- **Homo sapiens**: The species name for humans.\\n- **Panthera leo**: The species name for lions.\\n\\n### Additional Classifications\\n- **Subspecies**: Variations within a species, often due to geographic separation.\\n- **Variety**: A taxonomic rank below species, often used in botany.\\n\\n### Conclusion\\nThe classification of animals is a complex and dynamic field, with ongoing research leading to new discoveries and changes in how animals are grouped. This system helps scientists communicate about the diversity of life and understand the evolutionary relationships between different organisms.'}]}}\n",
            "{'compile_report': {'report': '### Detailed Report on Animals\\n\\nAnimals are a diverse group of organisms that play crucial roles in ecosystems, exhibit fascinating adaptations, and face numerous threats. This report delves into the classification, adaptations, threats, communication methods, and ecological roles of animals.\\n\\n---\\n\\n### Classification of Animals\\n\\nAnimals are classified using the Linnaean system, which organizes them into hierarchical categories based on shared characteristics and evolutionary history. This system helps scientists understand the diversity of life and evolutionary relationships.\\n\\n- **Kingdom:** Animalia encompasses all animals.\\n- **Phylum:** Includes Chordata (vertebrates), Arthropoda (invertebrates with exoskeletons), Mollusca (soft-bodied animals), Annelida (segmented worms), Cnidaria (aquatic animals with stinging cells), and Echinodermata (marine animals with radial symmetry).\\n- **Class:** Examples include Mammalia (mammals), Aves (birds), Reptilia (reptiles), Amphibia (amphibians), Pisces (fish), and Insecta (insects).\\n- **Order, Family, Genus, Species:** Further subdivisions categorize animals into more specific groups, such as Carnivora (meat-eating mammals) and Primates (humans, apes, monkeys).\\n\\n---\\n\\n### Adaptations of Animals\\n\\nAnimals have evolved a variety of adaptations to survive in their environments. These adaptations can be structural, behavioral, or physiological.\\n\\n- **Structural Adaptations:** Include camouflage, body shape, and specialized appendages.\\n- **Behavioral Adaptations:** Include migration, hibernation, and nocturnal activity.\\n- **Physiological Adaptations:** Include temperature regulation, metabolic adjustments, and venom production.\\n- **Reproductive and Social Adaptations:** Include parental care, reproductive timing, pack behavior, and communication.\\n\\n---\\n\\n### Threats to Animal Populations\\n\\nAnimal populations face numerous threats that can lead to declines and extinction.\\n\\n- **Habitat Loss and Fragmentation:** Due to deforestation, urbanization, and agricultural expansion.\\n- **Climate Change:** Affects breeding patterns, migration routes, and food availability.\\n- **Pollution:** Includes chemical, plastic, air, and water pollution.\\n- **Overexploitation:** Through hunting, poaching, overfishing, and the pet trade.\\n- **Invasive Species:** Compete with native species and introduce new diseases.\\n- **Disease and Human-Wildlife Conflict:** Epidemics and conflicts over land and resources.\\n\\n---\\n\\n### Animal Communication\\n\\nAnimals communicate through various methods adapted to their environment and social needs.\\n\\n- **Vocalizations:** Used by birds, mammals, and insects for mating, territory defense, and social interaction.\\n- **Body Language:** Used by dogs, primates, and fish to express emotions and intentions.\\n- **Chemical Signals (Pheromones):** Used by insects and mammals for territory marking and reproductive signaling.\\n- **Visual Signals:** Used by birds, cephalopods, and fireflies for courtship and camouflage.\\n- **Tactile Communication:** Used by primates and elephants for social bonding and guidance.\\n- **Electrical Signals and Vibrations:** Used by electric fish and spiders for navigation and communication.\\n\\n---\\n\\n### Roles of Animals in Ecosystems\\n\\nAnimals fulfill critical roles that sustain ecosystems and biodiversity.\\n\\n- **Pollinators and Seed Dispersers:** Essential for plant reproduction and diversity.\\n- **Predators and Prey:** Maintain population balance and energy flow in food chains.\\n- **Decomposers and Scavengers:** Aid in nutrient cycling and soil fertility.\\n- **Ecosystem Engineers:** Modify environments to create habitats for other species.\\n- **Herbivores and Nutrient Cyclers:** Influence vegetation structure and enrich soil.\\n- **Indicators of Ecosystem Health:** Reflect environmental conditions and human impacts.\\n\\n---\\n\\n### Conclusion\\n\\nAnimals are integral to the health and functionality of ecosystems. Their diverse adaptations, communication methods, and ecological roles highlight the complexity and resilience of life on Earth. Understanding and addressing the threats they face is crucial for conserving biodiversity and ensuring the sustainability of ecosystems.'}}\n"
          ]
        },
        {
          "output_type": "display_data",
          "data": {
            "text/plain": [
              "<IPython.core.display.Markdown object>"
            ],
            "text/markdown": "### Detailed Report on Animals\n\nAnimals are a diverse group of organisms that play crucial roles in ecosystems, exhibit fascinating adaptations, and face numerous threats. This report delves into the classification, adaptations, threats, communication methods, and ecological roles of animals.\n\n---\n\n### Classification of Animals\n\nAnimals are classified using the Linnaean system, which organizes them into hierarchical categories based on shared characteristics and evolutionary history. This system helps scientists understand the diversity of life and evolutionary relationships.\n\n- **Kingdom:** Animalia encompasses all animals.\n- **Phylum:** Includes Chordata (vertebrates), Arthropoda (invertebrates with exoskeletons), Mollusca (soft-bodied animals), Annelida (segmented worms), Cnidaria (aquatic animals with stinging cells), and Echinodermata (marine animals with radial symmetry).\n- **Class:** Examples include Mammalia (mammals), Aves (birds), Reptilia (reptiles), Amphibia (amphibians), Pisces (fish), and Insecta (insects).\n- **Order, Family, Genus, Species:** Further subdivisions categorize animals into more specific groups, such as Carnivora (meat-eating mammals) and Primates (humans, apes, monkeys).\n\n---\n\n### Adaptations of Animals\n\nAnimals have evolved a variety of adaptations to survive in their environments. These adaptations can be structural, behavioral, or physiological.\n\n- **Structural Adaptations:** Include camouflage, body shape, and specialized appendages.\n- **Behavioral Adaptations:** Include migration, hibernation, and nocturnal activity.\n- **Physiological Adaptations:** Include temperature regulation, metabolic adjustments, and venom production.\n- **Reproductive and Social Adaptations:** Include parental care, reproductive timing, pack behavior, and communication.\n\n---\n\n### Threats to Animal Populations\n\nAnimal populations face numerous threats that can lead to declines and extinction.\n\n- **Habitat Loss and Fragmentation:** Due to deforestation, urbanization, and agricultural expansion.\n- **Climate Change:** Affects breeding patterns, migration routes, and food availability.\n- **Pollution:** Includes chemical, plastic, air, and water pollution.\n- **Overexploitation:** Through hunting, poaching, overfishing, and the pet trade.\n- **Invasive Species:** Compete with native species and introduce new diseases.\n- **Disease and Human-Wildlife Conflict:** Epidemics and conflicts over land and resources.\n\n---\n\n### Animal Communication\n\nAnimals communicate through various methods adapted to their environment and social needs.\n\n- **Vocalizations:** Used by birds, mammals, and insects for mating, territory defense, and social interaction.\n- **Body Language:** Used by dogs, primates, and fish to express emotions and intentions.\n- **Chemical Signals (Pheromones):** Used by insects and mammals for territory marking and reproductive signaling.\n- **Visual Signals:** Used by birds, cephalopods, and fireflies for courtship and camouflage.\n- **Tactile Communication:** Used by primates and elephants for social bonding and guidance.\n- **Electrical Signals and Vibrations:** Used by electric fish and spiders for navigation and communication.\n\n---\n\n### Roles of Animals in Ecosystems\n\nAnimals fulfill critical roles that sustain ecosystems and biodiversity.\n\n- **Pollinators and Seed Dispersers:** Essential for plant reproduction and diversity.\n- **Predators and Prey:** Maintain population balance and energy flow in food chains.\n- **Decomposers and Scavengers:** Aid in nutrient cycling and soil fertility.\n- **Ecosystem Engineers:** Modify environments to create habitats for other species.\n- **Herbivores and Nutrient Cyclers:** Influence vegetation structure and enrich soil.\n- **Indicators of Ecosystem Health:** Reflect environmental conditions and human impacts.\n\n---\n\n### Conclusion\n\nAnimals are integral to the health and functionality of ecosystems. Their diverse adaptations, communication methods, and ecological roles highlight the complexity and resilience of life on Earth. Understanding and addressing the threats they face is crucial for conserving biodiversity and ensuring the sustainability of ecosystems."
          },
          "metadata": {}
        }
      ]
    },
    {
      "cell_type": "code",
      "source": [
        "for state in agent.stream({\"topic\": \"Impact of AI on jobs\"}):\n",
        "    print(state)\n",
        "    if 'compile_report' in state:\n",
        "        display(Markdown(state['compile_report']['report']))"
      ],
      "metadata": {
        "colab": {
          "base_uri": "https://localhost:8080/",
          "height": 1000
        },
        "id": "lbaRJSh9RcH_",
        "outputId": "1dc10cfc-3679-4f25-82ef-8d0423ed4eea"
      },
      "id": "lbaRJSh9RcH_",
      "execution_count": 28,
      "outputs": [
        {
          "output_type": "stream",
          "name": "stdout",
          "text": [
            "{'generate_questions': {'questions': ['What are the primary industries affected by AI automation?', 'How does AI influence job creation versus job displacement?', 'What skills are becoming more valuable due to AI advancements?', 'How are companies adapting their workforce to integrate AI technologies?', 'What are the potential long-term economic impacts of AI on employment?']}}\n",
            "{'generate_answer': {'answers': [{'question': 'How are companies adapting their workforce to integrate AI technologies?', 'answer': 'Companies across various industries are increasingly integrating AI technologies to enhance efficiency, innovation, and competitiveness. To successfully adapt their workforce to this technological shift, organizations are employing several strategies:\\n\\n1. **Upskilling and Reskilling Programs:**\\n   - **Training Initiatives:** Companies are investing in training programs to equip employees with the necessary skills to work alongside AI technologies. This includes understanding AI tools, data analysis, and machine learning basics.\\n   - **Online Courses and Workshops:** Many organizations partner with educational platforms to offer courses that help employees gain new skills relevant to AI.\\n\\n2. **Creating AI-Centric Roles:**\\n   - **New Job Titles:** As AI becomes more integrated, new roles such as AI specialists, data scientists, and machine learning engineers are being created.\\n   - **Cross-Functional Teams:** Companies are forming teams that combine AI experts with domain specialists to foster innovation and problem-solving.\\n\\n3. **Cultural Shift and Change Management:**\\n   - **Promoting a Growth Mindset:** Encouraging a culture that embraces change and continuous learning helps employees adapt to new technologies.\\n   - **Transparent Communication:** Keeping employees informed about AI initiatives and their impact on the organization helps reduce resistance and anxiety.\\n\\n4. **Collaborative Human-AI Workflows:**\\n   - **Augmenting Human Capabilities:** AI is used to enhance human decision-making and productivity, allowing employees to focus on more strategic tasks.\\n   - **Human-in-the-Loop Systems:** These systems ensure that human oversight is maintained in AI processes, combining the strengths of both human intuition and machine efficiency.\\n\\n5. **Ethical and Responsible AI Use:**\\n   - **Ethics Training:** Companies are providing training on the ethical use of AI to ensure responsible deployment and avoid biases.\\n   - **AI Governance Frameworks:** Establishing guidelines and policies to govern AI use within the organization.\\n\\n6. **Investing in AI Infrastructure:**\\n   - **Technology Upgrades:** Companies are upgrading their IT infrastructure to support AI applications, including cloud computing and data storage solutions.\\n   - **Partnerships with AI Vendors:** Collaborating with AI technology providers to access cutting-edge tools and expertise.\\n\\n7. **Pilot Projects and Experimentation:**\\n   - **Small-Scale Implementations:** Testing AI technologies in specific departments or projects before a full-scale rollout allows for learning and adjustment.\\n   - **Feedback Loops:** Gathering employee feedback on AI tools to refine and improve their integration.\\n\\nBy adopting these strategies, companies are not only preparing their workforce for the AI-driven future but also positioning themselves to leverage AI for sustained growth and innovation.'}]}}\n",
            "{'generate_answer': {'answers': [{'question': 'How does AI influence job creation versus job displacement?', 'answer': \"### AI's Influence on Job Creation vs. Job Displacement\\n\\nArtificial Intelligence (AI) is a transformative technology that is reshaping industries and the workforce. Its impact on job creation and displacement is multifaceted, with both positive and negative implications.\\n\\n#### Job Creation\\n1. **New Industries and Roles**:\\n   - **AI Development and Maintenance**: The rise of AI has led to the creation of jobs in AI research, development, and maintenance. Roles such as data scientists, machine learning engineers, and AI ethicists are in high demand.\\n   - **AI-Enhanced Services**: AI is enabling new services and products, leading to job creation in sectors like healthcare, finance, and customer service.\\n   - **Startups and Innovation**: AI is a catalyst for innovation, leading to the emergence of startups and new business models that create jobs.\\n\\n2. **Increased Productivity**:\\n   - **Efficiency Gains**: AI can automate routine tasks, allowing human workers to focus on more complex and creative tasks, potentially leading to job enrichment and the creation of higher-value roles.\\n   - **Economic Growth**: By boosting productivity, AI can contribute to economic growth, which can lead to job creation across various sectors.\\n\\n3. **Skill Development**:\\n   - **Training and Education**: The demand for AI-related skills has led to the growth of educational programs and training initiatives, creating jobs in education and professional development.\\n\\n#### Job Displacement\\n1. **Automation of Routine Tasks**:\\n   - **Manufacturing and Production**: AI-driven automation can replace jobs in manufacturing and production, where repetitive tasks are prevalent.\\n   - **Administrative Roles**: AI can automate data entry, scheduling, and other administrative tasks, potentially displacing jobs in these areas.\\n\\n2. **Sector-Specific Impact**:\\n   - **Transportation**: Autonomous vehicles and AI-driven logistics can impact jobs in transportation and delivery services.\\n   - **Retail**: AI-powered checkout systems and inventory management can reduce the need for human labor in retail settings.\\n\\n3. **Skill Mismatch**:\\n   - **Reskilling Challenges**: Workers displaced by AI may face challenges in acquiring new skills required for emerging roles, leading to temporary unemployment or underemployment.\\n\\n### Balancing the Impact\\n- **Policy and Regulation**: Governments and organizations can play a crucial role in managing AI's impact on the workforce by implementing policies that encourage job creation and provide support for displaced workers.\\n- **Reskilling and Upskilling**: Investing in education and training programs can help workers transition to new roles and industries.\\n- **Ethical AI Development**: Ensuring that AI is developed and deployed ethically can help mitigate negative impacts on employment.\\n\\n### Conclusion\\nAI's influence on job creation versus job displacement is complex and context-dependent. While AI has the potential to create new opportunities and drive economic growth, it also poses challenges that require proactive management to ensure a balanced and inclusive workforce transformation.\"}]}}\n",
            "{'generate_answer': {'answers': [{'question': 'What are the primary industries affected by AI automation?', 'answer': 'AI automation is revolutionizing various sectors by enhancing efficiency, reducing costs, and enabling new capabilities. Here are some of the primary industries significantly impacted by AI automation:\\n\\n1. **Manufacturing:**\\n   - **Robotics and Automation:** AI-driven robots are used for assembly lines, quality control, and inventory management.\\n   - **Predictive Maintenance:** AI systems predict equipment failures, reducing downtime and maintenance costs.\\n\\n2. **Healthcare:**\\n   - **Diagnostics and Imaging:** AI algorithms assist in interpreting medical images and diagnosing diseases.\\n   - **Personalized Medicine:** AI helps tailor treatments based on individual patient data.\\n   - **Administrative Tasks:** Automation of scheduling, billing, and patient record management.\\n\\n3. **Finance:**\\n   - **Algorithmic Trading:** AI systems execute trades at high speeds and analyze market trends.\\n   - **Fraud Detection:** AI identifies unusual patterns and potential fraudulent activities.\\n   - **Customer Service:** Chatbots and virtual assistants handle customer inquiries and support.\\n\\n4. **Retail:**\\n   - **Inventory Management:** AI optimizes stock levels and supply chain logistics.\\n   - **Personalized Marketing:** AI analyzes consumer behavior to tailor marketing strategies.\\n   - **Customer Experience:** Automated checkout systems and virtual shopping assistants.\\n\\n5. **Transportation and Logistics:**\\n   - **Autonomous Vehicles:** AI powers self-driving cars, trucks, and drones.\\n   - **Route Optimization:** AI systems improve delivery efficiency and reduce fuel consumption.\\n   - **Fleet Management:** Automation in tracking and managing vehicle fleets.\\n\\n6. **Agriculture:**\\n   - **Precision Farming:** AI analyzes data to optimize planting, watering, and harvesting.\\n   - **Crop Monitoring:** Drones and sensors powered by AI monitor crop health and soil conditions.\\n\\n7. **Energy:**\\n   - **Smart Grids:** AI optimizes energy distribution and consumption.\\n   - **Predictive Maintenance:** AI forecasts equipment failures in power plants and grids.\\n\\n8. **Telecommunications:**\\n   - **Network Optimization:** AI enhances network performance and reliability.\\n   - **Customer Support:** Automated systems handle service inquiries and troubleshooting.\\n\\n9. **Education:**\\n   - **Personalized Learning:** AI tailors educational content to individual learning styles.\\n   - **Administrative Automation:** Streamlining of enrollment, grading, and scheduling processes.\\n\\n10. **Real Estate:**\\n    - **Property Management:** AI automates tenant screening, lease management, and maintenance requests.\\n    - **Market Analysis:** AI tools provide insights into property values and market trends.\\n\\nThese industries are just a few examples of how AI automation is reshaping the landscape of work and business operations, driving innovation and creating new opportunities while also posing challenges related to workforce adaptation and ethical considerations.'}]}}\n",
            "{'generate_answer': {'answers': [{'question': 'What skills are becoming more valuable due to AI advancements?', 'answer': 'As artificial intelligence (AI) continues to evolve and integrate into various sectors, certain skills are becoming increasingly valuable. These skills not only complement AI technologies but also help individuals and organizations leverage AI effectively. Here are some of the key skills gaining prominence:\\n\\n1. **Data Literacy:**\\n   - Understanding data collection, analysis, and interpretation is crucial. As AI relies heavily on data, being able to work with data sets, understand data trends, and make data-driven decisions is essential.\\n\\n2. **Machine Learning and AI Development:**\\n   - Skills in developing and implementing machine learning models and AI algorithms are in high demand. This includes knowledge of programming languages like Python, R, and frameworks like TensorFlow and PyTorch.\\n\\n3. **Critical Thinking and Problem Solving:**\\n   - AI can process data and identify patterns, but human oversight is needed to interpret results and make strategic decisions. Critical thinking helps in evaluating AI outputs and solving complex problems.\\n\\n4. **Ethical and Responsible AI Use:**\\n   - Understanding the ethical implications of AI, including bias, privacy, and accountability, is crucial. Skills in developing and implementing ethical AI practices are becoming increasingly important.\\n\\n5. **Interdisciplinary Knowledge:**\\n   - Combining knowledge from different fields, such as computer science, psychology, and business, can lead to innovative AI applications. This interdisciplinary approach is valuable in creating AI solutions that are both effective and user-friendly.\\n\\n6. **Communication and Collaboration:**\\n   - As AI projects often involve cross-functional teams, strong communication and collaboration skills are essential. Being able to explain complex AI concepts to non-experts and work effectively in diverse teams is crucial.\\n\\n7. **Adaptability and Continuous Learning:**\\n   - The AI landscape is rapidly changing, requiring professionals to continuously update their skills and knowledge. Being adaptable and open to learning new technologies and methodologies is vital.\\n\\n8. **Cybersecurity Skills:**\\n   - As AI systems become more prevalent, the need for robust cybersecurity measures increases. Skills in protecting AI systems from cyber threats and ensuring data integrity are becoming more valuable.\\n\\n9. **User Experience (UX) Design:**\\n   - Designing AI systems that are intuitive and user-friendly is important. Skills in UX design help ensure that AI applications meet user needs and provide a positive experience.\\n\\n10. **Project Management:**\\n    - Managing AI projects requires a unique set of skills, including understanding AI capabilities, setting realistic goals, and ensuring timely delivery. Project management skills are crucial for successful AI implementation.\\n\\nIn summary, as AI continues to transform industries, a combination of technical, analytical, ethical, and interpersonal skills will be essential for individuals looking to thrive in an AI-driven world.'}]}}\n",
            "{'generate_answer': {'answers': [{'question': 'What are the potential long-term economic impacts of AI on employment?', 'answer': \"The integration of artificial intelligence (AI) into various sectors is poised to have profound long-term economic impacts on employment. While AI offers numerous benefits, it also presents challenges that need to be addressed to ensure a balanced and equitable future. Here are some potential long-term impacts:\\n\\n### 1. **Job Displacement and Transformation**\\n- **Automation of Routine Tasks:** AI can automate repetitive and routine tasks, leading to job displacement in sectors like manufacturing, retail, and customer service.\\n- **Transformation of Job Roles:** Many jobs will evolve rather than disappear. Employees will need to adapt to new roles that require managing and working alongside AI technologies.\\n\\n### 2. **Creation of New Job Opportunities**\\n- **Emergence of New Industries:** AI can lead to the creation of entirely new industries and job categories, such as AI ethics, data analysis, and AI system maintenance.\\n- **Increased Demand for Tech Skills:** There will be a growing demand for jobs in AI development, programming, and cybersecurity.\\n\\n### 3. **Impact on Wages and Income Inequality**\\n- **Wage Polarization:** High-skilled workers may see wage increases due to the demand for specialized skills, while low-skilled workers may face wage stagnation or decline.\\n- **Income Inequality:** The economic benefits of AI could be unevenly distributed, potentially exacerbating income inequality if not managed properly.\\n\\n### 4. **Changes in Workforce Dynamics**\\n- **Gig Economy Expansion:** AI can facilitate the growth of the gig economy, offering flexible work opportunities but also raising concerns about job security and benefits.\\n- **Remote Work and Globalization:** AI tools can support remote work, enabling companies to hire talent globally, which may impact local job markets.\\n\\n### 5. **Need for Reskilling and Education**\\n- **Lifelong Learning:** Continuous education and reskilling will become essential as workers need to adapt to rapidly changing job requirements.\\n- **Educational Reforms:** There will be a need for educational systems to focus more on digital literacy, critical thinking, and adaptability.\\n\\n### 6. **Policy and Regulatory Considerations**\\n- **Labor Market Policies:** Governments may need to implement policies to support workers affected by AI-driven changes, such as unemployment benefits and retraining programs.\\n- **Ethical and Legal Frameworks:** Establishing ethical guidelines and legal frameworks for AI use in the workplace will be crucial to protect workers' rights.\\n\\n### Conclusion\\nThe long-term economic impacts of AI on employment are multifaceted, with both opportunities and challenges. While AI can drive efficiency and innovation, it also necessitates proactive measures to ensure that the workforce is prepared for the changes ahead. Balancing technological advancement with social equity will be key to harnessing AI's potential for a prosperous future.\"}]}}\n",
            "{'compile_report': {'report': \"## Impact of AI on Jobs: A Comprehensive Analysis\\n\\n### Introduction\\nArtificial Intelligence (AI) is a transformative force reshaping industries and the workforce. Its integration into various sectors is driving efficiency, innovation, and economic growth, while also posing challenges related to job displacement and workforce adaptation. This report delves into the primary industries affected by AI, its influence on job creation versus displacement, the skills becoming more valuable, how companies are adapting, and the potential long-term economic impacts on employment.\\n\\n### Industries Affected by AI Automation\\nAI automation is revolutionizing numerous sectors by enhancing efficiency, reducing costs, and enabling new capabilities. Key industries impacted include:\\n\\n1. **Manufacturing**: AI-driven robotics and predictive maintenance are streamlining production processes.\\n2. **Healthcare**: AI assists in diagnostics, personalized medicine, and administrative tasks.\\n3. **Finance**: Algorithmic trading, fraud detection, and AI-powered customer service are transforming financial services.\\n4. **Retail**: AI optimizes inventory management, personalized marketing, and customer experience.\\n5. **Transportation and Logistics**: Autonomous vehicles and route optimization are enhancing logistics.\\n6. **Agriculture**: Precision farming and crop monitoring are improving agricultural efficiency.\\n7. **Energy**: AI optimizes smart grids and predictive maintenance in energy sectors.\\n8. **Telecommunications**: Network optimization and automated customer support are key AI applications.\\n9. **Education**: Personalized learning and administrative automation are reshaping education.\\n10. **Real Estate**: AI is transforming property management and market analysis.\\n\\n### AI's Influence on Job Creation vs. Job Displacement\\nAI's impact on employment is multifaceted, with both positive and negative implications:\\n\\n- **Job Creation**: AI is creating new industries and roles, increasing productivity, and driving economic growth. Skills development and educational programs are expanding to meet the demand for AI-related expertise.\\n- **Job Displacement**: Automation of routine tasks and sector-specific impacts are leading to job displacement, particularly in manufacturing, transportation, and retail. Skill mismatches pose challenges for displaced workers.\\n\\n### Skills Becoming More Valuable\\nAs AI evolves, certain skills are gaining prominence:\\n\\n- **Data Literacy**: Understanding data collection and analysis is crucial.\\n- **Machine Learning and AI Development**: Skills in AI algorithms and programming are in high demand.\\n- **Critical Thinking and Problem Solving**: Human oversight is needed to interpret AI outputs.\\n- **Ethical AI Use**: Understanding AI's ethical implications is essential.\\n- **Interdisciplinary Knowledge**: Combining knowledge from various fields enhances AI applications.\\n- **Communication and Collaboration**: Explaining AI concepts and working in diverse teams is vital.\\n- **Adaptability and Continuous Learning**: Staying updated with AI advancements is crucial.\\n- **Cybersecurity Skills**: Protecting AI systems from threats is increasingly important.\\n- **User Experience Design**: Ensuring AI applications are user-friendly is key.\\n- **Project Management**: Managing AI projects requires unique skills.\\n\\n### How Companies Are Adapting\\nOrganizations are employing several strategies to integrate AI technologies:\\n\\n- **Upskilling and Reskilling Programs**: Training initiatives and online courses are equipping employees with AI skills.\\n- **Creating AI-Centric Roles**: New job titles and cross-functional teams are emerging.\\n- **Cultural Shift and Change Management**: Promoting a growth mindset and transparent communication are essential.\\n- **Collaborative Human-AI Workflows**: AI augments human capabilities, enhancing decision-making.\\n- **Ethical and Responsible AI Use**: Ethics training and AI governance frameworks are being established.\\n- **Investing in AI Infrastructure**: Upgrading technology and partnering with AI vendors are common practices.\\n- **Pilot Projects and Experimentation**: Testing AI technologies in specific areas allows for learning and adjustment.\\n\\n### Potential Long-Term Economic Impacts\\nAI's integration into various sectors has profound long-term economic impacts on employment:\\n\\n- **Job Displacement and Transformation**: Automation leads to job displacement, but many roles will evolve.\\n- **Creation of New Job Opportunities**: New industries and increased demand for tech skills will emerge.\\n- **Impact on Wages and Income Inequality**: Wage polarization and income inequality may increase.\\n- **Changes in Workforce Dynamics**: The gig economy and remote work will expand.\\n- **Need for Reskilling and Education**: Lifelong learning and educational reforms are essential.\\n- **Policy and Regulatory Considerations**: Labor market policies and ethical frameworks are crucial.\\n\\n### Conclusion\\nAI's impact on jobs is complex and context-dependent. While it offers opportunities for innovation and economic growth, it also presents challenges that require proactive management. Balancing technological advancement with social equity will be key to harnessing AI's potential for a prosperous future.\"}}\n"
          ]
        },
        {
          "output_type": "display_data",
          "data": {
            "text/plain": [
              "<IPython.core.display.Markdown object>"
            ],
            "text/markdown": "## Impact of AI on Jobs: A Comprehensive Analysis\n\n### Introduction\nArtificial Intelligence (AI) is a transformative force reshaping industries and the workforce. Its integration into various sectors is driving efficiency, innovation, and economic growth, while also posing challenges related to job displacement and workforce adaptation. This report delves into the primary industries affected by AI, its influence on job creation versus displacement, the skills becoming more valuable, how companies are adapting, and the potential long-term economic impacts on employment.\n\n### Industries Affected by AI Automation\nAI automation is revolutionizing numerous sectors by enhancing efficiency, reducing costs, and enabling new capabilities. Key industries impacted include:\n\n1. **Manufacturing**: AI-driven robotics and predictive maintenance are streamlining production processes.\n2. **Healthcare**: AI assists in diagnostics, personalized medicine, and administrative tasks.\n3. **Finance**: Algorithmic trading, fraud detection, and AI-powered customer service are transforming financial services.\n4. **Retail**: AI optimizes inventory management, personalized marketing, and customer experience.\n5. **Transportation and Logistics**: Autonomous vehicles and route optimization are enhancing logistics.\n6. **Agriculture**: Precision farming and crop monitoring are improving agricultural efficiency.\n7. **Energy**: AI optimizes smart grids and predictive maintenance in energy sectors.\n8. **Telecommunications**: Network optimization and automated customer support are key AI applications.\n9. **Education**: Personalized learning and administrative automation are reshaping education.\n10. **Real Estate**: AI is transforming property management and market analysis.\n\n### AI's Influence on Job Creation vs. Job Displacement\nAI's impact on employment is multifaceted, with both positive and negative implications:\n\n- **Job Creation**: AI is creating new industries and roles, increasing productivity, and driving economic growth. Skills development and educational programs are expanding to meet the demand for AI-related expertise.\n- **Job Displacement**: Automation of routine tasks and sector-specific impacts are leading to job displacement, particularly in manufacturing, transportation, and retail. Skill mismatches pose challenges for displaced workers.\n\n### Skills Becoming More Valuable\nAs AI evolves, certain skills are gaining prominence:\n\n- **Data Literacy**: Understanding data collection and analysis is crucial.\n- **Machine Learning and AI Development**: Skills in AI algorithms and programming are in high demand.\n- **Critical Thinking and Problem Solving**: Human oversight is needed to interpret AI outputs.\n- **Ethical AI Use**: Understanding AI's ethical implications is essential.\n- **Interdisciplinary Knowledge**: Combining knowledge from various fields enhances AI applications.\n- **Communication and Collaboration**: Explaining AI concepts and working in diverse teams is vital.\n- **Adaptability and Continuous Learning**: Staying updated with AI advancements is crucial.\n- **Cybersecurity Skills**: Protecting AI systems from threats is increasingly important.\n- **User Experience Design**: Ensuring AI applications are user-friendly is key.\n- **Project Management**: Managing AI projects requires unique skills.\n\n### How Companies Are Adapting\nOrganizations are employing several strategies to integrate AI technologies:\n\n- **Upskilling and Reskilling Programs**: Training initiatives and online courses are equipping employees with AI skills.\n- **Creating AI-Centric Roles**: New job titles and cross-functional teams are emerging.\n- **Cultural Shift and Change Management**: Promoting a growth mindset and transparent communication are essential.\n- **Collaborative Human-AI Workflows**: AI augments human capabilities, enhancing decision-making.\n- **Ethical and Responsible AI Use**: Ethics training and AI governance frameworks are being established.\n- **Investing in AI Infrastructure**: Upgrading technology and partnering with AI vendors are common practices.\n- **Pilot Projects and Experimentation**: Testing AI technologies in specific areas allows for learning and adjustment.\n\n### Potential Long-Term Economic Impacts\nAI's integration into various sectors has profound long-term economic impacts on employment:\n\n- **Job Displacement and Transformation**: Automation leads to job displacement, but many roles will evolve.\n- **Creation of New Job Opportunities**: New industries and increased demand for tech skills will emerge.\n- **Impact on Wages and Income Inequality**: Wage polarization and income inequality may increase.\n- **Changes in Workforce Dynamics**: The gig economy and remote work will expand.\n- **Need for Reskilling and Education**: Lifelong learning and educational reforms are essential.\n- **Policy and Regulatory Considerations**: Labor market policies and ethical frameworks are crucial.\n\n### Conclusion\nAI's impact on jobs is complex and context-dependent. While it offers opportunities for innovation and economic growth, it also presents challenges that require proactive management. Balancing technological advancement with social equity will be key to harnessing AI's potential for a prosperous future."
          },
          "metadata": {}
        }
      ]
    },
    {
      "cell_type": "code",
      "source": [],
      "metadata": {
        "id": "ddra7VuHbiwn"
      },
      "id": "ddra7VuHbiwn",
      "execution_count": null,
      "outputs": []
    }
  ],
  "metadata": {
    "kernelspec": {
      "display_name": "Python 3 (ipykernel)",
      "language": "python",
      "name": "python3"
    },
    "language_info": {
      "codemirror_mode": {
        "name": "ipython",
        "version": 3
      },
      "file_extension": ".py",
      "mimetype": "text/x-python",
      "name": "python",
      "nbconvert_exporter": "python",
      "pygments_lexer": "ipython3",
      "version": "3.12.3"
    },
    "colab": {
      "provenance": []
    }
  },
  "nbformat": 4,
  "nbformat_minor": 5
}