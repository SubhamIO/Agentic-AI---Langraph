{
  "cells": [
    {
      "cell_type": "markdown",
      "id": "50fa7f8a-8764-4bb9-9968-48b681a0e4f1",
      "metadata": {
        "id": "50fa7f8a-8764-4bb9-9968-48b681a0e4f1"
      },
      "source": [
        "# Build Simple Tool-Use AI Agents in LangGraph\n",
        "\n",
        "Here we will extend the capability of the previously built Augmented LLM with feedback from the tool execution back to the LLM node to process it and generate human-like answers to user queries.\n",
        "\n",
        "### Tool-based Agentic AI System\n",
        "\n",
        "- Dynamic Decision-Making: LLM determines whether to directly respond or invoke a tool based on the query context.\n",
        "- Seamless Tool Integration: External tools are integrated to handle specific tasks, such as real-time web queries or computations.\n",
        "- Workflow Flexibility: Conditional routing ensures efficient task delegation:\n",
        "  - Tool Required: Routes to tool execution.\n",
        "  - No Tool Required: Ends the workflow with an LLM response.\n",
        "- Feedback Loop: Incorporates a feedback loop to improve responses by combining LLM insights and tool outputs to further improve responses or call more tools if needed\n",
        "\n",
        "![](https://i.imgur.com/DHxiOLl.png)\n"
      ]
    },
    {
      "cell_type": "code",
      "execution_count": null,
      "id": "ff151ef1-fa30-482a-94da-8f49964afbc3",
      "metadata": {
        "id": "ff151ef1-fa30-482a-94da-8f49964afbc3"
      },
      "outputs": [],
      "source": [
        "!pip install langchain==0.3.14\n",
        "!pip install langchain-openai==0.3.0\n",
        "!pip install langchain-community==0.3.14\n",
        "!pip install langgraph==0.2.64"
      ]
    },
    {
      "cell_type": "markdown",
      "source": [
        "## Enter Open AI API Key"
      ],
      "metadata": {
        "id": "H9c37cLnSrbg"
      },
      "id": "H9c37cLnSrbg"
    },
    {
      "cell_type": "code",
      "source": [
        "from getpass import getpass\n",
        "\n",
        "OPENAI_KEY = getpass('Enter Open AI API Key: ')"
      ],
      "metadata": {
        "id": "cv3JzCEx_PAd",
        "colab": {
          "base_uri": "https://localhost:8080/"
        },
        "outputId": "e9fc3c4f-ce4e-47cd-ba27-6b890da5af92"
      },
      "execution_count": 8,
      "outputs": [
        {
          "name": "stdout",
          "output_type": "stream",
          "text": [
            "Enter Open AI API Key: ··········\n"
          ]
        }
      ],
      "id": "cv3JzCEx_PAd"
    },
    {
      "cell_type": "markdown",
      "source": [
        "## Enter Tavily Search API Key\n",
        "\n",
        "Get a free API key from [here](https://tavily.com/#api)"
      ],
      "metadata": {
        "id": "ucWRRI3QztL2"
      },
      "id": "ucWRRI3QztL2"
    },
    {
      "cell_type": "code",
      "source": [
        "TAVILY_API_KEY = getpass('Enter Tavily Search API Key: ')"
      ],
      "metadata": {
        "id": "mK-1WLzOrJdb",
        "colab": {
          "base_uri": "https://localhost:8080/"
        },
        "outputId": "e62f3ede-fde8-4793-9c5c-4175b636504c"
      },
      "execution_count": 9,
      "outputs": [
        {
          "name": "stdout",
          "output_type": "stream",
          "text": [
            "Enter Tavily Search API Key: ··········\n"
          ]
        }
      ],
      "id": "mK-1WLzOrJdb"
    },
    {
      "cell_type": "markdown",
      "source": [
        "## Setup Environment Variables"
      ],
      "metadata": {
        "id": "1T0s0um5Svfa"
      },
      "id": "1T0s0um5Svfa"
    },
    {
      "cell_type": "code",
      "source": [
        "import os\n",
        "\n",
        "os.environ['OPENAI_API_KEY'] = OPENAI_KEY\n",
        "os.environ['TAVILY_API_KEY'] = TAVILY_API_KEY"
      ],
      "metadata": {
        "id": "x1YSuHNF_lbh"
      },
      "execution_count": 10,
      "outputs": [],
      "id": "x1YSuHNF_lbh"
    },
    {
      "cell_type": "markdown",
      "id": "5999f8d0-989f-4638-8ade-5c257cbadfe8",
      "metadata": {
        "id": "5999f8d0-989f-4638-8ade-5c257cbadfe8"
      },
      "source": [
        "## State\n",
        "\n",
        "First, define the [State](https://langchain-ai.github.io/langgraph/concepts/low_level/#state) of the graph.\n",
        "\n",
        "The State schema serves as the input schema for all Nodes and Edges in the graph.\n",
        "\n",
        "Let's use the `TypedDict` class from python's `typing` module as our schema, which provides type hints for the keys."
      ]
    },
    {
      "cell_type": "code",
      "execution_count": 11,
      "id": "6a90709b-ddfa-4671-8acc-c59969a29991",
      "metadata": {
        "id": "6a90709b-ddfa-4671-8acc-c59969a29991"
      },
      "outputs": [],
      "source": [
        "from typing import Annotated\n",
        "from typing_extensions import TypedDict\n",
        "from langgraph.graph.message import add_messages\n",
        "\n",
        "class State(TypedDict):\n",
        "    messages: Annotated[list, add_messages]"
      ]
    },
    {
      "cell_type": "markdown",
      "metadata": {
        "id": "mMwPwbV-mNQm"
      },
      "source": [
        "## Augment the LLM with tools\n",
        "\n",
        "Here we define our custom search tool and then bind it to the LLM to augment the LLM"
      ],
      "id": "mMwPwbV-mNQm"
    },
    {
      "cell_type": "code",
      "source": [
        "from langchain_openai import ChatOpenAI\n",
        "from langchain_community.utilities.tavily_search import TavilySearchAPIWrapper\n",
        "from langchain_core.tools import tool\n",
        "\n",
        "llm = ChatOpenAI(model=\"gpt-4o\", temperature=0)\n",
        "\n",
        "tavily_search = TavilySearchAPIWrapper()\n",
        "@tool\n",
        "def search_web(query: str, num_results=5):\n",
        "    \"\"\"Search the web for a query. Userful for general information or general news\"\"\"\n",
        "    results = tavily_search.raw_results(query=query,\n",
        "                                        max_results=num_results,\n",
        "                                        search_depth='advanced',\n",
        "                                        include_raw_content=True)\n",
        "    return results\n",
        "\n",
        "tools = [search_web]\n",
        "llm_with_tools = llm.bind_tools(tools=tools)"
      ],
      "metadata": {
        "id": "2lYXBn1ImzlB"
      },
      "id": "2lYXBn1ImzlB",
      "execution_count": 12,
      "outputs": []
    },
    {
      "cell_type": "code",
      "source": [
        "llm_with_tools.invoke('what is the latest news on nvidia')"
      ],
      "metadata": {
        "colab": {
          "base_uri": "https://localhost:8080/"
        },
        "id": "wjOYMS0rn1CF",
        "outputId": "672b4674-d154-4331-aad0-100075ccd7a9"
      },
      "id": "wjOYMS0rn1CF",
      "execution_count": 13,
      "outputs": [
        {
          "output_type": "execute_result",
          "data": {
            "text/plain": [
              "AIMessage(content='', additional_kwargs={'tool_calls': [{'id': 'call_a08lTSpxSyzMDNBHjJ11PVNd', 'function': {'arguments': '{\"query\":\"latest news on Nvidia\",\"num_results\":5}', 'name': 'search_web'}, 'type': 'function'}], 'refusal': None}, response_metadata={'token_usage': {'completion_tokens': 23, 'prompt_tokens': 73, 'total_tokens': 96, 'completion_tokens_details': {'accepted_prediction_tokens': 0, 'audio_tokens': 0, 'reasoning_tokens': 0, 'rejected_prediction_tokens': 0}, 'prompt_tokens_details': {'audio_tokens': 0, 'cached_tokens': 0}}, 'model_name': 'gpt-4o-2024-08-06', 'system_fingerprint': 'fp_50cad350e4', 'finish_reason': 'tool_calls', 'logprobs': None}, id='run-f8f3a49a-2135-4cc8-8155-dd37969a0fa6-0', tool_calls=[{'name': 'search_web', 'args': {'query': 'latest news on Nvidia', 'num_results': 5}, 'id': 'call_a08lTSpxSyzMDNBHjJ11PVNd', 'type': 'tool_call'}], usage_metadata={'input_tokens': 73, 'output_tokens': 23, 'total_tokens': 96, 'input_token_details': {'audio': 0, 'cache_read': 0}, 'output_token_details': {'audio': 0, 'reasoning': 0}})"
            ]
          },
          "metadata": {},
          "execution_count": 13
        }
      ]
    },
    {
      "cell_type": "markdown",
      "source": [
        "## Create the Graph with the Tool-Use Agentic System\n",
        "\n",
        "![](https://i.imgur.com/DHxiOLl.png)"
      ],
      "metadata": {
        "id": "NPFD28OWjGQM"
      },
      "id": "NPFD28OWjGQM"
    },
    {
      "cell_type": "code",
      "source": [
        "from langgraph.graph import StateGraph, START, END\n",
        "from langgraph.prebuilt import ToolNode, tools_condition\n",
        "\n",
        "# Augmented LLM with Tools Node function\n",
        "def tool_calling_llm(state: State) -> State:\n",
        "    current_state = state[\"messages\"]\n",
        "    return {\"messages\": [llm_with_tools.invoke(current_state)]}\n",
        "\n",
        "# Build the graph\n",
        "builder = StateGraph(State)\n",
        "builder.add_node(\"tool_calling_llm\", tool_calling_llm)\n",
        "builder.add_node(\"tools\", ToolNode(tools=tools))\n",
        "builder.add_edge(START, \"tool_calling_llm\")\n",
        "\n",
        "# Conditional Edge\n",
        "builder.add_conditional_edges(\n",
        "    \"tool_calling_llm\",\n",
        "    # If the latest message (result) from LLM is a tool call -> tools_condition routes to tools\n",
        "    # If the latest message (result) from LLM is a not a tool call -> tools_condition routes to END\n",
        "    tools_condition,\n",
        "    [\"tools\", END]\n",
        ")\n",
        "builder.add_edge(\"tools\", \"tool_calling_llm\") # this is the key feedback loop\n",
        "builder.add_edge(\"tools\", END)\n",
        "agent = builder.compile()"
      ],
      "metadata": {
        "id": "IJvHs_Py3uCV"
      },
      "id": "IJvHs_Py3uCV",
      "execution_count": 14,
      "outputs": []
    },
    {
      "cell_type": "code",
      "source": [
        "agent"
      ],
      "metadata": {
        "colab": {
          "base_uri": "https://localhost:8080/",
          "height": 350
        },
        "id": "JR2L3D5Y3uH9",
        "outputId": "1b606d4e-4216-4cdb-ba2a-4581df847527"
      },
      "id": "JR2L3D5Y3uH9",
      "execution_count": 15,
      "outputs": [
        {
          "output_type": "execute_result",
          "data": {
            "text/plain": [
              "<langgraph.graph.state.CompiledStateGraph object at 0x795b8331a440>"
            ],
            "image/png": "[encoded data removed]"
          },
          "metadata": {},
          "execution_count": 15
        }
      ]
    },
    {
      "cell_type": "code",
      "execution_count": 16,
      "id": "db16ab8d-b817-4f3a-befc-a02b579c4fca",
      "metadata": {
        "id": "db16ab8d-b817-4f3a-befc-a02b579c4fca",
        "colab": {
          "base_uri": "https://localhost:8080/"
        },
        "outputId": "91524848-d16b-439b-953d-5396a196d083"
      },
      "outputs": [
        {
          "output_type": "stream",
          "name": "stdout",
          "text": [
            "================================\u001b[1m Human Message \u001b[0m=================================\n",
            "\n",
            "Explain AI in 2 bullets\n",
            "==================================\u001b[1m Ai Message \u001b[0m==================================\n",
            "\n",
            "- **Artificial Intelligence (AI)** refers to the simulation of human intelligence processes by machines, especially computer systems. These processes include learning (the acquisition of information and rules for using the information), reasoning (using rules to reach approximate or definite conclusions), and self-correction.\n",
            "\n",
            "- **Applications of AI** include expert systems, natural language processing, speech recognition, and machine vision. AI technologies are used to automate tasks, enhance decision-making, and improve efficiency across various industries such as healthcare, finance, and transportation.\n"
          ]
        }
      ],
      "source": [
        "user_input = \"Explain AI in 2 bullets\"\n",
        "for event in agent.stream({\"messages\": user_input},\n",
        "                          stream_mode='values'):\n",
        "    event['messages'][-1].pretty_print()"
      ]
    },
    {
      "cell_type": "code",
      "source": [
        "user_input = \"What is the latest news on OpenAI product releases\"\n",
        "for event in agent.stream({\"messages\": user_input},\n",
        "                          stream_mode='values'):\n",
        "    event['messages'][-1].pretty_print()"
      ],
      "metadata": {
        "colab": {
          "base_uri": "https://localhost:8080/"
        },
        "id": "h-zYQrB6383i",
        "outputId": "29828380-44a6-48ea-824a-87fde936bf18"
      },
      "id": "h-zYQrB6383i",
      "execution_count": 17,
      "outputs": [
        {
          "output_type": "stream",
          "name": "stdout",
          "text": [
            "================================\u001b[1m Human Message \u001b[0m=================================\n",
            "\n",
            "What is the latest news on OpenAI product releases\n",
            "==================================\u001b[1m Ai Message \u001b[0m==================================\n",
            "Tool Calls:\n",
            "  search_web (call_Es65OE0T81Hz9Vtnt5gDnx5O)\n",
            " Call ID: call_Es65OE0T81Hz9Vtnt5gDnx5O\n",
            "  Args:\n",
            "    query: OpenAI latest product releases\n",
            "    num_results: 5\n",
            "=================================\u001b[1m Tool Message \u001b[0m=================================\n",
            "Name: search_web\n",
            "\n",
            "{\"query\": \"OpenAI latest product releases\", \"follow_up_questions\": null, \"answer\": null, \"images\": [], \"results\": [{\"title\": \"OpenAI teases 12 days of mystery product launches starting tomorrow\", \"url\": \"https://arstechnica.com/ai/2024/12/openai-teases-12-days-of-mystery-product-launches-starting-tomorrow/\", \"content\": \"OpenAI teases 12 days of mystery product launches starting tomorrow - Ars Technica OpenAI's \\\"12 days of shipmas\\\" will reveal new AI releases and demos for two weeks. On Wednesday, OpenAI CEO Sam Altman announced a \\\"12 days of OpenAI\\\" period starting December 5, which will unveil new AI features and products for 12 consecutive weekdays. Altman did not specify the exact features or products OpenAI plans to unveil, but a report from The Verge about this \\\"12 days of shipmas\\\" event suggests the products may include a public release of the company's text-to-video model Sora and a new \\\"reasoning\\\" AI model similar to o1-preview. Benj Edwards is Ars Technica's Senior AI Reporter and founder of the site's dedicated AI beat in 2022.\", \"score\": 0.80070794, \"raw_content\": \"OpenAI teases 12 days of mystery product launches starting tomorrow - Ars Technica\\nSkip to content\\nArs Technica home\\nSections\\nForum\\nSubscribe\\n\\n\\nAI\\nBiz & IT\\nCars\\nCulture\\nGaming\\nHealth\\nPolicy\\nScience\\nSecurity\\nSpace\\n\\nTech\\n\\n\\nFeature\\n\\nReviews\\n\\nStore\\n\\n\\nAI\\n\\nBiz & IT\\nCars\\nCulture\\nGaming\\nHealth\\nPolicy\\nScience\\nSecurity\\nSpace\\nTech\\n\\nForum\\nSubscribe\\nStory text\\nSize  Width *  Links \\n* Subscribers only\\nLearn more\\nPin to story\\nTheme\\n\\nLight\\nDark\\nSystem\\n\\nSearch dialog...\\nSign In\\nSign in dialog...\\nSign in\\nAnd a partridge in a GPT\\nOpenAI teases 12 days of mystery product launches starting tomorrow\\nOpenAI's \\\"12 days of shipmas\\\" will reveal new AI releases and demos for two weeks.\\nBenj Edwards – Dec 4, 2024 8:15 PM | 38\\n \\nCredit: ThomasVogel via Getty Images\\nCredit: ThomasVogel via Getty Images\\nText settings\\nStory text\\nSize  Width *  Links \\n* Subscribers only\\nLearn more\\nMinimize to nav\\nOn Wednesday, OpenAI CEO Sam Altman announced a \\\"12 days of OpenAI\\\" period starting December 5, which will unveil new AI features and products for 12 consecutive weekdays.\\nAltman did not specify the exact features or products OpenAI plans to unveil, but a report from The Verge about this \\\"12 days of shipmas\\\" event suggests the products may include a public release of the company's text-to-video model Sora and a new \\\"reasoning\\\" AI model similar to o1-preview. Perhaps we may even see DALL-E 4 or a new image generator based on GPT-4o's multimodal capabilities.\\nAltman's full tweet included hints at releases both big and small:\\n\\n🎄🎅starting tomorrow at 10 am pacific, we are doing 12 days of openai.\\neach weekday, we will have a livestream with a launch or demo, some big ones and some stocking stuffers.\\nwe’ve got some great stuff to share, hope you enjoy! merry christmas.\\n\\nIf we're reading the calendar correctly, 12 weekdays means a new announcement every day until December 20.\\nPrior to Altman's tweet, OpenAI employees had earlier dropped hints on X about the upcoming releases. Sora lead Bill Peebles replied to a post from a colleague named \\\"roon\\\" about OpenAI being \\\"unbelievably back\\\" with a one-word confirmation: \\\"Correct.\\\"\\nA full release of the \\\"o1\\\" reasoning model has been highly anticipated among the AI community, and it's seen by many industry pundits as a critical move to potentially place OpenAI ahead of competitors like Google and Anthropic.\\nOn the other hand, the potential upcoming launch of Sora comes with some controversy. Artists who tested the model through an invite-only research preview recently leaked it in protest, claiming OpenAI used them for \\\"unpaid R&D and PR.\\\" Former OpenAI CTO Mira Murati told The Wall Street Journal in March that Sora would become available by the end of 2024.\\nGoogle has positioned itself to compete with Sora by releasing its own video-generation model called Veo in a private preview. The company now offers Veo to businesses through its Vertex AI platform. We first covered Veo in May, three months after OpenAI announced Sora.\\n\\nBenj Edwards Senior AI Reporter\\nBenj Edwards Senior AI Reporter\\nBenj Edwards is Ars Technica's Senior AI Reporter and founder of the site's dedicated AI beat in 2022. He's also a tech historian with almost two decades of experience. In his free time, he writes and records music, collects vintage computers, and enjoys nature. He lives in Raleigh, NC.\\n38 Comments\\nComments\\nForum view\\n Loading comments...\\nPrev story\\nNext story\\nMost Read\\n\\n\\n\\n\\nChina hits US with ban on critical minerals used in tech manufacturing\\n\\n\\n\\n\\nSplash pads really are fountains of fecal material; CDC reports 10K illnesses\\n\\n\\n\\n\\nCertain names make ChatGPT grind to a halt, and we know why\\n\\n\\n\\n\\nCompany claims 1,000 percent price hike drove it from VMware to open source rival\\n\\n\\n\\n\\nHowStuffWorks founder Marshall Brain sent final email before sudden death\\n\\n\\n\\nCustomize\\nArs Technica has been separating the signal from the noise for over 25 years. With our unique combination of technical savvy and wide-ranging interest in the technological arts and sciences, Ars is the trusted source in a sea of information. After all, you don’t need to know everything, only what’s important.\\n\\nMore from Ars\\n\\nAbout Us\\nStaff Directory\\nNewsletters\\nArs Videos\\nGeneral FAQ\\nRSS Feeds\\n\\nContact\\n\\nContact us\\nAdvertise with us\\nReprints\\n\\nDo Not Sell My Personal Information\\n© 2024 Condé Nast. All rights reserved. Use of and/or registration on any portion of this site constitutes acceptance of our User Agreement and Privacy Policy and Cookie Statement and Ars Technica Addendum and Your California Privacy Rights. Ars Technica may earn compensation on sales from links on this site. Read our affiliate link policy. The material on this site may not be reproduced, distributed, transmitted, cached or otherwise used, except with the prior written permission of Condé Nast. Ad Choices\\nSearch dialog...\\nSign in dialog...\\nSign in\"}, {\"title\": \"OpenAI's 12 days of 'ship-mas': all the new announcements\", \"url\": \"https://www.theverge.com/24314146/openai-12-days-ship-mas-chatgpt-sora-o1-update\", \"content\": \"OpenAI’s 12 days of “ship-mas” have officially begun, with the company set to reveal some new features, products, and demos during all 12 days starting December 5th, just a few days shy of the second anniversary of ChatGPT’s explosive launch in 2022. The announcements will include OpenAI’s long-awaited text-to-video AI tool Sora and a new reasoning model, sources familiar with OpenAI’s plans tell The Verge. As a valued user, we are providing you the ability to opt-out from the sharing of your personal information to advertisers and social media companies at any time across business platform, services, businesses and devices. These cookies are set by a range of social media services that we have added to the site to enable you to share our content with your friends and networks.\", \"score\": 0.69820654, \"raw_content\": \"OpenAI’s 12 days of ‘ship-mas:’ all the new announcements - The Verge\\nSkip to main content\\nThe Verge homepage\\n\\nThe Verge homepage/\\nTech/\\nReviews/\\nScience/\\nEntertainment/\\nAI/\\nMoreMenu\\n\\n\\nMenu\\nFiled under:\\n\\nOpenAI\\n\\nUpdated Today, Dec 5, 2024, 6:21 PM UTC\\nOpenAI’s 12 days of ‘ship-mas:’ all the new announcements\\nBy Kylie Robison, a senior AI reporter working with The Verge's policy and tech teams. She previously worked at Fortune Magazine and Business Insider.\\nShare this story\\n\\n\\n\\n\\n0 Comments / 0 New\\nOpenAI’s 12 days of “ship-mas” have officially begun, with the company set to reveal some new features, products, and demos during all 12 days starting December 5th, just a few days shy of the second anniversary of ChatGPT’s explosive launch in 2022. According to the company, ChatGPT now has over 300 million weekly users.\\nThe event started with the release of its improved OpenAI o1 reasoning model out of preview, along with a new $200 ChatGPT Pro subscription that offers unlimited access to GPT-4o, Advanced Voice Mode, and an exclusive version of o1 that Sam Altman says “can think even harder for the hardest problems.”\\nSources tell The Verge that OpenAI will also launch Sora, its text-to-video AI generator. There’s likely a lot more to come, and we’re keeping track of all the announcements from OpenAI.\\nYou can follow along below as we continue to report on all the latest updates.\\n\\n\\n\\nTODAY, 6:00 PM UTC\\nKylie Robison\\nOpenAI’s ‘ship-mas’ starts with $200 ChatGPT Pro subscription\\n\\nImage: OpenAI\\nOpenAI is creating a new, more expensive tier for its flagship chatbot ChatGPT, and is bringing its “reasoning” model series out of preview with an update.\\nThe company is releasing the full version of its o1 model (replacing o1-preview), which was initially released as a limited preview in September (code-named ‘Strawberry’). The new model will be available for ChatGPT Plus and Team users today, while Enterprise and Edu users will have access to it starting next week.\\nRead Article >\\n\\n\\n\\nDec 4\\nEmma Roth\\nChatGPT now has over 300 million weekly users\\n\\nImage: The Verge\\nChatGPT now has over 300 million people using the AI chatbot each week. OpenAI CEO Sam Altman revealed the milestone during The New York Times’ DealBook Summit on Wednesday, which comes just months after ChatGPT hit 200 million weekly users in August.\\n“Our product has scaled ... now we have more than 300 million weekly active users,” Altman said. “We have users sending more than 1 billion messages per day to ChatGPT.”\\nRead Article >\\n\\n\\n\\nDec 4\\nTom Warren and Kylie Robison\\nOpenAI’s 12 days of ‘shipmas’ include Sora and new reasoning model\\n\\nImage: Alex Parkin / The Verge\\nHappy holidays from OpenAI. The AI startup plans to kick off a “shipmas” period of new features, products, and demos for 12 days, starting on December 5th. The announcements will include OpenAI’s long-awaited text-to-video AI tool Sora and a new reasoning model, sources familiar with OpenAI’s plans tell The Verge.\\nOpenAI CEO Sam Altman confirmed the 12 days of announcements onstage at The New York Times’ DealBook conference on Wednesday morning, though he didn’t say exactly what was coming. OpenAI plans to launch or demo something every day for 12 days straight.\\nRead Article >\\n\\n\\nVerge Deals\\n/ Sign up for Verge Deals to get deals on products we've tested sent to your inbox weekly.\\nEmail (required)Sign up\\nBy submitting your email, you agree to our Terms and Privacy Notice. This site is protected by reCAPTCHA and the Google Privacy Policy and Terms of Service apply.\\nFrom our sponsor\\n\\nAdvertiser Content From\\n\\nSPONSORED CONTENT\\n\\n Donald Trump and Tulsi Gabbard are coming for the spooks The Economist Learn More  Ad is Hidden Please tell us why you hid this ad? * Inappropriate * Misleading * Misinformation * Repetitive * Irrelevant * Distracting\\n Costco's Clearing Out These Items Next. Stock Up On Deals While Supplies Last. Sponsored links  Ad is Hidden Please tell us why you hid this ad? * Inappropriate * Misleading * Misinformation * Repetitive * Irrelevant * Distracting\\n A New SUV for Seniors in 2024 Is Cheaper Than You Might Imagine PopularSearches | Search Ads Learn More  Ad is Hidden Please tell us why you hid this ad? * Inappropriate * Misleading * Misinformation * Repetitive * Irrelevant * Distracting\\n Empty Alaska Cruise Cabins For Sale Now (See Prices) SearchTopics | Search Ads Learn More  Ad is Hidden Please tell us why you hid this ad? * Inappropriate * Misleading * Misinformation * Repetitive * Irrelevant * Distracting\\n The All New Mind Blowing Toyota RAV4 Hybrid Is Finally Here (Take a Look) FavoriteSearches | Search Ads  Ad is Hidden Please tell us why you hid this ad? * Inappropriate * Misleading * Misinformation * Repetitive * Irrelevant * Distracting\\n [Pics] Couple Splurged $1.7M On This Motorhome, Take A Look Inside! Little Fries  Ad is Hidden Please tell us why you hid this ad? * Inappropriate * Misleading * Misinformation * Repetitive * Irrelevant * Distracting\\n\\n\\nDo Not Sell or Share My Personal Data\\nTerms of Use\\nPrivacy Notice\\nCookie Policy\\nLicensing FAQ\\nAccessibility\\nPlatform Status\\n\\nHow We Rate and Review Products\\n\\n\\nContact\\n\\nTip Us\\nCommunity Guidelines\\nAbout\\nEthics Statement\\n\\nThe Verge is a vox media network\\n\\nAdvertise with us\\nJobs @ Vox Media\\n\\n© 2024 Vox Media, LLC. All Rights Reserved\\n\\nYour Opt Out Preference Signal is Honored\\nPrivacy Center\\nWhen you visit our website, we store cookies on your browser to collect information. The information collected might relate to you, your preferences or your device, and is mostly used to make the site work as you expect it to and to provide a more personalized web experience. However, you can choose not to allow certain types of cookies, which may impact your experience of the site and the services we are able to offer. Click on the different category headings to find out more and change our default settings according to your preference. You cannot opt-out of our First Party Strictly Necessary Cookies as they are deployed in order to ensure the proper functioning of our website (such as prompting the cookie banner and remembering your settings, to log into your account, to redirect you when you log out, etc.). For more information about the First and Third Party Cookies used please follow this link.\\nCookie Policy Vendor List\\nAllow All\\nManage Consent Preferences\\nStrictly Necessary Cookies\\nEssential\\nThese cookies are necessary for the website to function and cannot be switched off in our systems. They are usually only set in response to actions made by you which amount to a request for services, such as setting your privacy preferences, logging in or filling in forms. You can set your browser to block or alert you about these cookies, but some parts of the site will not then work. These cookies do not store any personally identifiable information.\\n\\n\\nFunctional Cookies\\nEssential\\nThese cookies enable the website to provide enhanced functionality and personalisation. They may be set by us or by third party providers whose services we have added to our pages. If you do not allow these cookies then some or all of these services may not function properly.\\n\\n\\nPerformance Cookies\\nEssential\\nThese cookies allow us to count visits and traffic sources so we can measure and improve the performance of our site. They help us to know which pages are the most and least popular and see how visitors move around the site. All information these cookies collect is aggregated and therefore anonymous. If you do not allow these cookies we will not know when you have visited our site, and will not be able to monitor its performance.\\n\\n\\nView Vendor Details‎\\nOpt Out of Sale or Sharing/Targeted Advertising\\nOpt Out of Sale or Sharing/Targeted Advertising\\nAs a valued user, we are providing you the ability to opt-out from the sharing of your personal information to advertisers and social media companies at any time across business platform, services, businesses and devices. You can opt-out of the sharing of your personal information by using this toggle switch. For more information on your rights and options see our privacy notice.\\n\\n\\nSocial Media Cookies\\nSwitch Label\\nThese cookies are set by a range of social media services that we have added to the site to enable you to share our content with your friends and networks. They are capable of tracking your browser across other sites and building up a profile of your interests. This may impact the content and messages you see on other websites you visit. If you do not allow these cookies you may not be able to use or see these sharing tools.\\n\\n\\nTargeting Cookies\\nSwitch Label\\nThese cookies may be set through our site by our advertising partners. They may be used by those companies to build a profile of your interests and show you relevant adverts on other sites. They do not store directly personal information, but are based on uniquely identifying your browser and internet device. If you do not allow these cookies, you will experience less targeted advertising.\\n\\n\\nView Vendor Details‎\\nVendors List\\nClear\\ncheckbox label label\\nApply Cancel\\nConsent Leg.Interest\\ncheckbox label label\\ncheckbox label label\\ncheckbox label label\\nConfirm My Choices\\n\\n\"}, {\"title\": \"Product - OpenAI\", \"url\": \"https://openai.com/news/product/\", \"content\": \"Discover the latest product advancements from OpenAI and the ways they're being used by individuals and businesses.\", \"score\": 0.6682966, \"raw_content\": null}, {\"title\": \"OpenAI's Latest Releases - Carson Group\", \"url\": \"https://www.carsongroup.com/insights/blog/openais-latest-releases/\", \"content\": \"OpenAI’s Latest Releases - Carson Group By joining an existing Carson Partner firm, you get to focus on the work you love without the burden of ownership. Carson Group is an RIA and powerful platform for financial advisors to find their freedom. We take pride in building the best team in the business, and our partners know that the industry thought leaders are working on their behalf. Carson Group resources for financial advisors. Stay on top of market trends with the Carson Investment Research Newsletter. The Carson Investment Research newsletter offers up-to-date market news, analysis and insights. LinkedIn Twitter Facebook Instagram Youtube LinkedIn Twitter Facebook Instagram Youtube Carson Partners offers investment advisory services through CWM, LLC, an SEC Registered Investment Advisor.\", \"score\": 0.59089786, \"raw_content\": \"OpenAI’s Latest Releases - Carson Group\\n\\nAbout\\nContact\\n\\n\\nLogin\\n\\n\\n\\nWhy Carson\\nWhy Carson\\nBeing a Carson Partner means both being independent and having access to world-class support.\\nLearn More\\n\\n#### Run Your Business Proven Processes, Great Platforms\\n\\nTechnology\\nCompliance\\nOperations\\nInvestments\\nHR Support & Next Gen\\n\\n\\n#### Grow Your Business Build Your Bottom Line\\n\\nMarketing\\nM&A Support\\nFinancial Planning\\n\\n\\n#### Love Your Business Find Your Freedom\\n\\nDelegate & Elevate\\nSuccession Planning\\nBusiness Coaching & Training\\nCommunity\\n\\n\\n\\nCommunity\\nCommunity\\nAn inspiring network of growing financial advisors creating impact in their communities.\\nLearn More\\n\\n#### Coaching A Proven Roadmap\\nExecutive Business Coaching\\nCarson Coaching Online\\nGroup Coaching\\n\\n#### Partners Network With Peers\\nGrowing a business is hard. But with the support of a network of peers -- and regular opportunities to learn from the strategies and tactics working in their own offices -- it gets a whole lot easier.\\n\\n#### Events Learn and Connect\\nWhether it's our big annual Excell Conference, our women in wealth management conference or a partners-only training webinar, we've got every need covered.\\n\\n#### Community Impact Make a Difference\\nAt Carson, giving back is part of our core. And we not only say our partners should make a difference, but twice a year we honor partners who've done exemplary community service work.\\n\\n\\nWays to Join\\nWays to Join\\nPartnership options to suit your unique situation\\nLearn More\\n\\n#### Coaching A Proven Roadmap\\nExecutive Business Coaching\\nCarson Coaching Online\\nGroup Coaching\\n\\n#### Partnership Your Brand. Our Support.\\nTo reach the next level of growth, you need to delegate and elevate yourself to CEO. We help do that while giving you the freedom to maintain full ownership.\\n\\n#### Join a Partner Tuck-in. Grow Together.\\nBy joining an existing Carson Partner firm, you get to focus on the work you love without the burden of ownership.\\n\\n#### Minority Investment Control Plus Capital\\nWant national brand recognition and an infusion of capital? Explore taking on the Carson Wealth name while keeping a majority stake in your firm.\\n\\n#### Full Acquisition Sell Your Firm\\nLooking for a succession solution? When you sell your firm to Carson, you join a company with a mission to be the most trusted in financial advice.\\n\\n\\nAbout\\nAbout\\nCarson Group is an RIA and powerful platform for financial advisors to find their freedom.\\nLearn More\\n\\n#### Team Our Greatest Asset\\nWe take pride in building the best team in the business, and our partners know that the industry thought leaders are working on their behalf.\\n\\n#### Newsroom Making Headlines.\\nWhen you do great work, people notice. See the latest examples of Carson's coverage in the national press.\\n\\n#### Careers Culture and Opportunity.\\nWe're constantly on the lookout to help others grow in within their profession. Come learn about life at Carson.\\n\\n#### Books From Our Thought Leaders.\\nWe don't just talk about our ideas — we write them down, too! Explore and get inspired by our latest published works.\\n\\n\\nInsights\\nInsights\\nCarson Group resources for financial advisors. Browse blogs, guides, books, podcasts, and more.\\nLearn More\\n\\n#### Valuation Calculator Know Your Business’ Worth\\nInterested in selling to or merging with another advisor? Our business valuation calculator can help you better understand your firm's value.\\n\\n#### Framework Practice Management Podcast\\nExploring the financial services profession, talking with top names in the industry and tackling some of the biggest issues.\\n\\n#### Facts vs. Feelings Market Strategy Podcast\\nA deep dive into the market-moving events to cut through the noise and help you identify what really matters.\\n\\n#### Investment Newsletter From Our Thought Leaders\\nStay on top of market trends with the Carson Investment Research Newsletter.\\n\\n\\nGet Started\\n\\n\\nInvestments |\\nEstimated reading time: 2 min\\nDecember 23, 2024\\nOpenAI’s Latest Releases\\n\\nArticle by Blake Anderson\\n\\nLinkedIn\\nTwitter\\nFacebook\\nEmail\\nPrint\\n\\nBy Blake Anderson, CFA®, Senior Analyst, Investment\\nOpenAI has recently expanded its suite of AI tools and adjusted its subscription offerings to cater to a diverse user base. The company, with a reported 500 million monthly active users, is taking bold steps to increase monetization of the company’s intelligence products while also adding capabilities. Their latest innovations include Sora, a text-to-video offering, and ChatGPT Pro, an offering which includes its o1 and other powerful reasoning models.\\nHeadlining this week’s releases from OpenAI is Sora, a text-to-video model that enhances OpenAI’s suite of multimodal offerings. Sora began testing back in February and has only been accessible to selected approved users since launch. Starting this week, Sora became available to certain OpenAI subscribers. It allows users to generate up to 20-second-long videos and gives them the ability to animate still images and remix videos. OpenAI also noted the company has plans to further refine the offering, including enhanced safety and deepfake mitigation, before releasing an even more powerful text to video offering. Sora’s release marks another step forward for OpenAI’s capabilities.\\nInvestors in OpenAI also cheered the release, with access to Sora only available to ChatGPT Plus and Pro subscribers. These subscription tiers currently cost $20 per month for Plus and $200 per month for Pro. The company is leaving access to most of its basic models at no cost, but investors have been eagerly awaiting the release of these more powerful models to build a paying member base. I recently wrote about OpenAI’s latest capital raise and highlighted the company’s ambitious revenue forecasts in documents seen by potential investors. It appears the company is taking their first steps to hit some of the revenue goals they believe are possible with their intelligence offerings.\\nOpenAI’s recent product launches and subscription adjustments reflect its commitment to providing cutting-edge AI tools tailored to a wide range of users. By introducing Sora and the ChatGPT Pro tier, OpenAI continues to advance the accessibility and application of artificial intelligence across various sectors.\\n\\nStay on Top of Market Trends\\nThe Carson Investment Research newsletter offers up-to-date market news, analysis and insights. Subscribe today!\\n\\\"*\\\" indicates required fields\\nFirst Name*\\nFirst\\nEmail*\\nCAPTCHA\\nComments\\nThis field is for validation purposes and should be left unchanged.\\nFor more content by Blake Anderson, Senior Analyst, Investment click here.\\n02552546-1224-A\\nGet in Touch\\nWe'd love to learn a bit more about your situation, then set up a complimentary consultation to review how we can help you and your business.\\nContact Us\\nStay Connected\\n\\nLinkedIn\\nTwitter\\nFacebook\\nInstagram\\nYoutube\\n\\nLatest Posts\\n\\n7 Policy Mistakes That Could Undermine Our Bullish Policy Outlook\\n6 Nominees for 2024 Chart of the Year\\nThe Thriving Advisor with Dr. Phil Pearlman\\nSeven Important Things to Remember in 2025\\nA Magnificent Year\\n\\n\\nMidyear Outlook 2024: Eyes on the Prize\\nThe economy is off to a strong start in 2024, with a strong employment picture and the Dow crossing 40,000 for the first time. Will it stay that way? Read It Now\\nRelated Content\\n\\nInvestments |\\nEstimated reading time: 11 min\\n7 Policy Mistakes That Could Undermine Our Bullish Policy Outlook\\nArticle by Barry Gilbert\\n“If pro is the opposite of con, does that make progress the opposite of Congress?” -famous quip The 119th Congress is being sworn in today, with Republicans taking over majority leadership in the Senate and holding onto the House with the narrowest majority in the history of the Republican party. So we thought it would …\\n\\nInvestments |\\nEstimated reading time: 7 min\\n6 Nominees for 2024 Chart of the Year\\nArticle by Barry Gilbert\\nWell, that’s a wrap on 2024. The S&P 500 finished the year with a total return of 25%, the second consecutive year over 20%, which hasn’t happened since 1998 and 1999. (Lest the bubble brigade raise an eyebrow at that last year, that was the fifth consecutive year of a total return over 20%.) There’s …\\n\\nInvestments |\\n45 Mins\\nThe Thriving Advisor with Dr. Phil Pearlman\\nPodcast by Ryan Detrick\\nHow can advisors truly thrive in their personal and professional lives? Dr. Phil Pearlman brings a refreshing perspective, blending psychology, health, and financial strategy to empower advisors to achieve peak performance. In this episode, Ryan Detrick, Chief Market Strategist at Carson Group, and Sonu Varghese, VP, Global Macro Strategist at Carson Group, sit down with …\\n\\nCarson Group\\n14600 Branch Street\\nOmaha, Nebraska 68154  \\n(888) 321-0808\\n\\nContact Us\\nLinkedIn Twitter Facebook Instagram Youtube\\nWhy Carson\\n\\nRun Your Business\\nTechnology\\nCompliance\\nOperations\\nInvestments\\n\\nHR Support & Next Gen\\n\\n\\nGrow Your Business\\n\\nMarketing\\nM&A Support\\n\\nFinancial Planning\\n\\n\\nLove Your Business\\n\\nDelegate & Elevate\\nSuccession Planning\\nBusiness Coaching & Training\\nCommunity\\n\\nCommunity\\n\\nPartners\\nEvents\\nCommunity Impact\\n\\nHow To Join\\n\\nPartnership\\nJoining a Partner\\nMinority Investment\\nFull Acquisition\\n\\nAbout\\n\\nTeam\\nNewsroom\\nCareers\\nMedia Kit\\nBooks\\nClient Summary\\n\\nInsights\\n\\nBlog\\nValuation Calculator\\nFramework\\nFacts vs. Feelings\\nInvestment Newsletter\\n\\nLinkedIn Twitter Facebook Instagram Youtube\\nContact Us\\nAlso of Interest\\n\\nStreamlining Business Operations for Financial Advisors\\nSmart Succession Planning for Financial Advisors\\nInvestment Platform Built for Flexibility\\n\\nThe information included herein is for informational purposes and is intended for use by advisors only, and should not be copied, reproduced, or redistributed without consent of CWM, LLC. Carson Partners offers investment advisory services through CWM, LLC, an SEC Registered Investment Advisor. Carson Coaching and CWM, LLC are separate but affiliated companies and wholly-owned subsidiaries of Carson Group Holdings, LLC. Carson Coaching does not provide advisory services.\\nPRIVACY POLICY | TERMS OF SERVICE\"}, {\"title\": \"12 Days of OpenAI - Release Updates - OpenAI Help Center\", \"url\": \"https://help.openai.com/en/articles/10271060-12-days-of-openai-release-updates\", \"content\": \"Available to all ChatGPT users. Canvas is available to all ChatGPT users on Web and Windows, and coming soon to Mac and mobile platforms (iOS, Android, mobile web). What is the canvas feature in ChatGPT and how do I use it? We are slowly enabling access to ChatGPT Plus and Pro users. This is currently not available on ChatGPT Free, Team, Enterprise, and Edu. Our video generation model is rolling out at sora.com⁠. o1 Pro Mode is only available on ChatGPT Pro. Today, we’re adding ChatGPT Pro, a $200 monthly plan that enables scaled access to the best of OpenAI’s models and tools. Using OpenAI o1 models and GPT-4o models on ChatGPT\", \"score\": 0.49919498, \"raw_content\": \"12 Days of OpenAI - Release Updates | OpenAI Help Center\\nSkip to main content\\n\\nEnglish\\nEnglish\\nTable of contents\\n\\n\\n\\n\\n\\n\\n\\n\\n\\n\\nAll Collections\\nChatGPT\\n12 Days of OpenAI - Release Updates\\n12 Days of OpenAI - Release Updates\\nRelease notes on all things released during the 12 Days of OpenAI.\\nUpdated today\\nTable of contents\\n\\n\\n\\n\\n\\n\\n\\n\\n\\n\\nApple Intelligence (December 11)\\nAvailable to all ChatGPT users.\\n​\\nUsers must meet the following requirements to access:\\n\\n\\niPhone 16, iPhone 16 Plus, iPhone 16 Pro, iPhone 16 Pro Max, iPhone 15 Pro, or iPhone 15 Pro Max; any iPad with A17 Pro or M1 and later; Mac with M1 or later\\n\\n\\niOS 18.1, iPadOS 18.1, or macOS Sequoia 15.1\\n\\n\\nIf you use an Enterprise or Team ChatGPT account and are unable to sign into the Apple Intelligence ChatGPT integration with it, please contact your ChatGPT workspace administrator.\\nApple Intelligence is the personal intelligence system deeply integrated into iPhone, iPad and Mac that helps users communicate, work, and express themselves. It combines generative models with personal context to deliver intelligence that is most useful and personal, while protecting user’s privacy at every step.\\nApple is integrating ChatGPT into several experiences within iOS, iPadOS, and macOS, allowing users to access its expertise — as well as its image and document-understanding capabilities — without needing to jump between tools.\\nResources\\nApple Intelligence - Help Center Collection\\nCanvas (December 10)\\nCanvas is available to all ChatGPT users on Web and Windows, and coming soon to Mac and mobile platforms (iOS, Android, mobile web).\\nToday we made Canvas available in 4o by default for all users, Free and Paid. Additionally, we launched a number of new capabilities for canvas, including:\\n\\n\\nCanvas in GPTs: Canvas can now be used with GPTs when enabled in the GPT creator. This toggle will be enabled for newly created GPTs by default.\\n\\n\\nPython code execution: You can now execute Python code in a canvas. ChatGPT will take a pass on fixing bugs in your code and provide comments on errors.\\n    ​\\n\\n\\nCanvas shortcuts: You can now paste content into ChatGPT and instantly open it in canvas via a shortcut in the upper right corner of the composer. Canvas has also been added as an option in the toolbox.\\n\\n\\nResources\\nWhat is the canvas feature in ChatGPT and how do I use it?\\nSora (December 9)\\nWe are slowly enabling access to ChatGPT Plus and Pro users. Please stay tuned!\\nThis is currently not available on ChatGPT Free, Team, Enterprise, and Edu.\\nOur video generation model is rolling out at sora.com⁠.\\n​\\nEarlier this year, we introduced Sora⁠, our model that can create realistic videos from text, and shared our initial research progress⁠ on world simulation. Sora serves as a foundation for AI that understands and simulates reality—an important step towards developing models that can interact with the physical world.\\n​\\nResources\\nSora - Help Center Collection\\nReinforcement Fine-Tuning (December 6)\\nIn this alpha phase, we are working with select participants to gather feedback on how this feature can be used effectively and responsibly. At this time, we do not have a timeline or additional details to share on broader public availability.\\nWe’re expanding our Reinforcement Fine-Tuning Research Program to enable developers and machine learning engineers to create expert models fine-tuned to excel at specific sets of complex, domain-specific tasks.\\nThis new model customization technique enables developers to customize our models using dozens to thousands of high quality tasks and grade the model’s response with provided reference answers. This technique reinforces how the model reasons through similar problems and improves its accuracy on specific tasks in that domain.\\nResources\\nHow to access Reinforcement Fine-Tuning?\\nChatGPT Pro, o1, and o1 Pro Mode (December 5)\\nChatGPT Pro plans are fully available for purchase. o1 Pro Mode is only available on ChatGPT Pro.\\nToday, we’re adding ChatGPT Pro, a $200 monthly plan that enables scaled access to the best of OpenAI’s models and tools. This plan includes unlimited access to our smartest model, OpenAI o1, as well as to o1-mini, GPT-4o, and Advanced Voice. It also includes o1 pro mode, a version of o1 that uses more compute to think harder and provide even better answers to the hardest problems. In the future, we expect to add more powerful, compute-intensive productivity features to this plan.\\nResources\\nWhat is ChatGPT Pro?\\nUsing OpenAI o1 models and GPT-4o models on ChatGPT\\n\\nRelated Articles\\nWhat is the ChatGPT model selector?Model Release NotesOpenAI o1 and o1-mini Usage Limits on ChatGPT and the APIUsing OpenAI o1 models and GPT-4o models on ChatGPTOpenAI o1 models - FAQ [ChatGPT Enterprise and Edu]\\nDid this answer your question?\\n😞😐😃\\n\\n\\nChatGPT\\nAPI\\nDALL·E\\n\\nService Status\\n\\n\\n\\n\\n\\n\"}], \"response_time\": 2.89}\n",
            "==================================\u001b[1m Ai Message \u001b[0m==================================\n",
            "\n",
            "OpenAI has recently announced a series of product releases as part of their \"12 days of shipmas\" event, which began on December 5, 2024. Here are some of the key highlights:\n",
            "\n",
            "1. **Sora**: OpenAI is launching its long-awaited text-to-video AI tool, Sora. This tool allows users to generate up to 20-second-long videos, animate still images, and remix videos. Initially, Sora was available only to selected users, but it is now being rolled out to certain OpenAI subscribers.\n",
            "\n",
            "2. **ChatGPT Pro**: OpenAI introduced a new subscription tier called ChatGPT Pro, priced at $200 per month. This plan offers unlimited access to OpenAI's most advanced models, including the o1 reasoning model and GPT-4o, along with features like Advanced Voice Mode.\n",
            "\n",
            "3. **o1 Reasoning Model**: The full version of OpenAI's o1 reasoning model has been released, replacing the previous o1-preview. This model is available to ChatGPT Plus and Team users, with Enterprise and Edu users gaining access soon.\n",
            "\n",
            "4. **Canvas Feature**: OpenAI has made the Canvas feature available to all ChatGPT users on Web and Windows, with plans to expand to Mac and mobile platforms. This feature includes capabilities like Python code execution and shortcuts for easier content management.\n",
            "\n",
            "5. **Reinforcement Fine-Tuning**: OpenAI is expanding its Reinforcement Fine-Tuning Research Program, allowing developers to create expert models fine-tuned for specific tasks. This feature is currently in the alpha phase with select participants.\n",
            "\n",
            "These releases reflect OpenAI's commitment to advancing AI technology and making it accessible to a wide range of users. For more detailed information, you can check the [Ars Technica](https://arstechnica.com/ai/2024/12/openai-teases-12-days-of-mystery-product-launches-starting-tomorrow/) and [The Verge](https://www.theverge.com/24314146/openai-12-days-ship-mas-chatgpt-sora-o1-update) articles.\n"
          ]
        }
      ]
    },
    {
      "cell_type": "code",
      "source": [
        "event['messages'][-1]"
      ],
      "metadata": {
        "colab": {
          "base_uri": "https://localhost:8080/"
        },
        "id": "ICTlpMAqnL8L",
        "outputId": "07dbb9e8-5f69-4f5e-dc51-ee5e19c91ac3"
      },
      "id": "ICTlpMAqnL8L",
      "execution_count": 18,
      "outputs": [
        {
          "output_type": "execute_result",
          "data": {
            "text/plain": [
              "AIMessage(content='OpenAI has recently announced a series of product releases as part of their \"12 days of shipmas\" event, which began on December 5, 2024. Here are some of the key highlights:\\n\\n1. **Sora**: OpenAI is launching its long-awaited text-to-video AI tool, Sora. This tool allows users to generate up to 20-second-long videos, animate still images, and remix videos. Initially, Sora was available only to selected users, but it is now being rolled out to certain OpenAI subscribers.\\n\\n2. **ChatGPT Pro**: OpenAI introduced a new subscription tier called ChatGPT Pro, priced at $200 per month. This plan offers unlimited access to OpenAI\\'s most advanced models, including the o1 reasoning model and GPT-4o, along with features like Advanced Voice Mode.\\n\\n3. **o1 Reasoning Model**: The full version of OpenAI\\'s o1 reasoning model has been released, replacing the previous o1-preview. This model is available to ChatGPT Plus and Team users, with Enterprise and Edu users gaining access soon.\\n\\n4. **Canvas Feature**: OpenAI has made the Canvas feature available to all ChatGPT users on Web and Windows, with plans to expand to Mac and mobile platforms. This feature includes capabilities like Python code execution and shortcuts for easier content management.\\n\\n5. **Reinforcement Fine-Tuning**: OpenAI is expanding its Reinforcement Fine-Tuning Research Program, allowing developers to create expert models fine-tuned for specific tasks. This feature is currently in the alpha phase with select participants.\\n\\nThese releases reflect OpenAI\\'s commitment to advancing AI technology and making it accessible to a wide range of users. For more detailed information, you can check the [Ars Technica](https://arstechnica.com/ai/2024/12/openai-teases-12-days-of-mystery-product-launches-starting-tomorrow/) and [The Verge](https://www.theverge.com/24314146/openai-12-days-ship-mas-chatgpt-sora-o1-update) articles.', additional_kwargs={'refusal': None}, response_metadata={'token_usage': {'completion_tokens': 431, 'prompt_tokens': 7625, 'total_tokens': 8056, 'completion_tokens_details': {'accepted_prediction_tokens': 0, 'audio_tokens': 0, 'reasoning_tokens': 0, 'rejected_prediction_tokens': 0}, 'prompt_tokens_details': {'audio_tokens': 0, 'cached_tokens': 0}}, 'model_name': 'gpt-4o-2024-08-06', 'system_fingerprint': 'fp_50cad350e4', 'finish_reason': 'stop', 'logprobs': None}, id='run-b5308938-c9a6-4303-a59d-b0ec89698be3-0', usage_metadata={'input_tokens': 7625, 'output_tokens': 431, 'total_tokens': 8056, 'input_token_details': {'audio': 0, 'cache_read': 0}, 'output_token_details': {'audio': 0, 'reasoning': 0}})"
            ]
          },
          "metadata": {},
          "execution_count": 18
        }
      ]
    },
    {
      "cell_type": "code",
      "source": [
        "from IPython.display import display, Markdown\n",
        "\n",
        "display(Markdown(event['messages'][-1].content))"
      ],
      "metadata": {
        "id": "T4h42-u94Jmb",
        "colab": {
          "base_uri": "https://localhost:8080/",
          "height": 324
        },
        "outputId": "6e2b715e-849d-47fd-c639-eafcdcae93b4"
      },
      "id": "T4h42-u94Jmb",
      "execution_count": 19,
      "outputs": [
        {
          "output_type": "display_data",
          "data": {
            "text/plain": [
              "<IPython.core.display.Markdown object>"
            ],
            "text/markdown": "OpenAI has recently announced a series of product releases as part of their \"12 days of shipmas\" event, which began on December 5, 2024. Here are some of the key highlights:\n\n1. **Sora**: OpenAI is launching its long-awaited text-to-video AI tool, Sora. This tool allows users to generate up to 20-second-long videos, animate still images, and remix videos. Initially, Sora was available only to selected users, but it is now being rolled out to certain OpenAI subscribers.\n\n2. **ChatGPT Pro**: OpenAI introduced a new subscription tier called ChatGPT Pro, priced at $200 per month. This plan offers unlimited access to OpenAI's most advanced models, including the o1 reasoning model and GPT-4o, along with features like Advanced Voice Mode.\n\n3. **o1 Reasoning Model**: The full version of OpenAI's o1 reasoning model has been released, replacing the previous o1-preview. This model is available to ChatGPT Plus and Team users, with Enterprise and Edu users gaining access soon.\n\n4. **Canvas Feature**: OpenAI has made the Canvas feature available to all ChatGPT users on Web and Windows, with plans to expand to Mac and mobile platforms. This feature includes capabilities like Python code execution and shortcuts for easier content management.\n\n5. **Reinforcement Fine-Tuning**: OpenAI is expanding its Reinforcement Fine-Tuning Research Program, allowing developers to create expert models fine-tuned for specific tasks. This feature is currently in the alpha phase with select participants.\n\nThese releases reflect OpenAI's commitment to advancing AI technology and making it accessible to a wide range of users. For more detailed information, you can check the [Ars Technica](https://arstechnica.com/ai/2024/12/openai-teases-12-days-of-mystery-product-launches-starting-tomorrow/) and [The Verge](https://www.theverge.com/24314146/openai-12-days-ship-mas-chatgpt-sora-o1-update) articles."
          },
          "metadata": {}
        }
      ]
    }
  ],
  "metadata": {
    "kernelspec": {
      "display_name": "Python 3 (ipykernel)",
      "language": "python",
      "name": "python3"
    },
    "language_info": {
      "codemirror_mode": {
        "name": "ipython",
        "version": 3
      },
      "file_extension": ".py",
      "mimetype": "text/x-python",
      "name": "python",
      "nbconvert_exporter": "python",
      "pygments_lexer": "ipython3",
      "version": "3.12.1"
    },
    "colab": {
      "provenance": []
    }
  },
  "nbformat": 4,
  "nbformat_minor": 5
}